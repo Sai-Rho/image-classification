{
 "cells": [
  {
   "cell_type": "markdown",
   "metadata": {},
   "source": [
    "# Web Scraping Sarees"
   ]
  },
  {
   "cell_type": "markdown",
   "metadata": {},
   "source": [
    "Installing selenium"
   ]
  },
  {
   "cell_type": "code",
   "execution_count": 1,
   "metadata": {},
   "outputs": [
    {
     "name": "stdout",
     "output_type": "stream",
     "text": [
      "Requirement already satisfied: selenium in c:\\users\\sai\\anaconda3\\lib\\site-packages (3.141.0)\n",
      "Requirement already satisfied: urllib3 in c:\\users\\sai\\anaconda3\\lib\\site-packages (from selenium) (1.25.11)\n"
     ]
    }
   ],
   "source": [
    "!pip install selenium"
   ]
  },
  {
   "cell_type": "markdown",
   "metadata": {},
   "source": [
    "Importing required library"
   ]
  },
  {
   "cell_type": "code",
   "execution_count": 2,
   "metadata": {},
   "outputs": [],
   "source": [
    "from selenium import webdriver\n",
    "from selenium.webdriver.common.keys import Keys\n",
    "import pandas as pd\n",
    "import os\n",
    "import time\n",
    "import shutil\n",
    "import requests"
   ]
  },
  {
   "cell_type": "markdown",
   "metadata": {},
   "source": [
    "Configuring webdriver to use the chrome browser"
   ]
  },
  {
   "cell_type": "code",
   "execution_count": 3,
   "metadata": {},
   "outputs": [],
   "source": [
    "driver = webdriver.Chrome('C:/Users/sai/chromedriver.exe')"
   ]
  },
  {
   "cell_type": "markdown",
   "metadata": {},
   "source": [
    "Getting the url to scrape"
   ]
  },
  {
   "cell_type": "code",
   "execution_count": 4,
   "metadata": {},
   "outputs": [],
   "source": [
    "my_page = driver.get(\"https://www.amazon.in/s?rh=n%3A1968256031&fs=true&ref=lp_1968256031_sar\")"
   ]
  },
  {
   "cell_type": "markdown",
   "metadata": {},
   "source": [
    "# Directory to store images"
   ]
  },
  {
   "cell_type": "code",
   "execution_count": 5,
   "metadata": {},
   "outputs": [],
   "source": [
    "def make_directory(dirname):\n",
    "    current_path=os.getcwd()\n",
    "    path=os.path.join(current_path, dirname)\n",
    "    if not os.path.exists(path):\n",
    "        os.makedirs(path)"
   ]
  },
  {
   "cell_type": "code",
   "execution_count": 6,
   "metadata": {},
   "outputs": [],
   "source": [
    "make_directory(\"saree\")"
   ]
  },
  {
   "cell_type": "markdown",
   "metadata": {},
   "source": [
    "# Scraping images"
   ]
  },
  {
   "cell_type": "code",
   "execution_count": 7,
   "metadata": {},
   "outputs": [
    {
     "name": "stdout",
     "output_type": "stream",
     "text": [
      "60\n"
     ]
    }
   ],
   "source": [
    "images= driver.find_elements_by_xpath(\"//img[@class= 's-image']\")\n",
    "print(len(images))"
   ]
  },
  {
   "cell_type": "code",
   "execution_count": 8,
   "metadata": {},
   "outputs": [
    {
     "name": "stdout",
     "output_type": "stream",
     "text": [
      "https://m.media-amazon.com/images/I/8167oR59stL._AC_UL320_.jpg\n",
      "https://m.media-amazon.com/images/I/91pOuJheqIL._AC_UL320_.jpg\n",
      "https://m.media-amazon.com/images/I/91TjM8QD9RL._AC_UL320_.jpg\n",
      "https://m.media-amazon.com/images/I/919lNOaU-GL._AC_UL320_.jpg\n",
      "https://m.media-amazon.com/images/I/61dbP1wFneL._AC_UL320_.jpg\n",
      "https://m.media-amazon.com/images/I/61AJfE0W64L._AC_UL320_.jpg\n",
      "https://m.media-amazon.com/images/I/61B8o9UlqpL._AC_UL320_.jpg\n",
      "https://m.media-amazon.com/images/I/81XKaSKvlyL._AC_UL320_.jpg\n",
      "https://m.media-amazon.com/images/I/91dDMDg+QTL._AC_UL320_.jpg\n",
      "https://m.media-amazon.com/images/I/71TJ9p46PVL._AC_UL320_.jpg\n",
      "https://m.media-amazon.com/images/I/91Xw4KtmTXL._AC_UL320_.jpg\n",
      "https://m.media-amazon.com/images/I/71DLhI+syxL._AC_UL320_.jpg\n",
      "https://m.media-amazon.com/images/I/61Z45rryn+L._AC_UL320_.jpg\n",
      "https://m.media-amazon.com/images/I/91+hVz1-H5L._AC_UL320_.jpg\n",
      "https://m.media-amazon.com/images/I/81h7PuLq-yL._AC_UL320_.jpg\n",
      "https://m.media-amazon.com/images/I/81gtgtZ31IL._AC_UL320_.jpg\n",
      "https://m.media-amazon.com/images/I/918Ve93krwL._AC_UL320_.jpg\n",
      "https://m.media-amazon.com/images/I/41yv7BQccGL._AC_UL320_.jpg\n",
      "https://m.media-amazon.com/images/I/916ipavYg5L._AC_UL320_.jpg\n",
      "https://m.media-amazon.com/images/I/91Ko73taIuL._AC_UL320_.jpg\n",
      "https://m.media-amazon.com/images/I/81u7FYrQPpL._AC_UL320_.jpg\n",
      "https://m.media-amazon.com/images/I/81j-y-KWb6L._AC_UL320_.jpg\n",
      "https://m.media-amazon.com/images/I/51hw22SU20L._AC_UL320_.jpg\n",
      "https://m.media-amazon.com/images/I/81njj0BFP6L._AC_UL320_.jpg\n",
      "https://m.media-amazon.com/images/I/915YHorqJTL._AC_UL320_.jpg\n",
      "https://m.media-amazon.com/images/I/718ea0qYxxL._AC_UL320_.jpg\n",
      "https://m.media-amazon.com/images/I/61MMt8ziZLL._AC_UL320_.jpg\n",
      "https://m.media-amazon.com/images/I/51vFzNCMVmL._AC_UL320_.jpg\n",
      "https://m.media-amazon.com/images/I/71wffuAyigL._AC_UL320_.jpg\n",
      "https://m.media-amazon.com/images/I/61VImWiu4lL._AC_UL320_.jpg\n",
      "https://m.media-amazon.com/images/I/816QxD6rtyL._AC_UL320_.jpg\n",
      "https://m.media-amazon.com/images/I/91u8GR+QKiL._AC_UL320_.jpg\n",
      "https://m.media-amazon.com/images/I/71BSeRD2cBL._AC_UL320_.jpg\n",
      "https://m.media-amazon.com/images/I/71Uvae5MKfL._AC_UL320_.jpg\n",
      "https://m.media-amazon.com/images/I/71Kt8L4qEoL._AC_UL320_.jpg\n",
      "https://m.media-amazon.com/images/I/71+HgPamOrL._AC_UL320_.jpg\n",
      "https://m.media-amazon.com/images/I/51-7oFhD3EL._AC_UL320_.jpg\n",
      "https://m.media-amazon.com/images/I/61qqS6Hn1TL._AC_UL320_.jpg\n",
      "https://m.media-amazon.com/images/I/91zuC1P0jqL._AC_UL320_.jpg\n",
      "https://m.media-amazon.com/images/I/71t4-HNr3jL._AC_UL320_.jpg\n",
      "https://m.media-amazon.com/images/I/914lshTFBdL._AC_UL320_.jpg\n",
      "https://m.media-amazon.com/images/I/81jjipfftHL._AC_UL320_.jpg\n",
      "https://m.media-amazon.com/images/I/61ThuZ7z1qL._AC_UL320_.jpg\n",
      "https://m.media-amazon.com/images/I/91AkqbLIzmL._AC_UL320_.jpg\n",
      "https://m.media-amazon.com/images/I/61pu-B2TO0L._AC_UL320_.jpg\n",
      "https://m.media-amazon.com/images/I/51WEMnJPGML._AC_UL320_.jpg\n",
      "https://m.media-amazon.com/images/I/811DUYReeRL._AC_UL320_.jpg\n",
      "https://m.media-amazon.com/images/I/917c4qQLVJL._AC_UL320_.jpg\n",
      "https://m.media-amazon.com/images/I/614o2Pm4X3L._AC_UL320_.jpg\n",
      "https://m.media-amazon.com/images/I/91Ggz+E6uNL._AC_UL320_.jpg\n",
      "https://m.media-amazon.com/images/I/71kvLf0JKOL._AC_UL320_.jpg\n",
      "https://m.media-amazon.com/images/I/518nmMcBEdL._AC_UL320_.jpg\n",
      "https://m.media-amazon.com/images/I/916nMK7rdXL._AC_UL320_.jpg\n",
      "https://m.media-amazon.com/images/I/91BJcdyXRML._AC_UL320_.jpg\n",
      "https://m.media-amazon.com/images/I/31eY21G9l2L._AC_UL320_.jpg\n",
      "https://m.media-amazon.com/images/I/81Pxmepi-mL._AC_UL320_.jpg\n",
      "https://m.media-amazon.com/images/I/81B4zLTrVZL._AC_UL320_.jpg\n",
      "https://m.media-amazon.com/images/I/915MmDSIgUL._AC_UL320_.jpg\n",
      "https://m.media-amazon.com/images/I/91pSdzgFl8L._AC_UL320_.jpg\n",
      "https://m.media-amazon.com/images/I/81VhIqsQ1IL._AC_UL320_.jpg\n"
     ]
    }
   ],
   "source": [
    "urls=[]\n",
    "for image in images:\n",
    "    source= image.get_attribute('src')\n",
    "    urls.append(source)\n",
    "    print(source)"
   ]
  },
  {
   "cell_type": "markdown",
   "metadata": {},
   "source": [
    "# Downloading Images\n"
   ]
  },
  {
   "cell_type": "code",
   "execution_count": 9,
   "metadata": {},
   "outputs": [
    {
     "name": "stdout",
     "output_type": "stream",
     "text": [
      "dowmloading 1 of 60 image from page 1\n",
      "dowmloading 2 of 60 image from page 1\n",
      "dowmloading 3 of 60 image from page 1\n",
      "dowmloading 4 of 60 image from page 1\n",
      "dowmloading 5 of 60 image from page 1\n",
      "dowmloading 6 of 60 image from page 1\n",
      "dowmloading 7 of 60 image from page 1\n",
      "dowmloading 8 of 60 image from page 1\n",
      "dowmloading 9 of 60 image from page 1\n",
      "dowmloading 10 of 60 image from page 1\n",
      "dowmloading 11 of 60 image from page 1\n",
      "dowmloading 12 of 60 image from page 1\n",
      "dowmloading 13 of 60 image from page 1\n",
      "dowmloading 14 of 60 image from page 1\n",
      "dowmloading 15 of 60 image from page 1\n",
      "dowmloading 16 of 60 image from page 1\n",
      "dowmloading 17 of 60 image from page 1\n",
      "dowmloading 18 of 60 image from page 1\n",
      "dowmloading 19 of 60 image from page 1\n",
      "dowmloading 20 of 60 image from page 1\n",
      "dowmloading 21 of 60 image from page 1\n",
      "dowmloading 22 of 60 image from page 1\n",
      "dowmloading 23 of 60 image from page 1\n",
      "dowmloading 24 of 60 image from page 1\n",
      "dowmloading 25 of 60 image from page 1\n",
      "dowmloading 26 of 60 image from page 1\n",
      "dowmloading 27 of 60 image from page 1\n",
      "dowmloading 28 of 60 image from page 1\n",
      "dowmloading 29 of 60 image from page 1\n",
      "dowmloading 30 of 60 image from page 1\n",
      "dowmloading 31 of 60 image from page 1\n",
      "dowmloading 32 of 60 image from page 1\n",
      "dowmloading 33 of 60 image from page 1\n",
      "dowmloading 34 of 60 image from page 1\n",
      "dowmloading 35 of 60 image from page 1\n",
      "dowmloading 36 of 60 image from page 1\n",
      "dowmloading 37 of 60 image from page 1\n",
      "dowmloading 38 of 60 image from page 1\n",
      "dowmloading 39 of 60 image from page 1\n",
      "dowmloading 40 of 60 image from page 1\n",
      "dowmloading 41 of 60 image from page 1\n",
      "dowmloading 42 of 60 image from page 1\n",
      "dowmloading 43 of 60 image from page 1\n",
      "dowmloading 44 of 60 image from page 1\n",
      "dowmloading 45 of 60 image from page 1\n",
      "dowmloading 46 of 60 image from page 1\n",
      "dowmloading 47 of 60 image from page 1\n",
      "dowmloading 48 of 60 image from page 1\n",
      "dowmloading 49 of 60 image from page 1\n",
      "dowmloading 50 of 60 image from page 1\n",
      "dowmloading 51 of 60 image from page 1\n",
      "dowmloading 52 of 60 image from page 1\n",
      "dowmloading 53 of 60 image from page 1\n",
      "dowmloading 54 of 60 image from page 1\n",
      "dowmloading 55 of 60 image from page 1\n",
      "dowmloading 56 of 60 image from page 1\n",
      "dowmloading 57 of 60 image from page 1\n",
      "dowmloading 58 of 60 image from page 1\n",
      "dowmloading 59 of 60 image from page 1\n",
      "dowmloading 60 of 60 image from page 1\n"
     ]
    }
   ],
   "source": [
    "page= 1\n",
    "for index, link in enumerate(urls):\n",
    "    print(\"dowmloading {0} of {1} image from page 1\".format(index+1, len(urls)))\n",
    "    response= requests.get(link)\n",
    "    with open('saree/img_{0}{1}.jpeg'.format(index, page), \"wb\") as file:\n",
    "        file.write(response.content)"
   ]
  },
  {
   "cell_type": "markdown",
   "metadata": {},
   "source": [
    "# Moving to the rest of the pages"
   ]
  },
  {
   "cell_type": "markdown",
   "metadata": {},
   "source": [
    "Finding next button and it's x_path"
   ]
  },
  {
   "cell_type": "code",
   "execution_count": 10,
   "metadata": {},
   "outputs": [],
   "source": [
    "np2=driver.find_element_by_xpath(\"//li[@class= 'a-last']//a\").click()"
   ]
  },
  {
   "cell_type": "code",
   "execution_count": 11,
   "metadata": {},
   "outputs": [
    {
     "name": "stdout",
     "output_type": "stream",
     "text": [
      "60\n"
     ]
    }
   ],
   "source": [
    "images= driver.find_elements_by_xpath(\"//img[@class= 's-image']\")   \n",
    "print(len(images))"
   ]
  },
  {
   "cell_type": "code",
   "execution_count": 12,
   "metadata": {},
   "outputs": [
    {
     "name": "stdout",
     "output_type": "stream",
     "text": [
      "https://m.media-amazon.com/images/I/81uXWOleG4L._AC_UL320_.jpg\n",
      "https://m.media-amazon.com/images/I/8167oR59stL._AC_UL320_.jpg\n",
      "https://m.media-amazon.com/images/I/81yZVAI2SuL._AC_UL320_.jpg\n",
      "https://m.media-amazon.com/images/I/81ht48DQklL._AC_UL320_.jpg\n",
      "https://m.media-amazon.com/images/I/916ipavYg5L._AC_UL320_.jpg\n",
      "https://m.media-amazon.com/images/I/41rHBbET90L._AC_UL320_.jpg\n",
      "https://m.media-amazon.com/images/I/91Ko73taIuL._AC_UL320_.jpg\n",
      "https://m.media-amazon.com/images/I/81u7FYrQPpL._AC_UL320_.jpg\n",
      "https://m.media-amazon.com/images/I/91NcSgkMoGL._AC_UL320_.jpg\n",
      "https://m.media-amazon.com/images/I/81j-y-KWb6L._AC_UL320_.jpg\n",
      "https://m.media-amazon.com/images/I/81WwpOafDyL._AC_UL320_.jpg\n",
      "https://m.media-amazon.com/images/I/81zQm4+FtKL._AC_UL320_.jpg\n",
      "https://m.media-amazon.com/images/I/91F35Uh2axL._AC_UL320_.jpg\n",
      "https://m.media-amazon.com/images/I/91RbZ-dqsIL._AC_UL320_.jpg\n",
      "https://m.media-amazon.com/images/I/91HDULwSknL._AC_UL320_.jpg\n",
      "https://m.media-amazon.com/images/I/810bWMiAmaL._AC_UL320_.jpg\n",
      "https://m.media-amazon.com/images/I/51hw22SU20L._AC_UL320_.jpg\n",
      "https://m.media-amazon.com/images/I/81VS9g8uwUL._AC_UL320_.jpg\n",
      "https://m.media-amazon.com/images/I/81njj0BFP6L._AC_UL320_.jpg\n",
      "https://m.media-amazon.com/images/I/915YHorqJTL._AC_UL320_.jpg\n",
      "https://m.media-amazon.com/images/I/718ea0qYxxL._AC_UL320_.jpg\n",
      "https://m.media-amazon.com/images/I/715Eq9LpiKL._AC_UL320_.jpg\n",
      "https://m.media-amazon.com/images/I/61MMt8ziZLL._AC_UL320_.jpg\n",
      "https://m.media-amazon.com/images/I/51vFzNCMVmL._AC_UL320_.jpg\n",
      "https://m.media-amazon.com/images/I/71BSeRD2cBL._AC_UL320_.jpg\n",
      "https://m.media-amazon.com/images/I/71Uvae5MKfL._AC_UL320_.jpg\n",
      "https://m.media-amazon.com/images/I/71g8zQB460L._AC_UL320_.jpg\n",
      "https://m.media-amazon.com/images/I/71Kt8L4qEoL._AC_UL320_.jpg\n",
      "https://m.media-amazon.com/images/I/91prCEQW3+L._AC_UL320_.jpg\n",
      "https://m.media-amazon.com/images/I/91u8GR+QKiL._AC_UL320_.jpg\n",
      "https://m.media-amazon.com/images/I/91KKRzuCnwL._AC_UL320_.jpg\n",
      "https://m.media-amazon.com/images/I/81psdeKM+VL._AC_UL320_.jpg\n",
      "https://m.media-amazon.com/images/I/71AB3ZkmnfL._AC_UL320_.jpg\n",
      "https://m.media-amazon.com/images/I/81JxWA-m4SL._AC_UL320_.jpg\n",
      "https://m.media-amazon.com/images/I/81QhclXBeEL._AC_UL320_.jpg\n",
      "https://m.media-amazon.com/images/I/919Uu73NihL._AC_UL320_.jpg\n",
      "https://m.media-amazon.com/images/I/91Pc9HRArSL._AC_UL320_.jpg\n",
      "https://m.media-amazon.com/images/I/61xiCTgjAnL._AC_UL320_.jpg\n",
      "https://m.media-amazon.com/images/I/91nycgf7mbL._AC_UL320_.jpg\n",
      "https://m.media-amazon.com/images/I/919lNOaU-GL._AC_UL320_.jpg\n",
      "https://m.media-amazon.com/images/I/71+HgPamOrL._AC_UL320_.jpg\n",
      "https://m.media-amazon.com/images/I/51-7oFhD3EL._AC_UL320_.jpg\n",
      "https://m.media-amazon.com/images/I/91tEl7IZ-WL._AC_UL320_.jpg\n",
      "https://m.media-amazon.com/images/I/61qqS6Hn1TL._AC_UL320_.jpg\n",
      "https://m.media-amazon.com/images/I/81HV6B-QzPL._AC_UL320_.jpg\n",
      "https://m.media-amazon.com/images/I/919yn9gGZbL._AC_UL320_.jpg\n",
      "https://m.media-amazon.com/images/I/91zuC1P0jqL._AC_UL320_.jpg\n",
      "https://m.media-amazon.com/images/I/71t4-HNr3jL._AC_UL320_.jpg\n",
      "https://m.media-amazon.com/images/I/81+BdQPV9ML._AC_UL320_.jpg\n",
      "https://m.media-amazon.com/images/I/914lshTFBdL._AC_UL320_.jpg\n",
      "https://m.media-amazon.com/images/I/81jjipfftHL._AC_UL320_.jpg\n",
      "https://m.media-amazon.com/images/I/61ThuZ7z1qL._AC_UL320_.jpg\n",
      "https://m.media-amazon.com/images/I/91-YLpp44oL._AC_UL320_.jpg\n",
      "https://m.media-amazon.com/images/I/91d39R6B2rL._AC_UL320_.jpg\n",
      "https://m.media-amazon.com/images/I/91YTiL0ljVL._AC_UL320_.jpg\n",
      "https://m.media-amazon.com/images/I/61pu-B2TO0L._AC_UL320_.jpg\n",
      "https://m.media-amazon.com/images/I/91-2gZX+sHL._AC_UL320_.jpg\n",
      "https://m.media-amazon.com/images/I/71wffuAyigL._AC_UL320_.jpg\n",
      "https://m.media-amazon.com/images/I/9193GMwmGAL._AC_UL320_.jpg\n",
      "https://m.media-amazon.com/images/I/71ZT+JDo+ZL._AC_UL320_.jpg\n"
     ]
    }
   ],
   "source": [
    "urls=[]\n",
    "for image in images:\n",
    "    source= image.get_attribute('src')\n",
    "    urls.append(source)\n",
    "    print(source)"
   ]
  },
  {
   "cell_type": "code",
   "execution_count": 13,
   "metadata": {},
   "outputs": [
    {
     "name": "stdout",
     "output_type": "stream",
     "text": [
      "dowmloading 1 of 60 image from page 2\n",
      "dowmloading 2 of 60 image from page 2\n",
      "dowmloading 3 of 60 image from page 2\n",
      "dowmloading 4 of 60 image from page 2\n",
      "dowmloading 5 of 60 image from page 2\n",
      "dowmloading 6 of 60 image from page 2\n",
      "dowmloading 7 of 60 image from page 2\n",
      "dowmloading 8 of 60 image from page 2\n",
      "dowmloading 9 of 60 image from page 2\n",
      "dowmloading 10 of 60 image from page 2\n",
      "dowmloading 11 of 60 image from page 2\n",
      "dowmloading 12 of 60 image from page 2\n",
      "dowmloading 13 of 60 image from page 2\n",
      "dowmloading 14 of 60 image from page 2\n",
      "dowmloading 15 of 60 image from page 2\n",
      "dowmloading 16 of 60 image from page 2\n",
      "dowmloading 17 of 60 image from page 2\n",
      "dowmloading 18 of 60 image from page 2\n",
      "dowmloading 19 of 60 image from page 2\n",
      "dowmloading 20 of 60 image from page 2\n",
      "dowmloading 21 of 60 image from page 2\n",
      "dowmloading 22 of 60 image from page 2\n",
      "dowmloading 23 of 60 image from page 2\n",
      "dowmloading 24 of 60 image from page 2\n",
      "dowmloading 25 of 60 image from page 2\n",
      "dowmloading 26 of 60 image from page 2\n",
      "dowmloading 27 of 60 image from page 2\n",
      "dowmloading 28 of 60 image from page 2\n",
      "dowmloading 29 of 60 image from page 2\n",
      "dowmloading 30 of 60 image from page 2\n",
      "dowmloading 31 of 60 image from page 2\n",
      "dowmloading 32 of 60 image from page 2\n",
      "dowmloading 33 of 60 image from page 2\n",
      "dowmloading 34 of 60 image from page 2\n",
      "dowmloading 35 of 60 image from page 2\n",
      "dowmloading 36 of 60 image from page 2\n",
      "dowmloading 37 of 60 image from page 2\n",
      "dowmloading 38 of 60 image from page 2\n",
      "dowmloading 39 of 60 image from page 2\n",
      "dowmloading 40 of 60 image from page 2\n",
      "dowmloading 41 of 60 image from page 2\n",
      "dowmloading 42 of 60 image from page 2\n",
      "dowmloading 43 of 60 image from page 2\n",
      "dowmloading 44 of 60 image from page 2\n",
      "dowmloading 45 of 60 image from page 2\n",
      "dowmloading 46 of 60 image from page 2\n",
      "dowmloading 47 of 60 image from page 2\n",
      "dowmloading 48 of 60 image from page 2\n",
      "dowmloading 49 of 60 image from page 2\n",
      "dowmloading 50 of 60 image from page 2\n",
      "dowmloading 51 of 60 image from page 2\n",
      "dowmloading 52 of 60 image from page 2\n",
      "dowmloading 53 of 60 image from page 2\n",
      "dowmloading 54 of 60 image from page 2\n",
      "dowmloading 55 of 60 image from page 2\n",
      "dowmloading 56 of 60 image from page 2\n",
      "dowmloading 57 of 60 image from page 2\n",
      "dowmloading 58 of 60 image from page 2\n",
      "dowmloading 59 of 60 image from page 2\n",
      "dowmloading 60 of 60 image from page 2\n"
     ]
    }
   ],
   "source": [
    "page= 2\n",
    "for index, link in enumerate(urls):\n",
    "    print(\"dowmloading {0} of {1} image from page 2\".format(index+1, len(urls)))\n",
    "    response= requests.get(link)\n",
    "    with open('saree/img_{0}{1}.jpeg'.format(index, page), \"wb\") as file:\n",
    "        file.write(response.content)"
   ]
  },
  {
   "cell_type": "markdown",
   "metadata": {},
   "source": [
    "## Next page"
   ]
  },
  {
   "cell_type": "code",
   "execution_count": 14,
   "metadata": {},
   "outputs": [],
   "source": [
    "np3=driver.find_element_by_xpath(\"//li[@class= 'a-last']//a\").click()"
   ]
  },
  {
   "cell_type": "code",
   "execution_count": 15,
   "metadata": {},
   "outputs": [
    {
     "name": "stdout",
     "output_type": "stream",
     "text": [
      "60\n"
     ]
    }
   ],
   "source": [
    "images= driver.find_elements_by_xpath(\"//img[@class= 's-image']\")  \n",
    "print(len(images))"
   ]
  },
  {
   "cell_type": "code",
   "execution_count": 16,
   "metadata": {},
   "outputs": [
    {
     "name": "stdout",
     "output_type": "stream",
     "text": [
      "https://m.media-amazon.com/images/I/81uXWOleG4L._AC_UL320_.jpg\n",
      "https://m.media-amazon.com/images/I/51WoZa8nUeL._AC_UL320_.jpg\n",
      "https://m.media-amazon.com/images/I/8167oR59stL._AC_UL320_.jpg\n",
      "https://m.media-amazon.com/images/I/81yZVAI2SuL._AC_UL320_.jpg\n",
      "https://m.media-amazon.com/images/I/91WiC05YgdL._AC_UL320_.jpg\n",
      "https://m.media-amazon.com/images/I/51WEMnJPGML._AC_UL320_.jpg\n",
      "https://m.media-amazon.com/images/I/81et7nKmZHL._AC_UL320_.jpg\n",
      "https://m.media-amazon.com/images/I/811DUYReeRL._AC_UL320_.jpg\n",
      "https://m.media-amazon.com/images/I/917c4qQLVJL._AC_UL320_.jpg\n",
      "https://m.media-amazon.com/images/I/71kqCrGmSeL._AC_UL320_.jpg\n",
      "https://m.media-amazon.com/images/I/614o2Pm4X3L._AC_UL320_.jpg\n",
      "https://m.media-amazon.com/images/I/91KPk+N377L._AC_UL320_.jpg\n",
      "https://m.media-amazon.com/images/I/71lZhwh1ogL._AC_UL320_.jpg\n",
      "https://m.media-amazon.com/images/I/71ZUeQteBXL._AC_UL320_.jpg\n",
      "https://m.media-amazon.com/images/I/71fM3n7espL._AC_UL320_.jpg\n",
      "https://m.media-amazon.com/images/I/91Ggz+E6uNL._AC_UL320_.jpg\n",
      "https://m.media-amazon.com/images/I/81XtiajLxpL._AC_UL320_.jpg\n",
      "https://m.media-amazon.com/images/I/91YcXn2m4pL._AC_UL320_.jpg\n",
      "https://m.media-amazon.com/images/I/81QOe4fOisL._AC_UL320_.jpg\n",
      "https://m.media-amazon.com/images/I/71kvLf0JKOL._AC_UL320_.jpg\n",
      "https://m.media-amazon.com/images/I/81qi7QCNSjL._AC_UL320_.jpg\n",
      "https://m.media-amazon.com/images/I/81Q9ig3qklL._AC_UL320_.jpg\n",
      "https://m.media-amazon.com/images/I/518nmMcBEdL._AC_UL320_.jpg\n",
      "https://m.media-amazon.com/images/I/916nMK7rdXL._AC_UL320_.jpg\n",
      "https://m.media-amazon.com/images/I/91BJcdyXRML._AC_UL320_.jpg\n",
      "https://m.media-amazon.com/images/I/613hp0Z33CL._AC_UL320_.jpg\n",
      "https://m.media-amazon.com/images/I/81--kMthrSL._AC_UL320_.jpg\n",
      "https://m.media-amazon.com/images/I/31eY21G9l2L._AC_UL320_.jpg\n",
      "https://m.media-amazon.com/images/I/41sNbC34BYL._AC_UL320_.jpg\n",
      "https://m.media-amazon.com/images/I/814UM+F2lCL._AC_UL320_.jpg\n",
      "https://m.media-amazon.com/images/I/317a1vl2sDL._AC_UL320_.jpg\n",
      "https://m.media-amazon.com/images/I/61kWhT3ekXL._AC_UL320_.jpg\n",
      "https://m.media-amazon.com/images/I/51IVlViUjUL._AC_UL320_.jpg\n",
      "https://m.media-amazon.com/images/I/81UlsB9RFML._AC_UL320_.jpg\n",
      "https://m.media-amazon.com/images/I/51r7L8ZWktL._AC_UL320_.jpg\n",
      "https://m.media-amazon.com/images/I/71Ecj9TEFLL._AC_UL320_.jpg\n",
      "https://m.media-amazon.com/images/I/816YftU+FsL._AC_UL320_.jpg\n",
      "https://m.media-amazon.com/images/I/71RTKgQ2SmL._AC_UL320_.jpg\n",
      "https://m.media-amazon.com/images/I/81Go-YQRDwL._AC_UL320_.jpg\n",
      "https://m.media-amazon.com/images/I/81Lwz9gb6JL._AC_UL320_.jpg\n",
      "https://m.media-amazon.com/images/I/71T2NSfMS2L._AC_UL320_.jpg\n",
      "https://m.media-amazon.com/images/I/91sJG3QtQnL._AC_UL320_.jpg\n",
      "https://m.media-amazon.com/images/I/718ea0qYxxL._AC_UL320_.jpg\n",
      "https://m.media-amazon.com/images/I/71qv4-LCeCL._AC_UL320_.jpg\n",
      "https://m.media-amazon.com/images/I/81wXNHiQEIL._AC_UL320_.jpg\n",
      "https://m.media-amazon.com/images/I/61BvYW-4aBL._AC_UL320_.jpg\n",
      "https://m.media-amazon.com/images/I/61HkorLwcWL._AC_UL320_.jpg\n",
      "https://m.media-amazon.com/images/I/91EY+8yxCbL._AC_UL320_.jpg\n",
      "https://m.media-amazon.com/images/I/71+4tUrSfvL._AC_UL320_.jpg\n",
      "https://m.media-amazon.com/images/I/61w-q0WPFYL._AC_UL320_.jpg\n",
      "https://m.media-amazon.com/images/I/712R5RD+51L._AC_UL320_.jpg\n",
      "https://m.media-amazon.com/images/I/41zLo0oOf7L._AC_UL320_.jpg\n",
      "https://m.media-amazon.com/images/I/915jOU87ERL._AC_UL320_.jpg\n",
      "https://m.media-amazon.com/images/I/814U0+6V4HL._AC_UL320_.jpg\n",
      "https://m.media-amazon.com/images/I/81T67KhIbNL._AC_UL320_.jpg\n",
      "https://m.media-amazon.com/images/I/71MWiAnBMcL._AC_UL320_.jpg\n",
      "https://m.media-amazon.com/images/I/91KKRzuCnwL._AC_UL320_.jpg\n",
      "https://m.media-amazon.com/images/I/81psdeKM+VL._AC_UL320_.jpg\n",
      "https://m.media-amazon.com/images/I/71wffuAyigL._AC_UL320_.jpg\n",
      "https://m.media-amazon.com/images/I/71ZT+JDo+ZL._AC_UL320_.jpg\n"
     ]
    }
   ],
   "source": [
    "urls=[]\n",
    "for image in images:\n",
    "    source= image.get_attribute('src')\n",
    "    urls.append(source)\n",
    "    print(source)"
   ]
  },
  {
   "cell_type": "code",
   "execution_count": 17,
   "metadata": {},
   "outputs": [
    {
     "name": "stdout",
     "output_type": "stream",
     "text": [
      "dowmloading 1 of 60 image from page 3\n",
      "dowmloading 2 of 60 image from page 3\n",
      "dowmloading 3 of 60 image from page 3\n",
      "dowmloading 4 of 60 image from page 3\n",
      "dowmloading 5 of 60 image from page 3\n",
      "dowmloading 6 of 60 image from page 3\n",
      "dowmloading 7 of 60 image from page 3\n",
      "dowmloading 8 of 60 image from page 3\n",
      "dowmloading 9 of 60 image from page 3\n",
      "dowmloading 10 of 60 image from page 3\n",
      "dowmloading 11 of 60 image from page 3\n",
      "dowmloading 12 of 60 image from page 3\n",
      "dowmloading 13 of 60 image from page 3\n",
      "dowmloading 14 of 60 image from page 3\n",
      "dowmloading 15 of 60 image from page 3\n",
      "dowmloading 16 of 60 image from page 3\n",
      "dowmloading 17 of 60 image from page 3\n",
      "dowmloading 18 of 60 image from page 3\n",
      "dowmloading 19 of 60 image from page 3\n",
      "dowmloading 20 of 60 image from page 3\n",
      "dowmloading 21 of 60 image from page 3\n",
      "dowmloading 22 of 60 image from page 3\n",
      "dowmloading 23 of 60 image from page 3\n",
      "dowmloading 24 of 60 image from page 3\n",
      "dowmloading 25 of 60 image from page 3\n",
      "dowmloading 26 of 60 image from page 3\n",
      "dowmloading 27 of 60 image from page 3\n",
      "dowmloading 28 of 60 image from page 3\n",
      "dowmloading 29 of 60 image from page 3\n",
      "dowmloading 30 of 60 image from page 3\n",
      "dowmloading 31 of 60 image from page 3\n",
      "dowmloading 32 of 60 image from page 3\n",
      "dowmloading 33 of 60 image from page 3\n",
      "dowmloading 34 of 60 image from page 3\n",
      "dowmloading 35 of 60 image from page 3\n",
      "dowmloading 36 of 60 image from page 3\n",
      "dowmloading 37 of 60 image from page 3\n",
      "dowmloading 38 of 60 image from page 3\n",
      "dowmloading 39 of 60 image from page 3\n",
      "dowmloading 40 of 60 image from page 3\n",
      "dowmloading 41 of 60 image from page 3\n",
      "dowmloading 42 of 60 image from page 3\n",
      "dowmloading 43 of 60 image from page 3\n",
      "dowmloading 44 of 60 image from page 3\n",
      "dowmloading 45 of 60 image from page 3\n",
      "dowmloading 46 of 60 image from page 3\n",
      "dowmloading 47 of 60 image from page 3\n",
      "dowmloading 48 of 60 image from page 3\n",
      "dowmloading 49 of 60 image from page 3\n",
      "dowmloading 50 of 60 image from page 3\n",
      "dowmloading 51 of 60 image from page 3\n",
      "dowmloading 52 of 60 image from page 3\n",
      "dowmloading 53 of 60 image from page 3\n",
      "dowmloading 54 of 60 image from page 3\n",
      "dowmloading 55 of 60 image from page 3\n",
      "dowmloading 56 of 60 image from page 3\n",
      "dowmloading 57 of 60 image from page 3\n",
      "dowmloading 58 of 60 image from page 3\n",
      "dowmloading 59 of 60 image from page 3\n",
      "dowmloading 60 of 60 image from page 3\n"
     ]
    }
   ],
   "source": [
    "page= 3\n",
    "for index, link in enumerate(urls):\n",
    "    print(\"dowmloading {0} of {1} image from page 3\".format(index+1, len(urls)))\n",
    "    response= requests.get(link)\n",
    "    with open('saree/img_{0}{1}.jpeg'.format(index, page), \"wb\") as file:\n",
    "        file.write(response.content)"
   ]
  },
  {
   "cell_type": "markdown",
   "metadata": {},
   "source": [
    "## Next page"
   ]
  },
  {
   "cell_type": "code",
   "execution_count": 18,
   "metadata": {},
   "outputs": [],
   "source": [
    "np4=driver.find_element_by_xpath(\"//li[@class= 'a-last']//a\").click()"
   ]
  },
  {
   "cell_type": "code",
   "execution_count": 19,
   "metadata": {},
   "outputs": [
    {
     "name": "stdout",
     "output_type": "stream",
     "text": [
      "60\n"
     ]
    }
   ],
   "source": [
    "images= driver.find_elements_by_xpath(\"//img[@class= 's-image']\")\n",
    "print(len(images))"
   ]
  },
  {
   "cell_type": "code",
   "execution_count": 20,
   "metadata": {},
   "outputs": [
    {
     "name": "stdout",
     "output_type": "stream",
     "text": [
      "https://m.media-amazon.com/images/I/81uXWOleG4L._AC_UL320_.jpg\n",
      "https://m.media-amazon.com/images/I/51WoZa8nUeL._AC_UL320_.jpg\n",
      "https://m.media-amazon.com/images/I/81xrmnu5yDL._AC_UL320_.jpg\n",
      "https://m.media-amazon.com/images/I/8167oR59stL._AC_UL320_.jpg\n",
      "https://m.media-amazon.com/images/I/91NsMrFFRfL._AC_UL320_.jpg\n",
      "https://m.media-amazon.com/images/I/912YhyzVNhL._AC_UL320_.jpg\n",
      "https://m.media-amazon.com/images/I/81dS+-qqTyL._AC_UL320_.jpg\n",
      "https://m.media-amazon.com/images/I/9159OqlPYAL._AC_UL320_.jpg\n",
      "https://m.media-amazon.com/images/I/71BoOMux3qL._AC_UL320_.jpg\n",
      "https://m.media-amazon.com/images/I/715gq48jKsL._AC_UL320_.jpg\n",
      "https://m.media-amazon.com/images/I/816Ia+xesjL._AC_UL320_.jpg\n",
      "https://m.media-amazon.com/images/I/71s3b-DoPXL._AC_UL320_.jpg\n",
      "https://m.media-amazon.com/images/I/917ba4sf+DL._AC_UL320_.jpg\n",
      "https://m.media-amazon.com/images/I/918dCVGl5BL._AC_UL320_.jpg\n",
      "https://m.media-amazon.com/images/I/61cb88ORChL._AC_UL320_.jpg\n",
      "https://m.media-amazon.com/images/I/81piPQ3XjgL._AC_UL320_.jpg\n",
      "https://m.media-amazon.com/images/I/812axtbOO5L._AC_UL320_.jpg\n",
      "https://m.media-amazon.com/images/I/81anIX8V-2L._AC_UL320_.jpg\n",
      "https://m.media-amazon.com/images/I/816ycw5ku4L._AC_UL320_.jpg\n",
      "https://m.media-amazon.com/images/I/71GiMiJq3eL._AC_UL320_.jpg\n",
      "https://m.media-amazon.com/images/I/71GKOi7ptgL._AC_UL320_.jpg\n",
      "https://m.media-amazon.com/images/I/81BO9PICWgL._AC_UL320_.jpg\n",
      "https://m.media-amazon.com/images/I/71hpIJzYmwL._AC_UL320_.jpg\n",
      "https://m.media-amazon.com/images/I/81MeOiga+RL._AC_UL320_.jpg\n",
      "https://m.media-amazon.com/images/I/81dN1MInCoL._AC_UL320_.jpg\n",
      "https://m.media-amazon.com/images/I/71MSMxeuPUL._AC_UL320_.jpg\n",
      "https://m.media-amazon.com/images/I/41iEMjUUDbL._AC_UL320_.jpg\n",
      "https://m.media-amazon.com/images/I/91CIqcYaQbL._AC_UL320_.jpg\n",
      "https://m.media-amazon.com/images/I/81uQl47wf5L._AC_UL320_.jpg\n",
      "https://m.media-amazon.com/images/I/41sNbC34BYL._AC_UL320_.jpg\n",
      "https://m.media-amazon.com/images/I/814UM+F2lCL._AC_UL320_.jpg\n",
      "https://m.media-amazon.com/images/I/81Op8nS-XOL._AC_UL320_.jpg\n",
      "https://m.media-amazon.com/images/I/61qtfVnNY6L._AC_UL320_.jpg\n",
      "https://m.media-amazon.com/images/I/81wr1QpnNyL._AC_UL320_.jpg\n",
      "https://m.media-amazon.com/images/I/71RQisQ60+L._AC_UL320_.jpg\n",
      "https://m.media-amazon.com/images/I/41vH16RGm6L._AC_UL320_.jpg\n",
      "https://m.media-amazon.com/images/I/81iSI9lRxgL._AC_UL320_.jpg\n",
      "https://m.media-amazon.com/images/I/715CCnjnexL._AC_UL320_.jpg\n",
      "https://m.media-amazon.com/images/I/913bt-+KNEL._AC_UL320_.jpg\n",
      "https://m.media-amazon.com/images/I/81k0OQ6nWuL._AC_UL320_.jpg\n",
      "https://m.media-amazon.com/images/I/71CPfiKpWmL._AC_UL320_.jpg\n",
      "https://m.media-amazon.com/images/I/71AlQjtM-tL._AC_UL320_.jpg\n",
      "https://m.media-amazon.com/images/I/61axRgsCAxL._AC_UL320_.jpg\n",
      "https://m.media-amazon.com/images/I/81EFTquo53L._AC_UL320_.jpg\n",
      "https://m.media-amazon.com/images/I/91MTkoNHToL._AC_UL320_.jpg\n",
      "https://m.media-amazon.com/images/I/91viSL3SatL._AC_UL320_.jpg\n",
      "https://m.media-amazon.com/images/I/91GK-NF-TtL._AC_UL320_.jpg\n",
      "https://m.media-amazon.com/images/I/71-BCt0A7CL._AC_UL320_.jpg\n",
      "https://m.media-amazon.com/images/I/91IA53Wt44L._AC_UL320_.jpg\n",
      "https://m.media-amazon.com/images/I/91+auNsyHVL._AC_UL320_.jpg\n",
      "https://m.media-amazon.com/images/I/81xjeaboTNL._AC_UL320_.jpg\n",
      "https://m.media-amazon.com/images/I/71s9IOdhTiL._AC_UL320_.jpg\n",
      "https://m.media-amazon.com/images/I/61fu2EnscfL._AC_UL320_.jpg\n",
      "https://m.media-amazon.com/images/I/71jlZieG2cL._AC_UL320_.jpg\n",
      "https://m.media-amazon.com/images/I/71DG++7RwrL._AC_UL320_.jpg\n",
      "https://m.media-amazon.com/images/I/914PDvcwDML._AC_UL320_.jpg\n",
      "https://m.media-amazon.com/images/I/81qdPTwJBYL._AC_UL320_.jpg\n",
      "https://m.media-amazon.com/images/I/81xVGR2TcjL._AC_UL320_.jpg\n",
      "https://m.media-amazon.com/images/I/91u8GR+QKiL._AC_UL320_.jpg\n",
      "https://m.media-amazon.com/images/I/61kWhT3ekXL._AC_UL320_.jpg\n"
     ]
    }
   ],
   "source": [
    "urls=[]\n",
    "for image in images:\n",
    "    source= image.get_attribute('src')\n",
    "    urls.append(source)\n",
    "    print(source)"
   ]
  },
  {
   "cell_type": "code",
   "execution_count": 21,
   "metadata": {},
   "outputs": [
    {
     "name": "stdout",
     "output_type": "stream",
     "text": [
      "dowmloading 1 of 60 image from page 4\n",
      "dowmloading 2 of 60 image from page 4\n",
      "dowmloading 3 of 60 image from page 4\n",
      "dowmloading 4 of 60 image from page 4\n",
      "dowmloading 5 of 60 image from page 4\n",
      "dowmloading 6 of 60 image from page 4\n",
      "dowmloading 7 of 60 image from page 4\n",
      "dowmloading 8 of 60 image from page 4\n",
      "dowmloading 9 of 60 image from page 4\n",
      "dowmloading 10 of 60 image from page 4\n",
      "dowmloading 11 of 60 image from page 4\n",
      "dowmloading 12 of 60 image from page 4\n",
      "dowmloading 13 of 60 image from page 4\n",
      "dowmloading 14 of 60 image from page 4\n",
      "dowmloading 15 of 60 image from page 4\n",
      "dowmloading 16 of 60 image from page 4\n",
      "dowmloading 17 of 60 image from page 4\n",
      "dowmloading 18 of 60 image from page 4\n",
      "dowmloading 19 of 60 image from page 4\n",
      "dowmloading 20 of 60 image from page 4\n",
      "dowmloading 21 of 60 image from page 4\n",
      "dowmloading 22 of 60 image from page 4\n",
      "dowmloading 23 of 60 image from page 4\n",
      "dowmloading 24 of 60 image from page 4\n",
      "dowmloading 25 of 60 image from page 4\n",
      "dowmloading 26 of 60 image from page 4\n",
      "dowmloading 27 of 60 image from page 4\n",
      "dowmloading 28 of 60 image from page 4\n",
      "dowmloading 29 of 60 image from page 4\n",
      "dowmloading 30 of 60 image from page 4\n",
      "dowmloading 31 of 60 image from page 4\n",
      "dowmloading 32 of 60 image from page 4\n",
      "dowmloading 33 of 60 image from page 4\n",
      "dowmloading 34 of 60 image from page 4\n",
      "dowmloading 35 of 60 image from page 4\n",
      "dowmloading 36 of 60 image from page 4\n",
      "dowmloading 37 of 60 image from page 4\n",
      "dowmloading 38 of 60 image from page 4\n",
      "dowmloading 39 of 60 image from page 4\n",
      "dowmloading 40 of 60 image from page 4\n",
      "dowmloading 41 of 60 image from page 4\n",
      "dowmloading 42 of 60 image from page 4\n",
      "dowmloading 43 of 60 image from page 4\n",
      "dowmloading 44 of 60 image from page 4\n",
      "dowmloading 45 of 60 image from page 4\n",
      "dowmloading 46 of 60 image from page 4\n",
      "dowmloading 47 of 60 image from page 4\n",
      "dowmloading 48 of 60 image from page 4\n",
      "dowmloading 49 of 60 image from page 4\n",
      "dowmloading 50 of 60 image from page 4\n",
      "dowmloading 51 of 60 image from page 4\n",
      "dowmloading 52 of 60 image from page 4\n",
      "dowmloading 53 of 60 image from page 4\n",
      "dowmloading 54 of 60 image from page 4\n",
      "dowmloading 55 of 60 image from page 4\n",
      "dowmloading 56 of 60 image from page 4\n",
      "dowmloading 57 of 60 image from page 4\n",
      "dowmloading 58 of 60 image from page 4\n",
      "dowmloading 59 of 60 image from page 4\n",
      "dowmloading 60 of 60 image from page 4\n"
     ]
    }
   ],
   "source": [
    "page= 4\n",
    "for index, link in enumerate(urls):\n",
    "    print(\"dowmloading {0} of {1} image from page 4\".format(index+1, len(urls)))\n",
    "    response= requests.get(link)\n",
    "    with open('saree/img_{0}{1}.jpeg'.format(index, page), \"wb\") as file:\n",
    "        file.write(response.content)"
   ]
  },
  {
   "cell_type": "markdown",
   "metadata": {},
   "source": [
    "## Next page"
   ]
  },
  {
   "cell_type": "code",
   "execution_count": 22,
   "metadata": {},
   "outputs": [],
   "source": [
    "np5=driver.find_element_by_xpath(\"//li[@class= 'a-last']//a\").click()"
   ]
  },
  {
   "cell_type": "code",
   "execution_count": 23,
   "metadata": {},
   "outputs": [
    {
     "name": "stdout",
     "output_type": "stream",
     "text": [
      "60\n"
     ]
    }
   ],
   "source": [
    "images= driver.find_elements_by_xpath(\"//img[@class= 's-image']\")\n",
    "print(len(images))"
   ]
  },
  {
   "cell_type": "code",
   "execution_count": 24,
   "metadata": {},
   "outputs": [
    {
     "name": "stdout",
     "output_type": "stream",
     "text": [
      "https://m.media-amazon.com/images/I/81RrhvwAZ9L._AC_UL320_.jpg\n",
      "https://m.media-amazon.com/images/I/81uXWOleG4L._AC_UL320_.jpg\n",
      "https://m.media-amazon.com/images/I/51WoZa8nUeL._AC_UL320_.jpg\n",
      "https://m.media-amazon.com/images/I/81goNWiMHcL._AC_UL320_.jpg\n",
      "https://m.media-amazon.com/images/I/81ZgLgiKS3L._AC_UL320_.jpg\n",
      "https://m.media-amazon.com/images/I/91y1hCZPoCL._AC_UL320_.jpg\n",
      "https://m.media-amazon.com/images/I/71UtO5IzmEL._AC_UL320_.jpg\n",
      "https://m.media-amazon.com/images/I/91KVZElTGdL._AC_UL320_.jpg\n",
      "https://m.media-amazon.com/images/I/71tF2-V95yL._AC_UL320_.jpg\n",
      "https://m.media-amazon.com/images/I/61dN+uBUsbL._AC_UL320_.jpg\n",
      "https://m.media-amazon.com/images/I/81563fhIXPL._AC_UL320_.jpg\n",
      "https://m.media-amazon.com/images/I/9184dWG07lL._AC_UL320_.jpg\n",
      "https://m.media-amazon.com/images/I/8167oR59stL._AC_UL320_.jpg\n",
      "https://m.media-amazon.com/images/I/51dEwpm6i3L._AC_UL320_.jpg\n",
      "https://m.media-amazon.com/images/I/61lTs9XDyDL._AC_UL320_.jpg\n",
      "https://m.media-amazon.com/images/I/71xCgS3dPkL._AC_UL320_.jpg\n",
      "https://m.media-amazon.com/images/I/91Y+9PWplgL._AC_UL320_.jpg\n",
      "https://m.media-amazon.com/images/I/81HisZMSAVL._AC_UL320_.jpg\n",
      "https://m.media-amazon.com/images/I/91yS1Ea+WOL._AC_UL320_.jpg\n",
      "https://m.media-amazon.com/images/I/915EZngkF+L._AC_UL320_.jpg\n",
      "https://m.media-amazon.com/images/I/61KffeV2voL._AC_UL320_.jpg\n",
      "https://m.media-amazon.com/images/I/810Kq7xQvtL._AC_UL320_.jpg\n",
      "https://m.media-amazon.com/images/I/819rJ7eYf7L._AC_UL320_.jpg\n",
      "https://m.media-amazon.com/images/I/811zCL2UCZL._AC_UL320_.jpg\n",
      "https://m.media-amazon.com/images/I/9147wNIT9jL._AC_UL320_.jpg\n",
      "https://m.media-amazon.com/images/I/813gqWEzASL._AC_UL320_.jpg\n",
      "https://m.media-amazon.com/images/I/81ckRgOhu2L._AC_UL320_.jpg\n",
      "https://m.media-amazon.com/images/I/7173KkOWc1L._AC_UL320_.jpg\n",
      "https://m.media-amazon.com/images/I/41Au5jwcHZL._AC_UL320_.jpg\n",
      "https://m.media-amazon.com/images/I/81uQl47wf5L._AC_UL320_.jpg\n",
      "https://m.media-amazon.com/images/I/41sNbC34BYL._AC_UL320_.jpg\n",
      "https://m.media-amazon.com/images/I/81a2QKapOPL._AC_UL320_.jpg\n",
      "https://m.media-amazon.com/images/I/712utRBG0+L._AC_UL320_.jpg\n",
      "https://m.media-amazon.com/images/I/91ZGfE+tfLL._AC_UL320_.jpg\n",
      "https://m.media-amazon.com/images/I/91HDLZc8wRL._AC_UL320_.jpg\n",
      "https://m.media-amazon.com/images/I/91yo+G2rJ1L._AC_UL320_.jpg\n",
      "https://m.media-amazon.com/images/I/91WMvwCs0fL._AC_UL320_.jpg\n",
      "https://m.media-amazon.com/images/I/618-hsWwAUL._AC_UL320_.jpg\n",
      "https://m.media-amazon.com/images/I/81V+G6XqBJL._AC_UL320_.jpg\n",
      "https://m.media-amazon.com/images/I/71-TUdrXeeL._AC_UL320_.jpg\n",
      "https://m.media-amazon.com/images/I/610TX4NSSeL._AC_UL320_.jpg\n",
      "https://m.media-amazon.com/images/I/81V-m62zsQL._AC_UL320_.jpg\n",
      "https://m.media-amazon.com/images/I/61P4pD5QAJL._AC_UL320_.jpg\n",
      "https://m.media-amazon.com/images/I/61Hvo3Os-dL._AC_UL320_.jpg\n",
      "https://m.media-amazon.com/images/I/71S1lTAuRhL._AC_UL320_.jpg\n",
      "https://m.media-amazon.com/images/I/9129rZ5TonL._AC_UL320_.jpg\n",
      "https://m.media-amazon.com/images/I/61SxWxvohvL._AC_UL320_.jpg\n",
      "https://m.media-amazon.com/images/I/61bnXOXNNML._AC_UL320_.jpg\n",
      "https://m.media-amazon.com/images/I/91cY2TY7+FL._AC_UL320_.jpg\n",
      "https://m.media-amazon.com/images/I/81HJF0P1yML._AC_UL320_.jpg\n",
      "https://m.media-amazon.com/images/I/51vCeSX4ElL._AC_UL320_.jpg\n",
      "https://m.media-amazon.com/images/I/91S2jHgRHuL._AC_UL320_.jpg\n",
      "https://m.media-amazon.com/images/I/61dw3hBBM3L._AC_UL320_.jpg\n",
      "https://m.media-amazon.com/images/I/71DG++7RwrL._AC_UL320_.jpg\n",
      "https://m.media-amazon.com/images/I/81nLVjszV1L._AC_UL320_.jpg\n",
      "https://m.media-amazon.com/images/I/91ynBWg3puL._AC_UL320_.jpg\n",
      "https://m.media-amazon.com/images/I/71Cp8cTKcNL._AC_UL320_.jpg\n",
      "https://m.media-amazon.com/images/I/61faER8sPhL._AC_UL320_.jpg\n",
      "https://m.media-amazon.com/images/I/814UM+F2lCL._AC_UL320_.jpg\n",
      "https://m.media-amazon.com/images/I/81Op8nS-XOL._AC_UL320_.jpg\n"
     ]
    }
   ],
   "source": [
    "urls=[]\n",
    "for image in images:\n",
    "    source= image.get_attribute('src')\n",
    "    urls.append(source)\n",
    "    print(source)"
   ]
  },
  {
   "cell_type": "code",
   "execution_count": 25,
   "metadata": {},
   "outputs": [
    {
     "name": "stdout",
     "output_type": "stream",
     "text": [
      "dowmloading 1 of 60 image from page 5\n",
      "dowmloading 2 of 60 image from page 5\n",
      "dowmloading 3 of 60 image from page 5\n",
      "dowmloading 4 of 60 image from page 5\n",
      "dowmloading 5 of 60 image from page 5\n",
      "dowmloading 6 of 60 image from page 5\n",
      "dowmloading 7 of 60 image from page 5\n",
      "dowmloading 8 of 60 image from page 5\n",
      "dowmloading 9 of 60 image from page 5\n",
      "dowmloading 10 of 60 image from page 5\n",
      "dowmloading 11 of 60 image from page 5\n",
      "dowmloading 12 of 60 image from page 5\n",
      "dowmloading 13 of 60 image from page 5\n",
      "dowmloading 14 of 60 image from page 5\n",
      "dowmloading 15 of 60 image from page 5\n",
      "dowmloading 16 of 60 image from page 5\n",
      "dowmloading 17 of 60 image from page 5\n",
      "dowmloading 18 of 60 image from page 5\n",
      "dowmloading 19 of 60 image from page 5\n",
      "dowmloading 20 of 60 image from page 5\n",
      "dowmloading 21 of 60 image from page 5\n",
      "dowmloading 22 of 60 image from page 5\n",
      "dowmloading 23 of 60 image from page 5\n",
      "dowmloading 24 of 60 image from page 5\n",
      "dowmloading 25 of 60 image from page 5\n",
      "dowmloading 26 of 60 image from page 5\n",
      "dowmloading 27 of 60 image from page 5\n",
      "dowmloading 28 of 60 image from page 5\n",
      "dowmloading 29 of 60 image from page 5\n",
      "dowmloading 30 of 60 image from page 5\n",
      "dowmloading 31 of 60 image from page 5\n",
      "dowmloading 32 of 60 image from page 5\n",
      "dowmloading 33 of 60 image from page 5\n",
      "dowmloading 34 of 60 image from page 5\n",
      "dowmloading 35 of 60 image from page 5\n",
      "dowmloading 36 of 60 image from page 5\n",
      "dowmloading 37 of 60 image from page 5\n",
      "dowmloading 38 of 60 image from page 5\n",
      "dowmloading 39 of 60 image from page 5\n",
      "dowmloading 40 of 60 image from page 5\n",
      "dowmloading 41 of 60 image from page 5\n",
      "dowmloading 42 of 60 image from page 5\n",
      "dowmloading 43 of 60 image from page 5\n",
      "dowmloading 44 of 60 image from page 5\n",
      "dowmloading 45 of 60 image from page 5\n",
      "dowmloading 46 of 60 image from page 5\n",
      "dowmloading 47 of 60 image from page 5\n",
      "dowmloading 48 of 60 image from page 5\n",
      "dowmloading 49 of 60 image from page 5\n",
      "dowmloading 50 of 60 image from page 5\n",
      "dowmloading 51 of 60 image from page 5\n",
      "dowmloading 52 of 60 image from page 5\n",
      "dowmloading 53 of 60 image from page 5\n",
      "dowmloading 54 of 60 image from page 5\n",
      "dowmloading 55 of 60 image from page 5\n",
      "dowmloading 56 of 60 image from page 5\n",
      "dowmloading 57 of 60 image from page 5\n",
      "dowmloading 58 of 60 image from page 5\n",
      "dowmloading 59 of 60 image from page 5\n",
      "dowmloading 60 of 60 image from page 5\n"
     ]
    }
   ],
   "source": [
    "page= 5\n",
    "for index, link in enumerate(urls):\n",
    "    print(\"dowmloading {0} of {1} image from page 5\".format(index+1, len(urls)))\n",
    "    response= requests.get(link)\n",
    "    with open('saree/img_{0}{1}.jpeg'.format(index, page), \"wb\") as file:\n",
    "        file.write(response.content)"
   ]
  },
  {
   "cell_type": "markdown",
   "metadata": {},
   "source": [
    "## Next Page"
   ]
  },
  {
   "cell_type": "code",
   "execution_count": 26,
   "metadata": {},
   "outputs": [],
   "source": [
    "np6=driver.find_element_by_xpath(\"//li[@class= 'a-last']//a\").click()"
   ]
  },
  {
   "cell_type": "code",
   "execution_count": 27,
   "metadata": {},
   "outputs": [
    {
     "name": "stdout",
     "output_type": "stream",
     "text": [
      "60\n"
     ]
    }
   ],
   "source": [
    "images= driver.find_elements_by_xpath(\"//img[@class= 's-image']\")   \n",
    "print(len(images))"
   ]
  },
  {
   "cell_type": "code",
   "execution_count": 28,
   "metadata": {},
   "outputs": [
    {
     "name": "stdout",
     "output_type": "stream",
     "text": [
      "https://m.media-amazon.com/images/I/81RrhvwAZ9L._AC_UL320_.jpg\n",
      "https://m.media-amazon.com/images/I/81uXWOleG4L._AC_UL320_.jpg\n",
      "https://m.media-amazon.com/images/I/51WoZa8nUeL._AC_UL320_.jpg\n",
      "https://m.media-amazon.com/images/I/81goNWiMHcL._AC_UL320_.jpg\n",
      "https://m.media-amazon.com/images/I/91ocLSjowDL._AC_UL320_.jpg\n",
      "https://m.media-amazon.com/images/I/41VVsfj7bKL._AC_UL320_.jpg\n",
      "https://m.media-amazon.com/images/I/81PZtC2DFCL._AC_UL320_.jpg\n",
      "https://m.media-amazon.com/images/I/81srePAkI8L._AC_UL320_.jpg\n",
      "https://m.media-amazon.com/images/I/81HlwcMxRvL._AC_UL320_.jpg\n",
      "https://m.media-amazon.com/images/I/813AnlJt0ML._AC_UL320_.jpg\n",
      "https://m.media-amazon.com/images/I/91-YLpp44oL._AC_UL320_.jpg\n",
      "https://m.media-amazon.com/images/I/815SZPYz7gL._AC_UL320_.jpg\n",
      "https://m.media-amazon.com/images/I/81aPqWbygLL._AC_UL320_.jpg\n",
      "https://m.media-amazon.com/images/I/610NRTaITlL._AC_UL320_.jpg\n",
      "https://m.media-amazon.com/images/I/81Ac5LasV-L._AC_UL320_.jpg\n",
      "https://m.media-amazon.com/images/I/71Z-g2Bl2qL._AC_UL320_.jpg\n",
      "https://m.media-amazon.com/images/I/912MihmZIdL._AC_UL320_.jpg\n",
      "https://m.media-amazon.com/images/I/91zi7iIRi3L._AC_UL320_.jpg\n",
      "https://m.media-amazon.com/images/I/816siql5M5L._AC_UL320_.jpg\n",
      "https://m.media-amazon.com/images/I/71TQPd1gaiL._AC_UL320_.jpg\n",
      "https://m.media-amazon.com/images/I/81iCg0kFngL._AC_UL320_.jpg\n",
      "https://m.media-amazon.com/images/I/61XMFZhgVvL._AC_UL320_.jpg\n",
      "https://m.media-amazon.com/images/I/613Q71mpOJL._AC_UL320_.jpg\n",
      "https://m.media-amazon.com/images/I/919lFRIWVhL._AC_UL320_.jpg\n",
      "https://m.media-amazon.com/images/I/81cJSj4krcL._AC_UL320_.jpg\n",
      "https://m.media-amazon.com/images/I/91ebOG6QrtL._AC_UL320_.jpg\n",
      "https://m.media-amazon.com/images/I/81gvqw9+kwL._AC_UL320_.jpg\n",
      "https://m.media-amazon.com/images/I/61xGSiwDLJL._AC_UL320_.jpg\n",
      "https://m.media-amazon.com/images/I/41Au5jwcHZL._AC_UL320_.jpg\n",
      "https://m.media-amazon.com/images/I/81uQl47wf5L._AC_UL320_.jpg\n",
      "https://m.media-amazon.com/images/I/813do7VLPXL._AC_UL320_.jpg\n",
      "https://m.media-amazon.com/images/I/91XvbOOQfwL._AC_UL320_.jpg\n",
      "https://m.media-amazon.com/images/I/81-cOTDBkJL._AC_UL320_.jpg\n",
      "https://m.media-amazon.com/images/I/51Pt4ISgJ1L._AC_UL320_.jpg\n",
      "https://m.media-amazon.com/images/I/91etZOoq--L._AC_UL320_.jpg\n",
      "https://m.media-amazon.com/images/I/71ZoHJtC9SL._AC_UL320_.jpg\n",
      "https://m.media-amazon.com/images/I/71+LtVrISQL._AC_UL320_.jpg\n",
      "https://m.media-amazon.com/images/I/81WaewgiFNL._AC_UL320_.jpg\n",
      "https://m.media-amazon.com/images/I/712BvZclUFL._AC_UL320_.jpg\n",
      "https://m.media-amazon.com/images/I/71AB3ZkmnfL._AC_UL320_.jpg\n",
      "https://m.media-amazon.com/images/I/71tpFzD6k7L._AC_UL320_.jpg\n",
      "https://m.media-amazon.com/images/I/71zwNAtzGnL._AC_UL320_.jpg\n",
      "https://m.media-amazon.com/images/I/61HINflMN1L._AC_UL320_.jpg\n",
      "https://m.media-amazon.com/images/I/81iT3n6A9VL._AC_UL320_.jpg\n",
      "https://m.media-amazon.com/images/I/81Q8Oktw4sL._AC_UL320_.jpg\n",
      "https://m.media-amazon.com/images/I/61+lr46CTNL._AC_UL320_.jpg\n",
      "https://m.media-amazon.com/images/I/61hlgOgPghL._AC_UL320_.jpg\n",
      "https://m.media-amazon.com/images/I/81kSVJYRfDL._AC_UL320_.jpg\n",
      "https://m.media-amazon.com/images/I/91U1zs0EvAL._AC_UL320_.jpg\n",
      "https://m.media-amazon.com/images/I/5139t071bIL._AC_UL320_.jpg\n",
      "https://m.media-amazon.com/images/I/81TzhPGEk+L._AC_UL320_.jpg\n",
      "https://m.media-amazon.com/images/I/81djib74cOL._AC_UL320_.jpg\n",
      "https://m.media-amazon.com/images/I/71+TE45Rs5L._AC_UL320_.jpg\n",
      "https://m.media-amazon.com/images/I/61Wbv6vV2fL._AC_UL320_.jpg\n",
      "https://m.media-amazon.com/images/I/91XpJEpdxwL._AC_UL320_.jpg\n",
      "https://m.media-amazon.com/images/I/417n-IZBG8L._AC_UL320_.jpg\n",
      "https://m.media-amazon.com/images/I/41sNbC34BYL._AC_UL320_.jpg\n",
      "https://m.media-amazon.com/images/I/81a2QKapOPL._AC_UL320_.jpg\n",
      "https://m.media-amazon.com/images/I/71Cp8cTKcNL._AC_UL320_.jpg\n",
      "https://m.media-amazon.com/images/I/61faER8sPhL._AC_UL320_.jpg\n"
     ]
    }
   ],
   "source": [
    "urls=[]\n",
    "for image in images:\n",
    "    source= image.get_attribute('src')\n",
    "    urls.append(source)\n",
    "    print(source)"
   ]
  },
  {
   "cell_type": "code",
   "execution_count": 29,
   "metadata": {},
   "outputs": [
    {
     "name": "stdout",
     "output_type": "stream",
     "text": [
      "dowmloading 1 of 60 image from page 6\n",
      "dowmloading 2 of 60 image from page 6\n",
      "dowmloading 3 of 60 image from page 6\n",
      "dowmloading 4 of 60 image from page 6\n",
      "dowmloading 5 of 60 image from page 6\n",
      "dowmloading 6 of 60 image from page 6\n",
      "dowmloading 7 of 60 image from page 6\n",
      "dowmloading 8 of 60 image from page 6\n",
      "dowmloading 9 of 60 image from page 6\n",
      "dowmloading 10 of 60 image from page 6\n",
      "dowmloading 11 of 60 image from page 6\n",
      "dowmloading 12 of 60 image from page 6\n",
      "dowmloading 13 of 60 image from page 6\n",
      "dowmloading 14 of 60 image from page 6\n",
      "dowmloading 15 of 60 image from page 6\n",
      "dowmloading 16 of 60 image from page 6\n",
      "dowmloading 17 of 60 image from page 6\n",
      "dowmloading 18 of 60 image from page 6\n",
      "dowmloading 19 of 60 image from page 6\n",
      "dowmloading 20 of 60 image from page 6\n",
      "dowmloading 21 of 60 image from page 6\n",
      "dowmloading 22 of 60 image from page 6\n",
      "dowmloading 23 of 60 image from page 6\n",
      "dowmloading 24 of 60 image from page 6\n",
      "dowmloading 25 of 60 image from page 6\n",
      "dowmloading 26 of 60 image from page 6\n",
      "dowmloading 27 of 60 image from page 6\n",
      "dowmloading 28 of 60 image from page 6\n",
      "dowmloading 29 of 60 image from page 6\n",
      "dowmloading 30 of 60 image from page 6\n",
      "dowmloading 31 of 60 image from page 6\n",
      "dowmloading 32 of 60 image from page 6\n",
      "dowmloading 33 of 60 image from page 6\n",
      "dowmloading 34 of 60 image from page 6\n",
      "dowmloading 35 of 60 image from page 6\n",
      "dowmloading 36 of 60 image from page 6\n",
      "dowmloading 37 of 60 image from page 6\n",
      "dowmloading 38 of 60 image from page 6\n",
      "dowmloading 39 of 60 image from page 6\n",
      "dowmloading 40 of 60 image from page 6\n",
      "dowmloading 41 of 60 image from page 6\n",
      "dowmloading 42 of 60 image from page 6\n",
      "dowmloading 43 of 60 image from page 6\n",
      "dowmloading 44 of 60 image from page 6\n",
      "dowmloading 45 of 60 image from page 6\n",
      "dowmloading 46 of 60 image from page 6\n",
      "dowmloading 47 of 60 image from page 6\n",
      "dowmloading 48 of 60 image from page 6\n",
      "dowmloading 49 of 60 image from page 6\n",
      "dowmloading 50 of 60 image from page 6\n",
      "dowmloading 51 of 60 image from page 6\n",
      "dowmloading 52 of 60 image from page 6\n",
      "dowmloading 53 of 60 image from page 6\n",
      "dowmloading 54 of 60 image from page 6\n",
      "dowmloading 55 of 60 image from page 6\n",
      "dowmloading 56 of 60 image from page 6\n",
      "dowmloading 57 of 60 image from page 6\n",
      "dowmloading 58 of 60 image from page 6\n",
      "dowmloading 59 of 60 image from page 6\n",
      "dowmloading 60 of 60 image from page 6\n"
     ]
    }
   ],
   "source": [
    "page= 6\n",
    "for index, link in enumerate(urls):\n",
    "    print(\"dowmloading {0} of {1} image from page 6\".format(index+1, len(urls)))\n",
    "    response= requests.get(link)\n",
    "    with open('saree/img_{0}{1}.jpeg'.format(index, page), \"wb\") as file:\n",
    "        file.write(response.content)"
   ]
  },
  {
   "cell_type": "markdown",
   "metadata": {},
   "source": [
    "## Next Page"
   ]
  },
  {
   "cell_type": "code",
   "execution_count": 30,
   "metadata": {},
   "outputs": [],
   "source": [
    "np7=driver.find_element_by_xpath(\"//li[@class= 'a-last']//a\").click()"
   ]
  },
  {
   "cell_type": "code",
   "execution_count": 31,
   "metadata": {},
   "outputs": [
    {
     "name": "stdout",
     "output_type": "stream",
     "text": [
      "60\n"
     ]
    }
   ],
   "source": [
    "images= driver.find_elements_by_xpath(\"//img[@class= 's-image']\")   \n",
    "print(len(images))"
   ]
  },
  {
   "cell_type": "code",
   "execution_count": 32,
   "metadata": {},
   "outputs": [
    {
     "name": "stdout",
     "output_type": "stream",
     "text": [
      "https://m.media-amazon.com/images/I/A1RVzC5lMvL._AC_UL320_.jpg\n",
      "https://m.media-amazon.com/images/I/91f4eWtRIfL._AC_UL320_.jpg\n",
      "https://m.media-amazon.com/images/I/91qOmrya6iL._AC_UL320_.jpg\n",
      "https://m.media-amazon.com/images/I/91OO+B0vyBL._AC_UL320_.jpg\n",
      "https://m.media-amazon.com/images/I/61sfEDfERDL._AC_UL320_.jpg\n",
      "https://m.media-amazon.com/images/I/81V1rg4N2TL._AC_UL320_.jpg\n",
      "https://m.media-amazon.com/images/I/719Tk4Nyj5L._AC_UL320_.jpg\n",
      "https://m.media-amazon.com/images/I/71iLdDhTOaL._AC_UL320_.jpg\n",
      "https://m.media-amazon.com/images/I/51CG9umg36L._AC_UL320_.jpg\n",
      "https://m.media-amazon.com/images/I/71sT5rPpchL._AC_UL320_.jpg\n",
      "https://m.media-amazon.com/images/I/411gxeHZGGL._AC_UL320_.jpg\n",
      "https://m.media-amazon.com/images/I/81wpzBvB-1L._AC_UL320_.jpg\n",
      "https://m.media-amazon.com/images/I/81JhrzGS7CL._AC_UL320_.jpg\n",
      "https://m.media-amazon.com/images/I/71Tv5mNISTL._AC_UL320_.jpg\n",
      "https://m.media-amazon.com/images/I/81K1JEgMxcL._AC_UL320_.jpg\n",
      "https://m.media-amazon.com/images/I/81wt3Z4NEcL._AC_UL320_.jpg\n",
      "https://m.media-amazon.com/images/I/71mQq7K0nxL._AC_UL320_.jpg\n",
      "https://m.media-amazon.com/images/I/81Xrp41nmpL._AC_UL320_.jpg\n",
      "https://m.media-amazon.com/images/I/71rxu2b4cML._AC_UL320_.jpg\n",
      "https://m.media-amazon.com/images/I/81ABsbDghbL._AC_UL320_.jpg\n",
      "https://m.media-amazon.com/images/I/618qK-hfqfL._AC_UL320_.jpg\n",
      "https://m.media-amazon.com/images/I/6171u-T4sUL._AC_UL320_.jpg\n",
      "https://m.media-amazon.com/images/I/81C3BaJCC4L._AC_UL320_.jpg\n",
      "https://m.media-amazon.com/images/I/91arMdAhqXL._AC_UL320_.jpg\n",
      "https://m.media-amazon.com/images/I/911dd-S2rjL._AC_UL320_.jpg\n",
      "https://m.media-amazon.com/images/I/91h0QjRiUHL._AC_UL320_.jpg\n",
      "https://m.media-amazon.com/images/I/41ZiiQ5eQJL._AC_UL320_.jpg\n",
      "https://m.media-amazon.com/images/I/81F3WwlTOZL._AC_UL320_.jpg\n",
      "https://m.media-amazon.com/images/I/41Au5jwcHZL._AC_UL320_.jpg\n",
      "https://m.media-amazon.com/images/I/91esL6GNb9L._AC_UL320_.jpg\n",
      "https://m.media-amazon.com/images/I/813do7VLPXL._AC_UL320_.jpg\n",
      "https://m.media-amazon.com/images/I/81uQl47wf5L._AC_UL320_.jpg\n",
      "https://m.media-amazon.com/images/I/61gbA6aFzOL._AC_UL320_.jpg\n",
      "https://m.media-amazon.com/images/I/71JEGIyGDQL._AC_UL320_.jpg\n",
      "https://m.media-amazon.com/images/I/71kUjWCRTzL._AC_UL320_.jpg\n",
      "https://m.media-amazon.com/images/I/91pwoEGCOVL._AC_UL320_.jpg\n",
      "https://m.media-amazon.com/images/I/71LXsYsnKhL._AC_UL320_.jpg\n",
      "https://m.media-amazon.com/images/I/91GClbasj+L._AC_UL320_.jpg\n",
      "https://m.media-amazon.com/images/I/71+LmcVvULL._AC_UL320_.jpg\n",
      "https://m.media-amazon.com/images/I/91rM4kTXW+L._AC_UL320_.jpg\n",
      "https://m.media-amazon.com/images/I/91LaD6HlSHL._AC_UL320_.jpg\n",
      "https://m.media-amazon.com/images/I/91pWvYDFNtL._AC_UL320_.jpg\n",
      "https://m.media-amazon.com/images/I/71dRFCWpU0L._AC_UL320_.jpg\n",
      "https://m.media-amazon.com/images/I/71BwwiUAsLL._AC_UL320_.jpg\n",
      "https://m.media-amazon.com/images/I/71rqnbQIxtL._AC_UL320_.jpg\n",
      "https://m.media-amazon.com/images/I/61V5JY5xuCL._AC_UL320_.jpg\n",
      "https://m.media-amazon.com/images/I/71tqAkY0XxL._AC_UL320_.jpg\n",
      "https://m.media-amazon.com/images/I/81i4TLparYL._AC_UL320_.jpg\n",
      "https://m.media-amazon.com/images/I/61DT366eQ6L._AC_UL320_.jpg\n",
      "https://m.media-amazon.com/images/I/81XdlIrEOdL._AC_UL320_.jpg\n",
      "https://m.media-amazon.com/images/I/91JZY0YnLlL._AC_UL320_.jpg\n",
      "https://m.media-amazon.com/images/I/71nPjALw1JL._AC_UL320_.jpg\n",
      "https://m.media-amazon.com/images/I/61mrggz9PBL._AC_UL320_.jpg\n",
      "https://m.media-amazon.com/images/I/81aj9zEMn1L._AC_UL320_.jpg\n",
      "https://m.media-amazon.com/images/I/81f8Vl9GkqL._AC_UL320_.jpg\n",
      "https://m.media-amazon.com/images/I/71NGJA6mZML._AC_UL320_.jpg\n",
      "https://m.media-amazon.com/images/I/81KxZEBQNuL._AC_UL320_.jpg\n",
      "https://m.media-amazon.com/images/I/91XvbOOQfwL._AC_UL320_.jpg\n",
      "https://m.media-amazon.com/images/I/91HAgnw2CTL._AC_UL320_.jpg\n",
      "https://m.media-amazon.com/images/I/91JYngQL6jL._AC_UL320_.jpg\n"
     ]
    }
   ],
   "source": [
    "urls=[]\n",
    "for image in images:\n",
    "    source= image.get_attribute('src')\n",
    "    urls.append(source)\n",
    "    print(source)"
   ]
  },
  {
   "cell_type": "code",
   "execution_count": 33,
   "metadata": {},
   "outputs": [
    {
     "name": "stdout",
     "output_type": "stream",
     "text": [
      "dowmloading 1 of 60 image from page 7\n",
      "dowmloading 2 of 60 image from page 7\n",
      "dowmloading 3 of 60 image from page 7\n",
      "dowmloading 4 of 60 image from page 7\n",
      "dowmloading 5 of 60 image from page 7\n",
      "dowmloading 6 of 60 image from page 7\n",
      "dowmloading 7 of 60 image from page 7\n",
      "dowmloading 8 of 60 image from page 7\n",
      "dowmloading 9 of 60 image from page 7\n",
      "dowmloading 10 of 60 image from page 7\n",
      "dowmloading 11 of 60 image from page 7\n",
      "dowmloading 12 of 60 image from page 7\n",
      "dowmloading 13 of 60 image from page 7\n",
      "dowmloading 14 of 60 image from page 7\n",
      "dowmloading 15 of 60 image from page 7\n",
      "dowmloading 16 of 60 image from page 7\n",
      "dowmloading 17 of 60 image from page 7\n",
      "dowmloading 18 of 60 image from page 7\n",
      "dowmloading 19 of 60 image from page 7\n",
      "dowmloading 20 of 60 image from page 7\n",
      "dowmloading 21 of 60 image from page 7\n",
      "dowmloading 22 of 60 image from page 7\n",
      "dowmloading 23 of 60 image from page 7\n",
      "dowmloading 24 of 60 image from page 7\n",
      "dowmloading 25 of 60 image from page 7\n",
      "dowmloading 26 of 60 image from page 7\n",
      "dowmloading 27 of 60 image from page 7\n",
      "dowmloading 28 of 60 image from page 7\n",
      "dowmloading 29 of 60 image from page 7\n",
      "dowmloading 30 of 60 image from page 7\n",
      "dowmloading 31 of 60 image from page 7\n",
      "dowmloading 32 of 60 image from page 7\n",
      "dowmloading 33 of 60 image from page 7\n",
      "dowmloading 34 of 60 image from page 7\n",
      "dowmloading 35 of 60 image from page 7\n",
      "dowmloading 36 of 60 image from page 7\n",
      "dowmloading 37 of 60 image from page 7\n",
      "dowmloading 38 of 60 image from page 7\n",
      "dowmloading 39 of 60 image from page 7\n",
      "dowmloading 40 of 60 image from page 7\n",
      "dowmloading 41 of 60 image from page 7\n",
      "dowmloading 42 of 60 image from page 7\n",
      "dowmloading 43 of 60 image from page 7\n",
      "dowmloading 44 of 60 image from page 7\n",
      "dowmloading 45 of 60 image from page 7\n",
      "dowmloading 46 of 60 image from page 7\n",
      "dowmloading 47 of 60 image from page 7\n",
      "dowmloading 48 of 60 image from page 7\n",
      "dowmloading 49 of 60 image from page 7\n",
      "dowmloading 50 of 60 image from page 7\n",
      "dowmloading 51 of 60 image from page 7\n",
      "dowmloading 52 of 60 image from page 7\n",
      "dowmloading 53 of 60 image from page 7\n",
      "dowmloading 54 of 60 image from page 7\n",
      "dowmloading 55 of 60 image from page 7\n",
      "dowmloading 56 of 60 image from page 7\n",
      "dowmloading 57 of 60 image from page 7\n",
      "dowmloading 58 of 60 image from page 7\n",
      "dowmloading 59 of 60 image from page 7\n",
      "dowmloading 60 of 60 image from page 7\n"
     ]
    }
   ],
   "source": [
    "page= 7\n",
    "for index, link in enumerate(urls):\n",
    "    print(\"dowmloading {0} of {1} image from page 7\".format(index+1, len(urls)))\n",
    "    response= requests.get(link)\n",
    "    with open('saree/img_{0}{1}.jpeg'.format(index, page), \"wb\") as file:\n",
    "        file.write(response.content)"
   ]
  },
  {
   "cell_type": "markdown",
   "metadata": {},
   "source": [
    "## Next page"
   ]
  },
  {
   "cell_type": "code",
   "execution_count": 34,
   "metadata": {},
   "outputs": [],
   "source": [
    "np8=driver.find_element_by_xpath(\"//li[@class= 'a-last']//a\").click()"
   ]
  },
  {
   "cell_type": "code",
   "execution_count": 35,
   "metadata": {},
   "outputs": [
    {
     "name": "stdout",
     "output_type": "stream",
     "text": [
      "60\n"
     ]
    }
   ],
   "source": [
    "images= driver.find_elements_by_xpath(\"//img[@class= 's-image']\")   \n",
    "print(len(images))"
   ]
  },
  {
   "cell_type": "code",
   "execution_count": 36,
   "metadata": {},
   "outputs": [
    {
     "name": "stdout",
     "output_type": "stream",
     "text": [
      "https://m.media-amazon.com/images/I/81KxZEBQNuL._AC_UL320_.jpg\n",
      "https://m.media-amazon.com/images/I/814o0Y1gWrL._AC_UL320_.jpg\n",
      "https://m.media-amazon.com/images/I/81RrhvwAZ9L._AC_UL320_.jpg\n",
      "https://m.media-amazon.com/images/I/91q8o47MRnL._AC_UL320_.jpg\n",
      "https://m.media-amazon.com/images/I/91hUImasEGL._AC_UL320_.jpg\n",
      "https://m.media-amazon.com/images/I/91zz66NEEVL._AC_UL320_.jpg\n",
      "https://m.media-amazon.com/images/I/81y3FTbNxXL._AC_UL320_.jpg\n",
      "https://m.media-amazon.com/images/I/91vxiY8BmTL._AC_UL320_.jpg\n",
      "https://m.media-amazon.com/images/I/71KGXpiEWRL._AC_UL320_.jpg\n",
      "https://m.media-amazon.com/images/I/91TBeQbSmbL._AC_UL320_.jpg\n",
      "https://m.media-amazon.com/images/I/91hnpooM-yL._AC_UL320_.jpg\n",
      "https://m.media-amazon.com/images/I/61dv65oTsOL._AC_UL320_.jpg\n",
      "https://m.media-amazon.com/images/I/71-LRH9f2VL._AC_UL320_.jpg\n",
      "https://m.media-amazon.com/images/I/91VSRn2nB-L._AC_UL320_.jpg\n",
      "https://m.media-amazon.com/images/I/91CRf2nljvL._AC_UL320_.jpg\n",
      "https://m.media-amazon.com/images/I/71vRp7mPgyL._AC_UL320_.jpg\n",
      "https://m.media-amazon.com/images/I/71SuXqzT-VL._AC_UL320_.jpg\n",
      "https://m.media-amazon.com/images/I/91eQhbcf-XL._AC_UL320_.jpg\n",
      "https://m.media-amazon.com/images/I/81yedahoHDL._AC_UL320_.jpg\n",
      "https://m.media-amazon.com/images/I/71iiGm-PxTL._AC_UL320_.jpg\n",
      "https://m.media-amazon.com/images/I/91qWCXvfmNL._AC_UL320_.jpg\n",
      "https://m.media-amazon.com/images/I/51TbtReml1L._AC_UL320_.jpg\n",
      "https://m.media-amazon.com/images/I/61K3X3dUUrL._AC_UL320_.jpg\n",
      "https://m.media-amazon.com/images/I/715uwUzQijL._AC_UL320_.jpg\n",
      "https://m.media-amazon.com/images/I/91HAgnw2CTL._AC_UL320_.jpg\n",
      "https://m.media-amazon.com/images/I/41oA7an8oDL._AC_UL320_.jpg\n",
      "https://m.media-amazon.com/images/I/91hnIcKX7eL._AC_UL320_.jpg\n",
      "https://m.media-amazon.com/images/I/81hXpq7Jv3L._AC_UL320_.jpg\n",
      "https://m.media-amazon.com/images/I/41Au5jwcHZL._AC_UL320_.jpg\n",
      "https://m.media-amazon.com/images/I/812T419yJcL._AC_UL320_.jpg\n",
      "https://m.media-amazon.com/images/I/813do7VLPXL._AC_UL320_.jpg\n",
      "https://m.media-amazon.com/images/I/81uQl47wf5L._AC_UL320_.jpg\n",
      "https://m.media-amazon.com/images/I/91YuJj-hxOL._AC_UL320_.jpg\n",
      "https://m.media-amazon.com/images/I/8110V7m36zL._AC_UL320_.jpg\n",
      "https://m.media-amazon.com/images/I/614eTmg41lL._AC_UL320_.jpg\n",
      "https://m.media-amazon.com/images/I/81QH8pCXMYL._AC_UL320_.jpg\n",
      "https://m.media-amazon.com/images/I/71AvQRws1xL._AC_UL320_.jpg\n",
      "https://m.media-amazon.com/images/I/81s4hVMBN3L._AC_UL320_.jpg\n",
      "https://m.media-amazon.com/images/I/71s5vpq8JVL._AC_UL320_.jpg\n",
      "https://m.media-amazon.com/images/I/81gYVzsTDfL._AC_UL320_.jpg\n",
      "https://m.media-amazon.com/images/I/91dTb--5IoL._AC_UL320_.jpg\n",
      "https://m.media-amazon.com/images/I/91mbbcE5B-L._AC_UL320_.jpg\n",
      "https://m.media-amazon.com/images/I/81unPU4qsLL._AC_UL320_.jpg\n",
      "https://m.media-amazon.com/images/I/618gz8tM6VL._AC_UL320_.jpg\n",
      "https://m.media-amazon.com/images/I/61AK+HE6J7L._AC_UL320_.jpg\n",
      "https://m.media-amazon.com/images/I/81dkSgs7nsL._AC_UL320_.jpg\n",
      "https://m.media-amazon.com/images/I/81WwpOafDyL._AC_UL320_.jpg\n",
      "https://m.media-amazon.com/images/I/61A0dZfHTXL._AC_UL320_.jpg\n",
      "https://m.media-amazon.com/images/I/41+nMPfKdCL._AC_UL320_.jpg\n",
      "https://m.media-amazon.com/images/I/81raqal2mWL._AC_UL320_.jpg\n",
      "https://m.media-amazon.com/images/I/91OBIWkJFBL._AC_UL320_.jpg\n",
      "https://m.media-amazon.com/images/I/A1tFsM3g3vL._AC_UL320_.jpg\n",
      "https://m.media-amazon.com/images/I/71xhh2cs-xL._AC_UL320_.jpg\n",
      "https://m.media-amazon.com/images/I/81ou9LkKTsL._AC_UL320_.jpg\n",
      "https://m.media-amazon.com/images/I/81HaLEL9XcL._AC_UL320_.jpg\n",
      "https://m.media-amazon.com/images/I/81cV-i2j7QL._AC_UL320_.jpg\n",
      "https://m.media-amazon.com/images/I/71moGdJ0RqL._AC_UL320_.jpg\n",
      "https://m.media-amazon.com/images/I/91XvbOOQfwL._AC_UL320_.jpg\n",
      "https://m.media-amazon.com/images/I/91HAgnw2CTL._AC_UL320_.jpg\n",
      "https://m.media-amazon.com/images/I/71fKD67GsNL._AC_UL320_.jpg\n"
     ]
    }
   ],
   "source": [
    "urls=[]\n",
    "for image in images:\n",
    "    source= image.get_attribute('src')\n",
    "    urls.append(source)\n",
    "    print(source)"
   ]
  },
  {
   "cell_type": "code",
   "execution_count": 37,
   "metadata": {},
   "outputs": [
    {
     "name": "stdout",
     "output_type": "stream",
     "text": [
      "dowmloading 1 of 60 image from page 8\n",
      "dowmloading 2 of 60 image from page 8\n",
      "dowmloading 3 of 60 image from page 8\n",
      "dowmloading 4 of 60 image from page 8\n",
      "dowmloading 5 of 60 image from page 8\n",
      "dowmloading 6 of 60 image from page 8\n",
      "dowmloading 7 of 60 image from page 8\n",
      "dowmloading 8 of 60 image from page 8\n",
      "dowmloading 9 of 60 image from page 8\n",
      "dowmloading 10 of 60 image from page 8\n",
      "dowmloading 11 of 60 image from page 8\n",
      "dowmloading 12 of 60 image from page 8\n",
      "dowmloading 13 of 60 image from page 8\n",
      "dowmloading 14 of 60 image from page 8\n",
      "dowmloading 15 of 60 image from page 8\n",
      "dowmloading 16 of 60 image from page 8\n",
      "dowmloading 17 of 60 image from page 8\n",
      "dowmloading 18 of 60 image from page 8\n",
      "dowmloading 19 of 60 image from page 8\n",
      "dowmloading 20 of 60 image from page 8\n",
      "dowmloading 21 of 60 image from page 8\n",
      "dowmloading 22 of 60 image from page 8\n",
      "dowmloading 23 of 60 image from page 8\n",
      "dowmloading 24 of 60 image from page 8\n",
      "dowmloading 25 of 60 image from page 8\n",
      "dowmloading 26 of 60 image from page 8\n",
      "dowmloading 27 of 60 image from page 8\n",
      "dowmloading 28 of 60 image from page 8\n",
      "dowmloading 29 of 60 image from page 8\n",
      "dowmloading 30 of 60 image from page 8\n",
      "dowmloading 31 of 60 image from page 8\n",
      "dowmloading 32 of 60 image from page 8\n",
      "dowmloading 33 of 60 image from page 8\n",
      "dowmloading 34 of 60 image from page 8\n",
      "dowmloading 35 of 60 image from page 8\n",
      "dowmloading 36 of 60 image from page 8\n",
      "dowmloading 37 of 60 image from page 8\n",
      "dowmloading 38 of 60 image from page 8\n",
      "dowmloading 39 of 60 image from page 8\n",
      "dowmloading 40 of 60 image from page 8\n",
      "dowmloading 41 of 60 image from page 8\n",
      "dowmloading 42 of 60 image from page 8\n",
      "dowmloading 43 of 60 image from page 8\n",
      "dowmloading 44 of 60 image from page 8\n",
      "dowmloading 45 of 60 image from page 8\n",
      "dowmloading 46 of 60 image from page 8\n",
      "dowmloading 47 of 60 image from page 8\n",
      "dowmloading 48 of 60 image from page 8\n",
      "dowmloading 49 of 60 image from page 8\n",
      "dowmloading 50 of 60 image from page 8\n",
      "dowmloading 51 of 60 image from page 8\n",
      "dowmloading 52 of 60 image from page 8\n",
      "dowmloading 53 of 60 image from page 8\n",
      "dowmloading 54 of 60 image from page 8\n",
      "dowmloading 55 of 60 image from page 8\n",
      "dowmloading 56 of 60 image from page 8\n",
      "dowmloading 57 of 60 image from page 8\n",
      "dowmloading 58 of 60 image from page 8\n",
      "dowmloading 59 of 60 image from page 8\n",
      "dowmloading 60 of 60 image from page 8\n"
     ]
    }
   ],
   "source": [
    "page= 8\n",
    "for index, link in enumerate(urls):\n",
    "    print(\"dowmloading {0} of {1} image from page 8\".format(index+1, len(urls)))\n",
    "    response= requests.get(link)\n",
    "    with open('saree/img_{0}{1}.jpeg'.format(index, page), \"wb\") as file:\n",
    "        file.write(response.content)"
   ]
  },
  {
   "cell_type": "code",
   "execution_count": null,
   "metadata": {},
   "outputs": [],
   "source": []
  }
 ],
 "metadata": {
  "kernelspec": {
   "display_name": "Python 3",
   "language": "python",
   "name": "python3"
  },
  "language_info": {
   "codemirror_mode": {
    "name": "ipython",
    "version": 3
   },
   "file_extension": ".py",
   "mimetype": "text/x-python",
   "name": "python",
   "nbconvert_exporter": "python",
   "pygments_lexer": "ipython3",
   "version": "3.8.5"
  }
 },
 "nbformat": 4,
 "nbformat_minor": 4
}
