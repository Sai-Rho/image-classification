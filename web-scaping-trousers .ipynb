{
 "cells": [
  {
   "cell_type": "markdown",
   "metadata": {},
   "source": [
    "# Web Scraping Trousers "
   ]
  },
  {
   "cell_type": "markdown",
   "metadata": {},
   "source": [
    "Installing selenium"
   ]
  },
  {
   "cell_type": "code",
   "execution_count": 1,
   "metadata": {},
   "outputs": [
    {
     "name": "stdout",
     "output_type": "stream",
     "text": [
      "Requirement already satisfied: selenium in c:\\users\\sai\\anaconda3\\lib\\site-packages (3.141.0)\n",
      "Requirement already satisfied: urllib3 in c:\\users\\sai\\anaconda3\\lib\\site-packages (from selenium) (1.25.11)\n"
     ]
    }
   ],
   "source": [
    "!pip install selenium"
   ]
  },
  {
   "cell_type": "markdown",
   "metadata": {},
   "source": [
    "Importing required library"
   ]
  },
  {
   "cell_type": "code",
   "execution_count": 2,
   "metadata": {},
   "outputs": [],
   "source": [
    "from selenium import webdriver\n",
    "from selenium.webdriver.common.keys import Keys\n",
    "import pandas as pd\n",
    "import os\n",
    "import time\n",
    "import shutil\n",
    "import requests"
   ]
  },
  {
   "cell_type": "markdown",
   "metadata": {},
   "source": [
    "Configuring webdriver to use the chrome browser"
   ]
  },
  {
   "cell_type": "code",
   "execution_count": 3,
   "metadata": {},
   "outputs": [],
   "source": [
    "driver = webdriver.Chrome('C:/Users/sai/chromedriver.exe')"
   ]
  },
  {
   "cell_type": "markdown",
   "metadata": {},
   "source": [
    "Getting the url to scrape"
   ]
  },
  {
   "cell_type": "code",
   "execution_count": 4,
   "metadata": {},
   "outputs": [],
   "source": [
    "my_page = driver.get(\"https://www.amazon.in/s?k=trousers&i=apparel&bbn=1968125031&rh=n%3A1571271031%2Cn%3A1968024031%2Cn%3A1968125031&dc&qid=1609608006&ref=sr_ex_n_1\")"
   ]
  },
  {
   "cell_type": "markdown",
   "metadata": {},
   "source": [
    "# Directory to store images\n"
   ]
  },
  {
   "cell_type": "code",
   "execution_count": 5,
   "metadata": {},
   "outputs": [],
   "source": [
    "def make_directory(dirname):\n",
    "    current_path=os.getcwd()\n",
    "    path=os.path.join(current_path, dirname)\n",
    "    if not os.path.exists(path):\n",
    "        os.makedirs(path)"
   ]
  },
  {
   "cell_type": "code",
   "execution_count": 6,
   "metadata": {},
   "outputs": [],
   "source": [
    "make_directory(\"trouser\")"
   ]
  },
  {
   "cell_type": "markdown",
   "metadata": {},
   "source": [
    "# Scraping images"
   ]
  },
  {
   "cell_type": "code",
   "execution_count": 7,
   "metadata": {},
   "outputs": [
    {
     "name": "stdout",
     "output_type": "stream",
     "text": [
      "60\n"
     ]
    }
   ],
   "source": [
    "images= driver.find_elements_by_xpath(\"//img[@class= 's-image']\")\n",
    "print(len(images))"
   ]
  },
  {
   "cell_type": "code",
   "execution_count": 8,
   "metadata": {},
   "outputs": [
    {
     "name": "stdout",
     "output_type": "stream",
     "text": [
      "https://m.media-amazon.com/images/I/71wKhs00EdL._AC_UL320_.jpg\n",
      "https://m.media-amazon.com/images/I/71cKJ+w5moL._AC_UL320_.jpg\n",
      "https://m.media-amazon.com/images/I/71kwPo2QZFL._AC_UL320_.jpg\n",
      "https://m.media-amazon.com/images/I/71jMwWptApL._AC_UL320_.jpg\n",
      "https://m.media-amazon.com/images/I/61KwCbPkOyL._AC_UL320_.jpg\n",
      "https://m.media-amazon.com/images/I/71haKlhpIgL._AC_UL320_.jpg\n",
      "https://m.media-amazon.com/images/I/61NKxXc+lIL._AC_UL320_.jpg\n",
      "https://m.media-amazon.com/images/I/71+SNWIF2xL._AC_UL320_.jpg\n",
      "https://m.media-amazon.com/images/I/81UwKKEVb1L._AC_UL320_.jpg\n",
      "https://m.media-amazon.com/images/I/81d37fLAwUL._AC_UL320_.jpg\n",
      "https://m.media-amazon.com/images/I/71Q5-OwPRoL._AC_UL320_.jpg\n",
      "https://m.media-amazon.com/images/I/61DDTK7BN-L._AC_UL320_.jpg\n",
      "https://m.media-amazon.com/images/I/81aKPu-Gl-L._AC_UL320_.jpg\n",
      "https://m.media-amazon.com/images/I/81+43OwukxL._AC_UL320_.jpg\n",
      "https://m.media-amazon.com/images/I/610obmvmQfL._AC_UL320_.jpg\n",
      "https://m.media-amazon.com/images/I/71o4Wrj45oL._AC_UL320_.jpg\n",
      "https://m.media-amazon.com/images/I/51nvM2IEKBL._AC_UL320_.jpg\n",
      "https://m.media-amazon.com/images/I/61sKcv8lQsL._AC_UL320_.jpg\n",
      "https://m.media-amazon.com/images/I/61vpZfFVQAL._AC_UL320_.jpg\n",
      "https://m.media-amazon.com/images/I/81IOJaBxdbL._AC_UL320_.jpg\n",
      "https://m.media-amazon.com/images/I/71ij9BXtILL._AC_UL320_.jpg\n",
      "https://m.media-amazon.com/images/I/51u4kRutKKL._AC_UL320_.jpg\n",
      "https://m.media-amazon.com/images/I/81j02zS+I1L._AC_UL320_.jpg\n",
      "https://m.media-amazon.com/images/I/71b9pSv80XL._AC_UL320_.jpg\n",
      "https://m.media-amazon.com/images/I/81Lg1x1O29L._AC_UL320_.jpg\n",
      "https://m.media-amazon.com/images/I/81vOn7CyUWL._AC_UL320_.jpg\n",
      "https://m.media-amazon.com/images/I/71tHnPbUjVL._AC_UL320_.jpg\n",
      "https://m.media-amazon.com/images/I/71fxSH1oryL._AC_UL320_.jpg\n",
      "https://m.media-amazon.com/images/I/71A7aOniRaL._AC_UL320_.jpg\n",
      "https://m.media-amazon.com/images/I/61h5UpFVZxL._AC_UL320_.jpg\n",
      "https://m.media-amazon.com/images/I/61Gen1ZJhtL._AC_UL320_.jpg\n",
      "https://m.media-amazon.com/images/I/61MlAxJricL._AC_UL320_.jpg\n",
      "https://m.media-amazon.com/images/I/61ELAf0ZLcL._AC_UL320_.jpg\n",
      "https://m.media-amazon.com/images/I/81zh36QEztL._AC_UL320_.jpg\n",
      "https://m.media-amazon.com/images/I/71ki+gKJsvL._AC_UL320_.jpg\n",
      "https://m.media-amazon.com/images/I/919ONwO7HnL._AC_UL320_.jpg\n",
      "https://m.media-amazon.com/images/I/61vQJspgUXL._AC_UL320_.jpg\n",
      "https://m.media-amazon.com/images/I/611DpiEGNHL._AC_UL320_.jpg\n",
      "https://m.media-amazon.com/images/I/71ESlnVyI2L._AC_UL320_.jpg\n",
      "https://m.media-amazon.com/images/I/71pgtmd8FpL._AC_UL320_.jpg\n",
      "https://m.media-amazon.com/images/I/71pgtmd8FpL._AC_UL320_.jpg\n",
      "https://m.media-amazon.com/images/I/A1GlPRqmfsL._AC_UL320_.jpg\n",
      "https://m.media-amazon.com/images/I/712aAGntsBL._AC_UL320_.jpg\n",
      "https://m.media-amazon.com/images/I/51lc2J8W-mL._AC_UL320_.jpg\n",
      "https://m.media-amazon.com/images/I/71HAWLBbpWL._AC_UL320_.jpg\n",
      "https://m.media-amazon.com/images/I/61EOzu4TXiL._AC_UL320_.jpg\n",
      "https://m.media-amazon.com/images/I/71PqeU5u-0L._AC_UL320_.jpg\n",
      "https://m.media-amazon.com/images/I/71LiTm+w4nL._AC_UL320_.jpg\n",
      "https://m.media-amazon.com/images/I/51DaJr4YgzL._AC_UL320_.jpg\n",
      "https://m.media-amazon.com/images/I/81xHqfuhr2L._AC_UL320_.jpg\n",
      "https://m.media-amazon.com/images/I/61GOnvgD-sL._AC_UL320_.jpg\n",
      "https://m.media-amazon.com/images/I/71MVZ5ge0gL._AC_UL320_.jpg\n",
      "https://m.media-amazon.com/images/I/71jtq57K3hL._AC_UL320_.jpg\n",
      "https://m.media-amazon.com/images/I/71OsUkrUshL._AC_UL320_.jpg\n",
      "https://m.media-amazon.com/images/I/71EnkTb1wRL._AC_UL320_.jpg\n",
      "https://m.media-amazon.com/images/I/812GuriqN4L._AC_UL320_.jpg\n",
      "https://m.media-amazon.com/images/I/71ytax2wYqL._AC_UL320_.jpg\n",
      "https://m.media-amazon.com/images/I/71bBi+VTYcL._AC_UL320_.jpg\n",
      "https://m.media-amazon.com/images/I/71N2Fy81BjL._AC_UL320_.jpg\n",
      "https://m.media-amazon.com/images/I/71F6nGXnVxL._AC_UL320_.jpg\n"
     ]
    }
   ],
   "source": [
    "urls=[]\n",
    "for image in images:\n",
    "    source= image.get_attribute('src')\n",
    "    urls.append(source)\n",
    "    print(source)"
   ]
  },
  {
   "cell_type": "markdown",
   "metadata": {},
   "source": [
    "# Downloading Images"
   ]
  },
  {
   "cell_type": "code",
   "execution_count": 9,
   "metadata": {},
   "outputs": [
    {
     "name": "stdout",
     "output_type": "stream",
     "text": [
      "dowmloading 1 of 60 image from page 1\n",
      "dowmloading 2 of 60 image from page 1\n",
      "dowmloading 3 of 60 image from page 1\n",
      "dowmloading 4 of 60 image from page 1\n",
      "dowmloading 5 of 60 image from page 1\n",
      "dowmloading 6 of 60 image from page 1\n",
      "dowmloading 7 of 60 image from page 1\n",
      "dowmloading 8 of 60 image from page 1\n",
      "dowmloading 9 of 60 image from page 1\n",
      "dowmloading 10 of 60 image from page 1\n",
      "dowmloading 11 of 60 image from page 1\n",
      "dowmloading 12 of 60 image from page 1\n",
      "dowmloading 13 of 60 image from page 1\n",
      "dowmloading 14 of 60 image from page 1\n",
      "dowmloading 15 of 60 image from page 1\n",
      "dowmloading 16 of 60 image from page 1\n",
      "dowmloading 17 of 60 image from page 1\n",
      "dowmloading 18 of 60 image from page 1\n",
      "dowmloading 19 of 60 image from page 1\n",
      "dowmloading 20 of 60 image from page 1\n",
      "dowmloading 21 of 60 image from page 1\n",
      "dowmloading 22 of 60 image from page 1\n",
      "dowmloading 23 of 60 image from page 1\n",
      "dowmloading 24 of 60 image from page 1\n",
      "dowmloading 25 of 60 image from page 1\n",
      "dowmloading 26 of 60 image from page 1\n",
      "dowmloading 27 of 60 image from page 1\n",
      "dowmloading 28 of 60 image from page 1\n",
      "dowmloading 29 of 60 image from page 1\n",
      "dowmloading 30 of 60 image from page 1\n",
      "dowmloading 31 of 60 image from page 1\n",
      "dowmloading 32 of 60 image from page 1\n",
      "dowmloading 33 of 60 image from page 1\n",
      "dowmloading 34 of 60 image from page 1\n",
      "dowmloading 35 of 60 image from page 1\n",
      "dowmloading 36 of 60 image from page 1\n",
      "dowmloading 37 of 60 image from page 1\n",
      "dowmloading 38 of 60 image from page 1\n",
      "dowmloading 39 of 60 image from page 1\n",
      "dowmloading 40 of 60 image from page 1\n",
      "dowmloading 41 of 60 image from page 1\n",
      "dowmloading 42 of 60 image from page 1\n",
      "dowmloading 43 of 60 image from page 1\n",
      "dowmloading 44 of 60 image from page 1\n",
      "dowmloading 45 of 60 image from page 1\n",
      "dowmloading 46 of 60 image from page 1\n",
      "dowmloading 47 of 60 image from page 1\n",
      "dowmloading 48 of 60 image from page 1\n",
      "dowmloading 49 of 60 image from page 1\n",
      "dowmloading 50 of 60 image from page 1\n",
      "dowmloading 51 of 60 image from page 1\n",
      "dowmloading 52 of 60 image from page 1\n",
      "dowmloading 53 of 60 image from page 1\n",
      "dowmloading 54 of 60 image from page 1\n",
      "dowmloading 55 of 60 image from page 1\n",
      "dowmloading 56 of 60 image from page 1\n",
      "dowmloading 57 of 60 image from page 1\n",
      "dowmloading 58 of 60 image from page 1\n",
      "dowmloading 59 of 60 image from page 1\n",
      "dowmloading 60 of 60 image from page 1\n"
     ]
    }
   ],
   "source": [
    "page= 1\n",
    "for index, link in enumerate(urls):\n",
    "    print(\"dowmloading {0} of {1} image from page 1\".format(index+1, len(urls)))\n",
    "    response= requests.get(link)\n",
    "    with open('trouser/img_{0}{1}.jpeg'.format(index, page), \"wb\") as file:\n",
    "        file.write(response.content)"
   ]
  },
  {
   "cell_type": "markdown",
   "metadata": {},
   "source": [
    "# Moving to the 2nd page\n"
   ]
  },
  {
   "cell_type": "markdown",
   "metadata": {},
   "source": [
    "Finding next button and it's x_path\n"
   ]
  },
  {
   "cell_type": "code",
   "execution_count": 10,
   "metadata": {},
   "outputs": [],
   "source": [
    "np2=driver.find_element_by_xpath(\"//li[@class= 'a-last']//a\").click()"
   ]
  },
  {
   "cell_type": "code",
   "execution_count": 11,
   "metadata": {},
   "outputs": [
    {
     "name": "stdout",
     "output_type": "stream",
     "text": [
      "60\n"
     ]
    }
   ],
   "source": [
    "images= driver.find_elements_by_xpath(\"//img[@class= 's-image']\")  \n",
    "print(len(images))"
   ]
  },
  {
   "cell_type": "code",
   "execution_count": 12,
   "metadata": {},
   "outputs": [
    {
     "name": "stdout",
     "output_type": "stream",
     "text": [
      "https://m.media-amazon.com/images/I/81ABqiAJm1L._AC_UL320_.jpg\n",
      "https://m.media-amazon.com/images/I/81KhWGCwEGL._AC_UL320_.jpg\n",
      "https://m.media-amazon.com/images/I/71PgOgaU76L._AC_UL320_.jpg\n",
      "https://m.media-amazon.com/images/I/919ONwO7HnL._AC_UL320_.jpg\n",
      "https://m.media-amazon.com/images/I/710A9NNYTnL._AC_UL320_.jpg\n",
      "https://m.media-amazon.com/images/I/81C2eaWfBVL._AC_UL320_.jpg\n",
      "https://m.media-amazon.com/images/I/71XKygB9u7L._AC_UL320_.jpg\n",
      "https://m.media-amazon.com/images/I/51VUdlHBsvL._AC_UL320_.jpg\n",
      "https://m.media-amazon.com/images/I/71yHS927iGL._AC_UL320_.jpg\n",
      "https://m.media-amazon.com/images/I/718etpND0SL._AC_UL320_.jpg\n",
      "https://m.media-amazon.com/images/I/91qpldVojyL._AC_UL320_.jpg\n",
      "https://m.media-amazon.com/images/I/7135QSVJdeL._AC_UL320_.jpg\n",
      "https://m.media-amazon.com/images/I/81DSk8UBxpL._AC_UL320_.jpg\n",
      "https://m.media-amazon.com/images/I/81uI8OHU+2L._AC_UL320_.jpg\n",
      "https://m.media-amazon.com/images/I/71QHedpGC7L._AC_UL320_.jpg\n",
      "https://m.media-amazon.com/images/I/81m3dG4twjL._AC_UL320_.jpg\n",
      "https://m.media-amazon.com/images/I/61Ri6MUj3qL._AC_UL320_.jpg\n",
      "https://m.media-amazon.com/images/I/81DOwUqSO6L._AC_UL320_.jpg\n",
      "https://m.media-amazon.com/images/I/71tnmDxhjcL._AC_UL320_.jpg\n",
      "https://m.media-amazon.com/images/I/716U0jMfs7L._AC_UL320_.jpg\n",
      "https://m.media-amazon.com/images/I/81ccugdOKeL._AC_UL320_.jpg\n",
      "https://m.media-amazon.com/images/I/71ETLX5vIQL._AC_UL320_.jpg\n",
      "https://m.media-amazon.com/images/I/510LYhkUTgL._AC_UL320_.jpg\n",
      "https://m.media-amazon.com/images/I/61x3Txw7WXL._AC_UL320_.jpg\n",
      "https://m.media-amazon.com/images/I/81YMVCZDHzL._AC_UL320_.jpg\n",
      "https://m.media-amazon.com/images/I/71azV0bA62L._AC_UL320_.jpg\n",
      "https://m.media-amazon.com/images/I/71jfz6ObDfL._AC_UL320_.jpg\n",
      "https://m.media-amazon.com/images/I/61vkOnZ10HL._AC_UL320_.jpg\n",
      "https://m.media-amazon.com/images/I/71UMSu5e6rL._AC_UL320_.jpg\n",
      "https://m.media-amazon.com/images/I/81OgsYinR0L._AC_UL320_.jpg\n",
      "https://m.media-amazon.com/images/I/81G0reyLtqL._AC_UL320_.jpg\n",
      "https://m.media-amazon.com/images/I/813l2v3W6qL._AC_UL320_.jpg\n",
      "https://m.media-amazon.com/images/I/81zoWq6v9DL._AC_UL320_.jpg\n",
      "https://m.media-amazon.com/images/I/51C1EbFIOKL._AC_UL320_.jpg\n",
      "https://m.media-amazon.com/images/I/81cgAFX29oL._AC_UL320_.jpg\n",
      "https://m.media-amazon.com/images/I/81yEueJAIfL._AC_UL320_.jpg\n",
      "https://m.media-amazon.com/images/I/71hNkE28fqL._AC_UL320_.jpg\n",
      "https://m.media-amazon.com/images/I/71T6eD7fhjL._AC_UL320_.jpg\n",
      "https://m.media-amazon.com/images/I/71hTK27xanL._AC_UL320_.jpg\n",
      "https://m.media-amazon.com/images/I/71iA2zQdFbL._AC_UL320_.jpg\n",
      "https://m.media-amazon.com/images/I/81FjxkwPw4L._AC_UL320_.jpg\n",
      "https://m.media-amazon.com/images/I/91a2iCGHU+L._AC_UL320_.jpg\n",
      "https://m.media-amazon.com/images/I/715qwDpY3TL._AC_UL320_.jpg\n",
      "https://m.media-amazon.com/images/I/814JPXduj2L._AC_UL320_.jpg\n",
      "https://m.media-amazon.com/images/I/61rsMT9EfiL._AC_UL320_.jpg\n",
      "https://m.media-amazon.com/images/I/812fdF02BwL._AC_UL320_.jpg\n",
      "https://m.media-amazon.com/images/I/61tYOzar1hL._AC_UL320_.jpg\n",
      "https://m.media-amazon.com/images/I/61HNqBzMehL._AC_UL320_.jpg\n",
      "https://m.media-amazon.com/images/I/81gDn2DzSkL._AC_UL320_.jpg\n",
      "https://m.media-amazon.com/images/I/71UHoQ2wPzL._AC_UL320_.jpg\n",
      "https://m.media-amazon.com/images/I/712DgzsqUSL._AC_UL320_.jpg\n",
      "https://m.media-amazon.com/images/I/71tpOPuowhL._AC_UL320_.jpg\n",
      "https://m.media-amazon.com/images/I/71jaCNBA8dL._AC_UL320_.jpg\n",
      "https://m.media-amazon.com/images/I/71r9UyyatjL._AC_UL320_.jpg\n",
      "https://m.media-amazon.com/images/I/71YkI6iwCoL._AC_UL320_.jpg\n",
      "https://m.media-amazon.com/images/I/71+q2Lahb2L._AC_UL320_.jpg\n",
      "https://m.media-amazon.com/images/I/71Jg1bPiYbL._AC_UL320_.jpg\n",
      "https://m.media-amazon.com/images/I/71033SEC5ML._AC_UL320_.jpg\n",
      "https://m.media-amazon.com/images/I/51A-AZUchWL._AC_UL320_.jpg\n",
      "https://m.media-amazon.com/images/I/71SiOgt7ENL._AC_UL320_.jpg\n"
     ]
    }
   ],
   "source": [
    "urls=[]\n",
    "for image in images:\n",
    "    source= image.get_attribute('src')\n",
    "    urls.append(source)\n",
    "    print(source)"
   ]
  },
  {
   "cell_type": "code",
   "execution_count": 13,
   "metadata": {},
   "outputs": [
    {
     "name": "stdout",
     "output_type": "stream",
     "text": [
      "dowmloading 1 of 60 image from page 2\n",
      "dowmloading 2 of 60 image from page 2\n",
      "dowmloading 3 of 60 image from page 2\n",
      "dowmloading 4 of 60 image from page 2\n",
      "dowmloading 5 of 60 image from page 2\n",
      "dowmloading 6 of 60 image from page 2\n",
      "dowmloading 7 of 60 image from page 2\n",
      "dowmloading 8 of 60 image from page 2\n",
      "dowmloading 9 of 60 image from page 2\n",
      "dowmloading 10 of 60 image from page 2\n",
      "dowmloading 11 of 60 image from page 2\n",
      "dowmloading 12 of 60 image from page 2\n",
      "dowmloading 13 of 60 image from page 2\n",
      "dowmloading 14 of 60 image from page 2\n",
      "dowmloading 15 of 60 image from page 2\n",
      "dowmloading 16 of 60 image from page 2\n",
      "dowmloading 17 of 60 image from page 2\n",
      "dowmloading 18 of 60 image from page 2\n",
      "dowmloading 19 of 60 image from page 2\n",
      "dowmloading 20 of 60 image from page 2\n",
      "dowmloading 21 of 60 image from page 2\n",
      "dowmloading 22 of 60 image from page 2\n",
      "dowmloading 23 of 60 image from page 2\n",
      "dowmloading 24 of 60 image from page 2\n",
      "dowmloading 25 of 60 image from page 2\n",
      "dowmloading 26 of 60 image from page 2\n",
      "dowmloading 27 of 60 image from page 2\n",
      "dowmloading 28 of 60 image from page 2\n",
      "dowmloading 29 of 60 image from page 2\n",
      "dowmloading 30 of 60 image from page 2\n",
      "dowmloading 31 of 60 image from page 2\n",
      "dowmloading 32 of 60 image from page 2\n",
      "dowmloading 33 of 60 image from page 2\n",
      "dowmloading 34 of 60 image from page 2\n",
      "dowmloading 35 of 60 image from page 2\n",
      "dowmloading 36 of 60 image from page 2\n",
      "dowmloading 37 of 60 image from page 2\n",
      "dowmloading 38 of 60 image from page 2\n",
      "dowmloading 39 of 60 image from page 2\n",
      "dowmloading 40 of 60 image from page 2\n",
      "dowmloading 41 of 60 image from page 2\n",
      "dowmloading 42 of 60 image from page 2\n",
      "dowmloading 43 of 60 image from page 2\n",
      "dowmloading 44 of 60 image from page 2\n",
      "dowmloading 45 of 60 image from page 2\n",
      "dowmloading 46 of 60 image from page 2\n",
      "dowmloading 47 of 60 image from page 2\n",
      "dowmloading 48 of 60 image from page 2\n",
      "dowmloading 49 of 60 image from page 2\n",
      "dowmloading 50 of 60 image from page 2\n",
      "dowmloading 51 of 60 image from page 2\n",
      "dowmloading 52 of 60 image from page 2\n",
      "dowmloading 53 of 60 image from page 2\n",
      "dowmloading 54 of 60 image from page 2\n",
      "dowmloading 55 of 60 image from page 2\n",
      "dowmloading 56 of 60 image from page 2\n",
      "dowmloading 57 of 60 image from page 2\n",
      "dowmloading 58 of 60 image from page 2\n",
      "dowmloading 59 of 60 image from page 2\n",
      "dowmloading 60 of 60 image from page 2\n"
     ]
    }
   ],
   "source": [
    "page= 2\n",
    "for index, link in enumerate(urls):\n",
    "    print(\"dowmloading {0} of {1} image from page 2\".format(index+1, len(urls)))\n",
    "    response= requests.get(link)\n",
    "    with open('trouser/img_{0}{1}.jpeg'.format(index, page), \"wb\") as file:\n",
    "        file.write(response.content)"
   ]
  },
  {
   "cell_type": "markdown",
   "metadata": {},
   "source": [
    "## Next page > 3"
   ]
  },
  {
   "cell_type": "code",
   "execution_count": 14,
   "metadata": {},
   "outputs": [],
   "source": [
    "np3=driver.find_element_by_xpath(\"//li[@class= 'a-last']//a\").click()"
   ]
  },
  {
   "cell_type": "code",
   "execution_count": 15,
   "metadata": {},
   "outputs": [
    {
     "name": "stdout",
     "output_type": "stream",
     "text": [
      "60\n"
     ]
    }
   ],
   "source": [
    "images= driver.find_elements_by_xpath(\"//img[@class= 's-image']\")  \n",
    "print(len(images))"
   ]
  },
  {
   "cell_type": "code",
   "execution_count": 16,
   "metadata": {},
   "outputs": [
    {
     "name": "stdout",
     "output_type": "stream",
     "text": [
      "https://m.media-amazon.com/images/I/71KsUovbzDL._AC_UL320_.jpg\n",
      "https://m.media-amazon.com/images/I/819lQPVkRIL._AC_UL320_.jpg\n",
      "https://m.media-amazon.com/images/I/71tHnPbUjVL._AC_UL320_.jpg\n",
      "https://m.media-amazon.com/images/I/71GbgJjK0yL._AC_UL320_.jpg\n",
      "https://m.media-amazon.com/images/I/814JPXduj2L._AC_UL320_.jpg\n",
      "https://m.media-amazon.com/images/I/61rsMT9EfiL._AC_UL320_.jpg\n",
      "https://m.media-amazon.com/images/I/812fdF02BwL._AC_UL320_.jpg\n",
      "https://m.media-amazon.com/images/I/61tYOzar1hL._AC_UL320_.jpg\n",
      "https://m.media-amazon.com/images/I/81rUqbC-+dL._AC_UL320_.jpg\n",
      "https://m.media-amazon.com/images/I/61HNqBzMehL._AC_UL320_.jpg\n",
      "https://m.media-amazon.com/images/I/81gDn2DzSkL._AC_UL320_.jpg\n",
      "https://m.media-amazon.com/images/I/71UHoQ2wPzL._AC_UL320_.jpg\n",
      "https://m.media-amazon.com/images/I/71bQcVyAUtL._AC_UL320_.jpg\n",
      "https://m.media-amazon.com/images/I/712DgzsqUSL._AC_UL320_.jpg\n",
      "https://m.media-amazon.com/images/I/71tpOPuowhL._AC_UL320_.jpg\n",
      "https://m.media-amazon.com/images/I/91CUn9Ff0EL._AC_UL320_.jpg\n",
      "https://m.media-amazon.com/images/I/71jaCNBA8dL._AC_UL320_.jpg\n",
      "https://m.media-amazon.com/images/I/71r9UyyatjL._AC_UL320_.jpg\n",
      "https://m.media-amazon.com/images/I/71YkI6iwCoL._AC_UL320_.jpg\n",
      "https://m.media-amazon.com/images/I/51KUtx1CLNL._AC_UL320_.jpg\n",
      "https://m.media-amazon.com/images/I/71+q2Lahb2L._AC_UL320_.jpg\n",
      "https://m.media-amazon.com/images/I/813GDMA4NBL._AC_UL320_.jpg\n",
      "https://m.media-amazon.com/images/I/71aA7dGCbWL._AC_UL320_.jpg\n",
      "https://m.media-amazon.com/images/I/51RUqguO3xL._AC_UL320_.jpg\n",
      "https://m.media-amazon.com/images/I/61iZYj5JRaL._AC_UL320_.jpg\n",
      "https://m.media-amazon.com/images/I/61EemvihUYL._AC_UL320_.jpg\n",
      "https://m.media-amazon.com/images/I/817glWTmXFL._AC_UL320_.jpg\n",
      "https://m.media-amazon.com/images/I/718Fie7xfKL._AC_UL320_.jpg\n",
      "https://m.media-amazon.com/images/I/71AZrxoqiBL._AC_UL320_.jpg\n",
      "https://m.media-amazon.com/images/I/81AkVNh4l-L._AC_UL320_.jpg\n",
      "https://m.media-amazon.com/images/I/81lDt+ugOiL._AC_UL320_.jpg\n",
      "https://m.media-amazon.com/images/I/71PLbvCF49L._AC_UL320_.jpg\n",
      "https://m.media-amazon.com/images/I/81v6idLUNmL._AC_UL320_.jpg\n",
      "https://m.media-amazon.com/images/I/71up0EnNS5L._AC_UL320_.jpg\n",
      "https://m.media-amazon.com/images/I/71rATcgxM8L._AC_UL320_.jpg\n",
      "https://m.media-amazon.com/images/I/41W1py3b93L._AC_UL320_.jpg\n",
      "https://m.media-amazon.com/images/I/61niVTVJUZL._AC_UL320_.jpg\n",
      "https://m.media-amazon.com/images/I/617x+uSU2+L._AC_UL320_.jpg\n",
      "https://m.media-amazon.com/images/I/71WHAnm2xZL._AC_UL320_.jpg\n",
      "https://m.media-amazon.com/images/I/81yccu3L-nL._AC_UL320_.jpg\n",
      "https://m.media-amazon.com/images/I/81iMGAknsxL._AC_UL320_.jpg\n",
      "https://m.media-amazon.com/images/I/71qvMwDZtuL._AC_UL320_.jpg\n",
      "https://m.media-amazon.com/images/I/61MprMm-BiL._AC_UL320_.jpg\n",
      "https://m.media-amazon.com/images/I/71u5gpUAoJL._AC_UL320_.jpg\n",
      "https://m.media-amazon.com/images/I/81RQWN2nENL._AC_UL320_.jpg\n",
      "https://m.media-amazon.com/images/I/71p3HTSpOAL._AC_UL320_.jpg\n",
      "https://m.media-amazon.com/images/I/81FYEu4yL0L._AC_UL320_.jpg\n",
      "https://m.media-amazon.com/images/I/61jaa9HAdtL._AC_UL320_.jpg\n",
      "https://m.media-amazon.com/images/I/71aIuYtde+L._AC_UL320_.jpg\n",
      "https://m.media-amazon.com/images/I/510F-PRck6L._AC_UL320_.jpg\n",
      "https://m.media-amazon.com/images/I/719M1IgWwUL._AC_UL320_.jpg\n",
      "https://m.media-amazon.com/images/I/61br++f3PmL._AC_UL320_.jpg\n",
      "https://m.media-amazon.com/images/I/81lJwMsvB3L._AC_UL320_.jpg\n",
      "https://m.media-amazon.com/images/I/71ZBsa81BoL._AC_UL320_.jpg\n",
      "https://m.media-amazon.com/images/I/81LQgyctAVL._AC_UL320_.jpg\n",
      "https://m.media-amazon.com/images/I/71kwPo2QZFL._AC_UL320_.jpg\n",
      "https://m.media-amazon.com/images/I/81fJ6KFE89L._AC_UL320_.jpg\n",
      "https://m.media-amazon.com/images/I/81+psJjfRVL._AC_UL320_.jpg\n",
      "https://m.media-amazon.com/images/I/81+Gg6+Lv+L._AC_UL320_.jpg\n",
      "https://m.media-amazon.com/images/I/71Jd+qQTfHL._AC_UL320_.jpg\n"
     ]
    }
   ],
   "source": [
    "urls=[]\n",
    "for image in images:\n",
    "    source= image.get_attribute('src')\n",
    "    urls.append(source)\n",
    "    print(source)"
   ]
  },
  {
   "cell_type": "code",
   "execution_count": 17,
   "metadata": {},
   "outputs": [
    {
     "name": "stdout",
     "output_type": "stream",
     "text": [
      "dowmloading 1 of 60 image from page 3\n",
      "dowmloading 2 of 60 image from page 3\n",
      "dowmloading 3 of 60 image from page 3\n",
      "dowmloading 4 of 60 image from page 3\n",
      "dowmloading 5 of 60 image from page 3\n",
      "dowmloading 6 of 60 image from page 3\n",
      "dowmloading 7 of 60 image from page 3\n",
      "dowmloading 8 of 60 image from page 3\n",
      "dowmloading 9 of 60 image from page 3\n",
      "dowmloading 10 of 60 image from page 3\n",
      "dowmloading 11 of 60 image from page 3\n",
      "dowmloading 12 of 60 image from page 3\n",
      "dowmloading 13 of 60 image from page 3\n",
      "dowmloading 14 of 60 image from page 3\n",
      "dowmloading 15 of 60 image from page 3\n",
      "dowmloading 16 of 60 image from page 3\n",
      "dowmloading 17 of 60 image from page 3\n",
      "dowmloading 18 of 60 image from page 3\n",
      "dowmloading 19 of 60 image from page 3\n",
      "dowmloading 20 of 60 image from page 3\n",
      "dowmloading 21 of 60 image from page 3\n",
      "dowmloading 22 of 60 image from page 3\n",
      "dowmloading 23 of 60 image from page 3\n",
      "dowmloading 24 of 60 image from page 3\n",
      "dowmloading 25 of 60 image from page 3\n",
      "dowmloading 26 of 60 image from page 3\n",
      "dowmloading 27 of 60 image from page 3\n",
      "dowmloading 28 of 60 image from page 3\n",
      "dowmloading 29 of 60 image from page 3\n",
      "dowmloading 30 of 60 image from page 3\n",
      "dowmloading 31 of 60 image from page 3\n",
      "dowmloading 32 of 60 image from page 3\n",
      "dowmloading 33 of 60 image from page 3\n",
      "dowmloading 34 of 60 image from page 3\n",
      "dowmloading 35 of 60 image from page 3\n",
      "dowmloading 36 of 60 image from page 3\n",
      "dowmloading 37 of 60 image from page 3\n",
      "dowmloading 38 of 60 image from page 3\n",
      "dowmloading 39 of 60 image from page 3\n",
      "dowmloading 40 of 60 image from page 3\n",
      "dowmloading 41 of 60 image from page 3\n",
      "dowmloading 42 of 60 image from page 3\n",
      "dowmloading 43 of 60 image from page 3\n",
      "dowmloading 44 of 60 image from page 3\n",
      "dowmloading 45 of 60 image from page 3\n",
      "dowmloading 46 of 60 image from page 3\n",
      "dowmloading 47 of 60 image from page 3\n",
      "dowmloading 48 of 60 image from page 3\n",
      "dowmloading 49 of 60 image from page 3\n",
      "dowmloading 50 of 60 image from page 3\n",
      "dowmloading 51 of 60 image from page 3\n",
      "dowmloading 52 of 60 image from page 3\n",
      "dowmloading 53 of 60 image from page 3\n",
      "dowmloading 54 of 60 image from page 3\n",
      "dowmloading 55 of 60 image from page 3\n",
      "dowmloading 56 of 60 image from page 3\n",
      "dowmloading 57 of 60 image from page 3\n",
      "dowmloading 58 of 60 image from page 3\n",
      "dowmloading 59 of 60 image from page 3\n",
      "dowmloading 60 of 60 image from page 3\n"
     ]
    }
   ],
   "source": [
    "page= 3\n",
    "for index, link in enumerate(urls):\n",
    "    print(\"dowmloading {0} of {1} image from page 3\".format(index+1, len(urls)))\n",
    "    response= requests.get(link)\n",
    "    with open('trouser/img_{0}{1}.jpeg'.format(index, page), \"wb\") as file:\n",
    "        file.write(response.content)"
   ]
  },
  {
   "cell_type": "markdown",
   "metadata": {},
   "source": [
    "## Next page > 4"
   ]
  },
  {
   "cell_type": "code",
   "execution_count": 18,
   "metadata": {},
   "outputs": [],
   "source": [
    "np4=driver.find_element_by_xpath(\"//li[@class= 'a-last']//a\").click()"
   ]
  },
  {
   "cell_type": "code",
   "execution_count": 19,
   "metadata": {},
   "outputs": [
    {
     "name": "stdout",
     "output_type": "stream",
     "text": [
      "60\n"
     ]
    }
   ],
   "source": [
    "images= driver.find_elements_by_xpath(\"//img[@class= 's-image']\")\n",
    "print(len(images))"
   ]
  },
  {
   "cell_type": "code",
   "execution_count": 20,
   "metadata": {},
   "outputs": [
    {
     "name": "stdout",
     "output_type": "stream",
     "text": [
      "https://m.media-amazon.com/images/I/81V9trmnwvL._AC_UL320_.jpg\n",
      "https://m.media-amazon.com/images/I/51vj45dvZNL._AC_UL320_.jpg\n",
      "https://m.media-amazon.com/images/I/51vHPTmdHgL._AC_UL320_.jpg\n",
      "https://m.media-amazon.com/images/I/51ZskmfOTSL._AC_UL320_.jpg\n",
      "https://m.media-amazon.com/images/I/719M1IgWwUL._AC_UL320_.jpg\n",
      "https://m.media-amazon.com/images/I/61br++f3PmL._AC_UL320_.jpg\n",
      "https://m.media-amazon.com/images/I/81lJwMsvB3L._AC_UL320_.jpg\n",
      "https://m.media-amazon.com/images/I/71ZBsa81BoL._AC_UL320_.jpg\n",
      "https://m.media-amazon.com/images/I/81LQgyctAVL._AC_UL320_.jpg\n",
      "https://m.media-amazon.com/images/I/71kwPo2QZFL._AC_UL320_.jpg\n",
      "https://m.media-amazon.com/images/I/71NnffYocnL._AC_UL320_.jpg\n",
      "https://m.media-amazon.com/images/I/71NreRSpJeL._AC_UL320_.jpg\n",
      "https://m.media-amazon.com/images/I/614R38jQjIL._AC_UL320_.jpg\n",
      "https://m.media-amazon.com/images/I/61f195vtBKL._AC_UL320_.jpg\n",
      "https://m.media-amazon.com/images/I/81hHEljXQCL._AC_UL320_.jpg\n",
      "https://m.media-amazon.com/images/I/71KsUovbzDL._AC_UL320_.jpg\n",
      "https://m.media-amazon.com/images/I/814C1HpkW1L._AC_UL320_.jpg\n",
      "https://m.media-amazon.com/images/I/81kJ1bmn3iL._AC_UL320_.jpg\n",
      "https://m.media-amazon.com/images/I/81KI7mGcnlL._AC_UL320_.jpg\n",
      "https://m.media-amazon.com/images/I/91DhL8W5gFL._AC_UL320_.jpg\n",
      "https://m.media-amazon.com/images/I/61gRBdl3USL._AC_UL320_.jpg\n",
      "https://m.media-amazon.com/images/I/71+mIAH6umL._AC_UL320_.jpg\n",
      "https://m.media-amazon.com/images/I/71WahJGHriL._AC_UL320_.jpg\n",
      "https://m.media-amazon.com/images/I/71N5IxTDbpL._AC_UL320_.jpg\n",
      "https://m.media-amazon.com/images/I/710fA4BBqpL._AC_UL320_.jpg\n",
      "https://m.media-amazon.com/images/I/71oX+Tk7O4L._AC_UL320_.jpg\n",
      "https://m.media-amazon.com/images/I/81DCZl9m0IL._AC_UL320_.jpg\n",
      "https://m.media-amazon.com/images/I/81+QLatAiwL._AC_UL320_.jpg\n",
      "https://m.media-amazon.com/images/I/71UbjbbL+SL._AC_UL320_.jpg\n",
      "https://m.media-amazon.com/images/I/81-v9o9DPtL._AC_UL320_.jpg\n",
      "https://m.media-amazon.com/images/I/81VENVd1D0L._AC_UL320_.jpg\n",
      "https://m.media-amazon.com/images/I/715ozD0Qa5L._AC_UL320_.jpg\n",
      "https://m.media-amazon.com/images/I/81391FAHO9L._AC_UL320_.jpg\n",
      "https://m.media-amazon.com/images/I/71yIZJdC28L._AC_UL320_.jpg\n",
      "https://m.media-amazon.com/images/I/71yUilYiOJL._AC_UL320_.jpg\n",
      "https://m.media-amazon.com/images/I/71X56W5STXL._AC_UL320_.jpg\n",
      "https://m.media-amazon.com/images/I/81xIAEpRZDL._AC_UL320_.jpg\n",
      "https://m.media-amazon.com/images/I/71W-20gPiSL._AC_UL320_.jpg\n",
      "https://m.media-amazon.com/images/I/81tsj-gJ5eL._AC_UL320_.jpg\n",
      "https://m.media-amazon.com/images/I/615ksC4lFWL._AC_UL320_.jpg\n",
      "https://m.media-amazon.com/images/I/71mf9aWSsBL._AC_UL320_.jpg\n",
      "https://m.media-amazon.com/images/I/51jr6bfk-9L._AC_UL320_.jpg\n",
      "https://m.media-amazon.com/images/I/91NcXdWYoaL._AC_UL320_.jpg\n",
      "https://m.media-amazon.com/images/I/71t5Abv9BtL._AC_UL320_.jpg\n",
      "https://m.media-amazon.com/images/I/519U8+HcICL._AC_UL320_.jpg\n",
      "https://m.media-amazon.com/images/I/81Fz9HmoioL._AC_UL320_.jpg\n",
      "https://m.media-amazon.com/images/I/71i6ATVgPtL._AC_UL320_.jpg\n",
      "https://m.media-amazon.com/images/I/71ULjiT6acL._AC_UL320_.jpg\n",
      "https://m.media-amazon.com/images/I/9124I+nW-EL._AC_UL320_.jpg\n",
      "https://m.media-amazon.com/images/I/715yDb+WWJL._AC_UL320_.jpg\n",
      "https://m.media-amazon.com/images/I/81lPfVAK-0L._AC_UL320_.jpg\n",
      "https://m.media-amazon.com/images/I/71rqjjpwU9L._AC_UL320_.jpg\n",
      "https://m.media-amazon.com/images/I/91DhL8W5gFL._AC_UL320_.jpg\n",
      "https://m.media-amazon.com/images/I/41NLF+y75RL._AC_UL320_.jpg\n",
      "https://m.media-amazon.com/images/I/81eHI4j53wL._AC_UL320_.jpg\n",
      "https://m.media-amazon.com/images/I/71LXWmJCSnL._AC_UL320_.jpg\n",
      "https://m.media-amazon.com/images/I/51WE-8SYE6L._AC_UL320_.jpg\n",
      "https://m.media-amazon.com/images/I/81zJ1ThxSGL._AC_UL320_.jpg\n",
      "https://m.media-amazon.com/images/I/81IooBoxctL._AC_UL320_.jpg\n",
      "https://m.media-amazon.com/images/I/71FDTcdIxxL._AC_UL320_.jpg\n"
     ]
    }
   ],
   "source": [
    "urls=[]\n",
    "for image in images:\n",
    "    source= image.get_attribute('src')\n",
    "    urls.append(source)\n",
    "    print(source)"
   ]
  },
  {
   "cell_type": "code",
   "execution_count": 21,
   "metadata": {},
   "outputs": [
    {
     "name": "stdout",
     "output_type": "stream",
     "text": [
      "dowmloading 1 of 60 image from page 4\n",
      "dowmloading 2 of 60 image from page 4\n",
      "dowmloading 3 of 60 image from page 4\n",
      "dowmloading 4 of 60 image from page 4\n",
      "dowmloading 5 of 60 image from page 4\n",
      "dowmloading 6 of 60 image from page 4\n",
      "dowmloading 7 of 60 image from page 4\n",
      "dowmloading 8 of 60 image from page 4\n",
      "dowmloading 9 of 60 image from page 4\n",
      "dowmloading 10 of 60 image from page 4\n",
      "dowmloading 11 of 60 image from page 4\n",
      "dowmloading 12 of 60 image from page 4\n",
      "dowmloading 13 of 60 image from page 4\n",
      "dowmloading 14 of 60 image from page 4\n",
      "dowmloading 15 of 60 image from page 4\n",
      "dowmloading 16 of 60 image from page 4\n",
      "dowmloading 17 of 60 image from page 4\n",
      "dowmloading 18 of 60 image from page 4\n",
      "dowmloading 19 of 60 image from page 4\n",
      "dowmloading 20 of 60 image from page 4\n",
      "dowmloading 21 of 60 image from page 4\n",
      "dowmloading 22 of 60 image from page 4\n",
      "dowmloading 23 of 60 image from page 4\n",
      "dowmloading 24 of 60 image from page 4\n",
      "dowmloading 25 of 60 image from page 4\n",
      "dowmloading 26 of 60 image from page 4\n",
      "dowmloading 27 of 60 image from page 4\n",
      "dowmloading 28 of 60 image from page 4\n",
      "dowmloading 29 of 60 image from page 4\n",
      "dowmloading 30 of 60 image from page 4\n",
      "dowmloading 31 of 60 image from page 4\n",
      "dowmloading 32 of 60 image from page 4\n",
      "dowmloading 33 of 60 image from page 4\n",
      "dowmloading 34 of 60 image from page 4\n",
      "dowmloading 35 of 60 image from page 4\n",
      "dowmloading 36 of 60 image from page 4\n",
      "dowmloading 37 of 60 image from page 4\n",
      "dowmloading 38 of 60 image from page 4\n",
      "dowmloading 39 of 60 image from page 4\n",
      "dowmloading 40 of 60 image from page 4\n",
      "dowmloading 41 of 60 image from page 4\n",
      "dowmloading 42 of 60 image from page 4\n",
      "dowmloading 43 of 60 image from page 4\n",
      "dowmloading 44 of 60 image from page 4\n",
      "dowmloading 45 of 60 image from page 4\n",
      "dowmloading 46 of 60 image from page 4\n",
      "dowmloading 47 of 60 image from page 4\n",
      "dowmloading 48 of 60 image from page 4\n",
      "dowmloading 49 of 60 image from page 4\n",
      "dowmloading 50 of 60 image from page 4\n",
      "dowmloading 51 of 60 image from page 4\n",
      "dowmloading 52 of 60 image from page 4\n",
      "dowmloading 53 of 60 image from page 4\n",
      "dowmloading 54 of 60 image from page 4\n",
      "dowmloading 55 of 60 image from page 4\n",
      "dowmloading 56 of 60 image from page 4\n",
      "dowmloading 57 of 60 image from page 4\n",
      "dowmloading 58 of 60 image from page 4\n",
      "dowmloading 59 of 60 image from page 4\n",
      "dowmloading 60 of 60 image from page 4\n"
     ]
    }
   ],
   "source": [
    "page= 4\n",
    "for index, link in enumerate(urls):\n",
    "    print(\"dowmloading {0} of {1} image from page 4\".format(index+1, len(urls)))\n",
    "    response= requests.get(link)\n",
    "    with open('trouser/img_{0}{1}.jpeg'.format(index, page), \"wb\") as file:\n",
    "        file.write(response.content)"
   ]
  },
  {
   "cell_type": "markdown",
   "metadata": {},
   "source": [
    "## Next page > 5"
   ]
  },
  {
   "cell_type": "code",
   "execution_count": 22,
   "metadata": {},
   "outputs": [],
   "source": [
    "np5=driver.find_element_by_xpath(\"//li[@class= 'a-last']//a\").click()"
   ]
  },
  {
   "cell_type": "code",
   "execution_count": 23,
   "metadata": {},
   "outputs": [
    {
     "name": "stdout",
     "output_type": "stream",
     "text": [
      "60\n"
     ]
    }
   ],
   "source": [
    "images= driver.find_elements_by_xpath(\"//img[@class= 's-image']\")\n",
    "print(len(images))"
   ]
  },
  {
   "cell_type": "code",
   "execution_count": 24,
   "metadata": {},
   "outputs": [
    {
     "name": "stdout",
     "output_type": "stream",
     "text": [
      "https://m.media-amazon.com/images/I/81m2aerlFDL._AC_UL320_.jpg\n",
      "https://m.media-amazon.com/images/I/51PVg2BidJL._AC_UL320_.jpg\n",
      "https://m.media-amazon.com/images/I/71f81hamthL._AC_UL320_.jpg\n",
      "https://m.media-amazon.com/images/I/81gEpXUhwyL._AC_UL320_.jpg\n",
      "https://m.media-amazon.com/images/I/81eHI4j53wL._AC_UL320_.jpg\n",
      "https://m.media-amazon.com/images/I/71LXWmJCSnL._AC_UL320_.jpg\n",
      "https://m.media-amazon.com/images/I/71WLevKfdaL._AC_UL320_.jpg\n",
      "https://m.media-amazon.com/images/I/51mgOQY9TVL._AC_UL320_.jpg\n",
      "https://m.media-amazon.com/images/I/717BCmuv2AL._AC_UL320_.jpg\n",
      "https://m.media-amazon.com/images/I/81-9O33VgBL._AC_UL320_.jpg\n",
      "https://m.media-amazon.com/images/I/717Ud5TkgXL._AC_UL320_.jpg\n",
      "https://m.media-amazon.com/images/I/51UDe7U3RfL._AC_UL320_.jpg\n",
      "https://m.media-amazon.com/images/I/81Og4nIOVYL._AC_UL320_.jpg\n",
      "https://m.media-amazon.com/images/I/71KC4uuqzSL._AC_UL320_.jpg\n",
      "https://m.media-amazon.com/images/I/51bwqPBW3AL._AC_UL320_.jpg\n",
      "https://m.media-amazon.com/images/I/71KxoDdUKRL._AC_UL320_.jpg\n",
      "https://m.media-amazon.com/images/I/71qxFgebEBL._AC_UL320_.jpg\n",
      "https://m.media-amazon.com/images/I/81j73JbLgeL._AC_UL320_.jpg\n",
      "https://m.media-amazon.com/images/I/61pflTn2+UL._AC_UL320_.jpg\n",
      "https://m.media-amazon.com/images/I/915jMAh44EL._AC_UL320_.jpg\n",
      "https://m.media-amazon.com/images/I/71p4LQ6+rkL._AC_UL320_.jpg\n",
      "https://m.media-amazon.com/images/I/81a2PNDd9zL._AC_UL320_.jpg\n",
      "https://m.media-amazon.com/images/I/61ZPFCApdpL._AC_UL320_.jpg\n",
      "https://m.media-amazon.com/images/I/71LOmE3ht-L._AC_UL320_.jpg\n",
      "https://m.media-amazon.com/images/I/611AMZGGHNL._AC_UL320_.jpg\n",
      "https://m.media-amazon.com/images/I/61-Geyf4-9L._AC_UL320_.jpg\n",
      "https://m.media-amazon.com/images/I/71xPZPB-Q0L._AC_UL320_.jpg\n",
      "https://m.media-amazon.com/images/I/61jQCh4M0uL._AC_UL320_.jpg\n",
      "https://m.media-amazon.com/images/I/51+--rycIHL._AC_UL320_.jpg\n",
      "https://m.media-amazon.com/images/I/81JYZVSSNIL._AC_UL320_.jpg\n",
      "https://m.media-amazon.com/images/I/71UCDZJAj0L._AC_UL320_.jpg\n",
      "https://m.media-amazon.com/images/I/718lZCWoROL._AC_UL320_.jpg\n",
      "https://m.media-amazon.com/images/I/71+U8c1nv0L._AC_UL320_.jpg\n",
      "https://m.media-amazon.com/images/I/51H86JddBWL._AC_UL320_.jpg\n",
      "https://m.media-amazon.com/images/I/61BOZ1rHpuL._AC_UL320_.jpg\n",
      "https://m.media-amazon.com/images/I/71DSgzYgTTL._AC_UL320_.jpg\n",
      "https://m.media-amazon.com/images/I/71QydpE5t1L._AC_UL320_.jpg\n",
      "https://m.media-amazon.com/images/I/81g+ZQQLTnL._AC_UL320_.jpg\n",
      "https://m.media-amazon.com/images/I/81NACQGeE8L._AC_UL320_.jpg\n",
      "https://m.media-amazon.com/images/I/41AjK+HTdtL._AC_UL320_.jpg\n",
      "https://m.media-amazon.com/images/I/61aGo9kRUtL._AC_UL320_.jpg\n",
      "https://m.media-amazon.com/images/I/31mtXcYy+OL._AC_UL320_.jpg\n",
      "https://m.media-amazon.com/images/I/81xmg5YHT8L._AC_UL320_.jpg\n",
      "https://m.media-amazon.com/images/I/A1LDGW5zgfL._AC_UL320_.jpg\n",
      "https://m.media-amazon.com/images/I/71sJD0p2G4L._AC_UL320_.jpg\n",
      "https://m.media-amazon.com/images/I/71HhccrD15L._AC_UL320_.jpg\n",
      "https://m.media-amazon.com/images/I/819i1OHTdZL._AC_UL320_.jpg\n",
      "https://m.media-amazon.com/images/I/51ByRbjVrTL._AC_UL320_.jpg\n",
      "https://m.media-amazon.com/images/I/51hXZnl2aWL._AC_UL320_.jpg\n",
      "https://m.media-amazon.com/images/I/71oWnWv5xjL._AC_UL320_.jpg\n",
      "https://m.media-amazon.com/images/I/81NxQTTrWAL._AC_UL320_.jpg\n",
      "https://m.media-amazon.com/images/I/711fL8aHQAL._AC_UL320_.jpg\n",
      "https://m.media-amazon.com/images/I/417keNwRFvL._AC_UL320_.jpg\n",
      "https://m.media-amazon.com/images/I/71kU8iG29oL._AC_UL320_.jpg\n",
      "https://m.media-amazon.com/images/I/71O68eeWrNL._AC_UL320_.jpg\n",
      "https://m.media-amazon.com/images/I/81pHl9fkeXL._AC_UL320_.jpg\n",
      "https://m.media-amazon.com/images/I/71b+nYEK+VL._AC_UL320_.jpg\n",
      "https://m.media-amazon.com/images/I/712aAGntsBL._AC_UL320_.jpg\n",
      "https://m.media-amazon.com/images/I/612eEGF9c6L._AC_UL320_.jpg\n",
      "https://m.media-amazon.com/images/I/519M5xrO35L._AC_UL320_.jpg\n"
     ]
    }
   ],
   "source": [
    "urls=[]\n",
    "for image in images:\n",
    "    source= image.get_attribute('src')\n",
    "    urls.append(source)\n",
    "    print(source)"
   ]
  },
  {
   "cell_type": "code",
   "execution_count": 25,
   "metadata": {},
   "outputs": [
    {
     "name": "stdout",
     "output_type": "stream",
     "text": [
      "dowmloading 1 of 60 image from page 5\n",
      "dowmloading 2 of 60 image from page 5\n",
      "dowmloading 3 of 60 image from page 5\n",
      "dowmloading 4 of 60 image from page 5\n",
      "dowmloading 5 of 60 image from page 5\n",
      "dowmloading 6 of 60 image from page 5\n",
      "dowmloading 7 of 60 image from page 5\n",
      "dowmloading 8 of 60 image from page 5\n",
      "dowmloading 9 of 60 image from page 5\n",
      "dowmloading 10 of 60 image from page 5\n",
      "dowmloading 11 of 60 image from page 5\n",
      "dowmloading 12 of 60 image from page 5\n",
      "dowmloading 13 of 60 image from page 5\n",
      "dowmloading 14 of 60 image from page 5\n",
      "dowmloading 15 of 60 image from page 5\n",
      "dowmloading 16 of 60 image from page 5\n",
      "dowmloading 17 of 60 image from page 5\n",
      "dowmloading 18 of 60 image from page 5\n",
      "dowmloading 19 of 60 image from page 5\n",
      "dowmloading 20 of 60 image from page 5\n",
      "dowmloading 21 of 60 image from page 5\n",
      "dowmloading 22 of 60 image from page 5\n",
      "dowmloading 23 of 60 image from page 5\n",
      "dowmloading 24 of 60 image from page 5\n",
      "dowmloading 25 of 60 image from page 5\n",
      "dowmloading 26 of 60 image from page 5\n",
      "dowmloading 27 of 60 image from page 5\n",
      "dowmloading 28 of 60 image from page 5\n",
      "dowmloading 29 of 60 image from page 5\n",
      "dowmloading 30 of 60 image from page 5\n",
      "dowmloading 31 of 60 image from page 5\n",
      "dowmloading 32 of 60 image from page 5\n",
      "dowmloading 33 of 60 image from page 5\n",
      "dowmloading 34 of 60 image from page 5\n",
      "dowmloading 35 of 60 image from page 5\n",
      "dowmloading 36 of 60 image from page 5\n",
      "dowmloading 37 of 60 image from page 5\n",
      "dowmloading 38 of 60 image from page 5\n",
      "dowmloading 39 of 60 image from page 5\n",
      "dowmloading 40 of 60 image from page 5\n",
      "dowmloading 41 of 60 image from page 5\n",
      "dowmloading 42 of 60 image from page 5\n",
      "dowmloading 43 of 60 image from page 5\n",
      "dowmloading 44 of 60 image from page 5\n",
      "dowmloading 45 of 60 image from page 5\n",
      "dowmloading 46 of 60 image from page 5\n",
      "dowmloading 47 of 60 image from page 5\n",
      "dowmloading 48 of 60 image from page 5\n",
      "dowmloading 49 of 60 image from page 5\n",
      "dowmloading 50 of 60 image from page 5\n",
      "dowmloading 51 of 60 image from page 5\n",
      "dowmloading 52 of 60 image from page 5\n",
      "dowmloading 53 of 60 image from page 5\n",
      "dowmloading 54 of 60 image from page 5\n",
      "dowmloading 55 of 60 image from page 5\n",
      "dowmloading 56 of 60 image from page 5\n",
      "dowmloading 57 of 60 image from page 5\n",
      "dowmloading 58 of 60 image from page 5\n",
      "dowmloading 59 of 60 image from page 5\n",
      "dowmloading 60 of 60 image from page 5\n"
     ]
    }
   ],
   "source": [
    "page= 5\n",
    "for index, link in enumerate(urls):\n",
    "    print(\"dowmloading {0} of {1} image from page 5\".format(index+1, len(urls)))\n",
    "    response= requests.get(link)\n",
    "    with open('trouser/img_{0}{1}.jpeg'.format(index, page), \"wb\") as file:\n",
    "        file.write(response.content)"
   ]
  },
  {
   "cell_type": "markdown",
   "metadata": {},
   "source": [
    "## Next page > 6"
   ]
  },
  {
   "cell_type": "code",
   "execution_count": 26,
   "metadata": {},
   "outputs": [],
   "source": [
    "np6=driver.find_element_by_xpath(\"//li[@class= 'a-last']//a\").click()"
   ]
  },
  {
   "cell_type": "code",
   "execution_count": 27,
   "metadata": {},
   "outputs": [
    {
     "name": "stdout",
     "output_type": "stream",
     "text": [
      "60\n"
     ]
    }
   ],
   "source": [
    "images= driver.find_elements_by_xpath(\"//img[@class= 's-image']\")\n",
    "print(len(images))"
   ]
  },
  {
   "cell_type": "code",
   "execution_count": 28,
   "metadata": {},
   "outputs": [
    {
     "name": "stdout",
     "output_type": "stream",
     "text": [
      "https://m.media-amazon.com/images/I/51vj45dvZNL._AC_UL320_.jpg\n",
      "https://m.media-amazon.com/images/I/51PVg2BidJL._AC_UL320_.jpg\n",
      "https://m.media-amazon.com/images/I/51d8vueZygL._AC_UL320_.jpg\n",
      "https://m.media-amazon.com/images/I/81NACQGeE8L._AC_UL320_.jpg\n",
      "https://m.media-amazon.com/images/I/813YRl3uDOL._AC_UL320_.jpg\n",
      "https://m.media-amazon.com/images/I/31mtXcYy+OL._AC_UL320_.jpg\n",
      "https://m.media-amazon.com/images/I/81xmg5YHT8L._AC_UL320_.jpg\n",
      "https://m.media-amazon.com/images/I/A1LDGW5zgfL._AC_UL320_.jpg\n",
      "https://m.media-amazon.com/images/I/71sJD0p2G4L._AC_UL320_.jpg\n",
      "https://m.media-amazon.com/images/I/71HhccrD15L._AC_UL320_.jpg\n",
      "https://m.media-amazon.com/images/I/819i1OHTdZL._AC_UL320_.jpg\n",
      "https://m.media-amazon.com/images/I/51ByRbjVrTL._AC_UL320_.jpg\n",
      "https://m.media-amazon.com/images/I/51hXZnl2aWL._AC_UL320_.jpg\n",
      "https://m.media-amazon.com/images/I/71oWnWv5xjL._AC_UL320_.jpg\n",
      "https://m.media-amazon.com/images/I/81NxQTTrWAL._AC_UL320_.jpg\n",
      "https://m.media-amazon.com/images/I/711fL8aHQAL._AC_UL320_.jpg\n",
      "https://m.media-amazon.com/images/I/417keNwRFvL._AC_UL320_.jpg\n",
      "https://m.media-amazon.com/images/I/71kU8iG29oL._AC_UL320_.jpg\n",
      "https://m.media-amazon.com/images/I/71O68eeWrNL._AC_UL320_.jpg\n",
      "https://m.media-amazon.com/images/I/81pHl9fkeXL._AC_UL320_.jpg\n",
      "https://m.media-amazon.com/images/I/71eGSbaul7L._AC_UL320_.jpg\n",
      "https://m.media-amazon.com/images/I/71Yl+WrsUIL._AC_UL320_.jpg\n",
      "https://m.media-amazon.com/images/I/61dY5W2MOOL._AC_UL320_.jpg\n",
      "https://m.media-amazon.com/images/I/61spYP5rk6L._AC_UL320_.jpg\n",
      "https://m.media-amazon.com/images/I/317gUX0SmtL._AC_UL320_.jpg\n",
      "https://m.media-amazon.com/images/I/71E0gwt128L._AC_UL320_.jpg\n",
      "https://m.media-amazon.com/images/I/71e604VXlFL._AC_UL320_.jpg\n",
      "https://m.media-amazon.com/images/I/81yYADZsYtL._AC_UL320_.jpg\n",
      "https://m.media-amazon.com/images/I/81tCndOxYjL._AC_UL320_.jpg\n",
      "https://m.media-amazon.com/images/I/71Ja6dMUM4L._AC_UL320_.jpg\n",
      "https://m.media-amazon.com/images/I/61mdkUVh1xL._AC_UL320_.jpg\n",
      "https://m.media-amazon.com/images/I/51lLwxVA6EL._AC_UL320_.jpg\n",
      "https://m.media-amazon.com/images/I/71JYE12KRTL._AC_UL320_.jpg\n",
      "https://m.media-amazon.com/images/I/81EQr-bGOrL._AC_UL320_.jpg\n",
      "https://m.media-amazon.com/images/I/61p87wFaMcL._AC_UL320_.jpg\n",
      "https://m.media-amazon.com/images/I/71u47o-yKnL._AC_UL320_.jpg\n",
      "https://m.media-amazon.com/images/I/71ouNfZI0ML._AC_UL320_.jpg\n",
      "https://m.media-amazon.com/images/I/51lCXZV3NfL._AC_UL320_.jpg\n",
      "https://m.media-amazon.com/images/I/71kVZjo2DRL._AC_UL320_.jpg\n",
      "https://m.media-amazon.com/images/I/71BYtUVaRnL._AC_UL320_.jpg\n",
      "https://m.media-amazon.com/images/I/91BOChi4MfL._AC_UL320_.jpg\n",
      "https://m.media-amazon.com/images/I/61nf5Mjl+AL._AC_UL320_.jpg\n",
      "https://m.media-amazon.com/images/I/715xtLXKQGL._AC_UL320_.jpg\n",
      "https://m.media-amazon.com/images/I/71gLy98RlhL._AC_UL320_.jpg\n",
      "https://m.media-amazon.com/images/I/613xn7Gb0uL._AC_UL320_.jpg\n",
      "https://m.media-amazon.com/images/I/91DhL8W5gFL._AC_UL320_.jpg\n",
      "https://m.media-amazon.com/images/I/71YIdgvRtEL._AC_UL320_.jpg\n",
      "https://m.media-amazon.com/images/I/81pOC5qLpkL._AC_UL320_.jpg\n",
      "https://m.media-amazon.com/images/I/A1mF40CPTKL._AC_UL320_.jpg\n",
      "https://m.media-amazon.com/images/I/81g0JqTfdEL._AC_UL320_.jpg\n",
      "https://m.media-amazon.com/images/I/719Q8bx6WPL._AC_UL320_.jpg\n",
      "https://m.media-amazon.com/images/I/81ndI9jiLpL._AC_UL320_.jpg\n",
      "https://m.media-amazon.com/images/I/71Pg2euDiUL._AC_UL320_.jpg\n",
      "https://m.media-amazon.com/images/I/51acwiK0IzL._AC_UL320_.jpg\n",
      "https://m.media-amazon.com/images/I/712zxs-ZWkL._AC_UL320_.jpg\n",
      "https://m.media-amazon.com/images/I/81l0YK5EbdL._AC_UL320_.jpg\n",
      "https://m.media-amazon.com/images/I/61Gen1ZJhtL._AC_UL320_.jpg\n",
      "https://m.media-amazon.com/images/I/517Awn4PJ3L._AC_UL320_.jpg\n",
      "https://m.media-amazon.com/images/I/51f08XM3TvL._AC_UL320_.jpg\n",
      "https://m.media-amazon.com/images/I/61ftCaBnviL._AC_UL320_.jpg\n"
     ]
    }
   ],
   "source": [
    "urls=[]\n",
    "for image in images:\n",
    "    source= image.get_attribute('src')\n",
    "    urls.append(source)\n",
    "    print(source)"
   ]
  },
  {
   "cell_type": "code",
   "execution_count": 29,
   "metadata": {},
   "outputs": [
    {
     "name": "stdout",
     "output_type": "stream",
     "text": [
      "dowmloading 1 of 60 image from page 6\n",
      "dowmloading 2 of 60 image from page 6\n",
      "dowmloading 3 of 60 image from page 6\n",
      "dowmloading 4 of 60 image from page 6\n",
      "dowmloading 5 of 60 image from page 6\n",
      "dowmloading 6 of 60 image from page 6\n",
      "dowmloading 7 of 60 image from page 6\n",
      "dowmloading 8 of 60 image from page 6\n",
      "dowmloading 9 of 60 image from page 6\n",
      "dowmloading 10 of 60 image from page 6\n",
      "dowmloading 11 of 60 image from page 6\n",
      "dowmloading 12 of 60 image from page 6\n",
      "dowmloading 13 of 60 image from page 6\n",
      "dowmloading 14 of 60 image from page 6\n",
      "dowmloading 15 of 60 image from page 6\n",
      "dowmloading 16 of 60 image from page 6\n",
      "dowmloading 17 of 60 image from page 6\n",
      "dowmloading 18 of 60 image from page 6\n",
      "dowmloading 19 of 60 image from page 6\n",
      "dowmloading 20 of 60 image from page 6\n",
      "dowmloading 21 of 60 image from page 6\n",
      "dowmloading 22 of 60 image from page 6\n",
      "dowmloading 23 of 60 image from page 6\n",
      "dowmloading 24 of 60 image from page 6\n",
      "dowmloading 25 of 60 image from page 6\n",
      "dowmloading 26 of 60 image from page 6\n",
      "dowmloading 27 of 60 image from page 6\n",
      "dowmloading 28 of 60 image from page 6\n",
      "dowmloading 29 of 60 image from page 6\n",
      "dowmloading 30 of 60 image from page 6\n",
      "dowmloading 31 of 60 image from page 6\n",
      "dowmloading 32 of 60 image from page 6\n",
      "dowmloading 33 of 60 image from page 6\n",
      "dowmloading 34 of 60 image from page 6\n",
      "dowmloading 35 of 60 image from page 6\n",
      "dowmloading 36 of 60 image from page 6\n",
      "dowmloading 37 of 60 image from page 6\n",
      "dowmloading 38 of 60 image from page 6\n",
      "dowmloading 39 of 60 image from page 6\n",
      "dowmloading 40 of 60 image from page 6\n",
      "dowmloading 41 of 60 image from page 6\n",
      "dowmloading 42 of 60 image from page 6\n",
      "dowmloading 43 of 60 image from page 6\n",
      "dowmloading 44 of 60 image from page 6\n",
      "dowmloading 45 of 60 image from page 6\n",
      "dowmloading 46 of 60 image from page 6\n",
      "dowmloading 47 of 60 image from page 6\n",
      "dowmloading 48 of 60 image from page 6\n",
      "dowmloading 49 of 60 image from page 6\n",
      "dowmloading 50 of 60 image from page 6\n",
      "dowmloading 51 of 60 image from page 6\n",
      "dowmloading 52 of 60 image from page 6\n",
      "dowmloading 53 of 60 image from page 6\n",
      "dowmloading 54 of 60 image from page 6\n",
      "dowmloading 55 of 60 image from page 6\n",
      "dowmloading 56 of 60 image from page 6\n",
      "dowmloading 57 of 60 image from page 6\n",
      "dowmloading 58 of 60 image from page 6\n",
      "dowmloading 59 of 60 image from page 6\n",
      "dowmloading 60 of 60 image from page 6\n"
     ]
    }
   ],
   "source": [
    "page= 6\n",
    "for index, link in enumerate(urls):\n",
    "    print(\"dowmloading {0} of {1} image from page 6\".format(index+1, len(urls)))\n",
    "    response= requests.get(link)\n",
    "    with open('trouser/img_{0}{1}.jpeg'.format(index, page), \"wb\") as file:\n",
    "        file.write(response.content)"
   ]
  },
  {
   "cell_type": "markdown",
   "metadata": {},
   "source": [
    "## Next page > 6"
   ]
  },
  {
   "cell_type": "code",
   "execution_count": 30,
   "metadata": {},
   "outputs": [],
   "source": [
    "np7=driver.find_element_by_xpath(\"//li[@class= 'a-last']//a\").click()"
   ]
  },
  {
   "cell_type": "code",
   "execution_count": 31,
   "metadata": {},
   "outputs": [
    {
     "name": "stdout",
     "output_type": "stream",
     "text": [
      "60\n"
     ]
    }
   ],
   "source": [
    "images= driver.find_elements_by_xpath(\"//img[@class= 's-image']\")\n",
    "print(len(images))"
   ]
  },
  {
   "cell_type": "code",
   "execution_count": 32,
   "metadata": {},
   "outputs": [
    {
     "name": "stdout",
     "output_type": "stream",
     "text": [
      "https://m.media-amazon.com/images/I/51U6NS7ylEL._AC_UL320_.jpg\n",
      "https://m.media-amazon.com/images/I/819QNZh9MlL._AC_UL320_.jpg\n",
      "https://m.media-amazon.com/images/I/71M1G9zzxXL._AC_UL320_.jpg\n",
      "https://m.media-amazon.com/images/I/71pqhX8-S0L._AC_UL320_.jpg\n",
      "https://m.media-amazon.com/images/I/71gLy98RlhL._AC_UL320_.jpg\n",
      "https://m.media-amazon.com/images/I/613xn7Gb0uL._AC_UL320_.jpg\n",
      "https://m.media-amazon.com/images/I/91DhL8W5gFL._AC_UL320_.jpg\n",
      "https://m.media-amazon.com/images/I/71YIdgvRtEL._AC_UL320_.jpg\n",
      "https://m.media-amazon.com/images/I/81pOC5qLpkL._AC_UL320_.jpg\n",
      "https://m.media-amazon.com/images/I/A1mF40CPTKL._AC_UL320_.jpg\n",
      "https://m.media-amazon.com/images/I/81g0JqTfdEL._AC_UL320_.jpg\n",
      "https://m.media-amazon.com/images/I/719Q8bx6WPL._AC_UL320_.jpg\n",
      "https://m.media-amazon.com/images/I/81ndI9jiLpL._AC_UL320_.jpg\n",
      "https://m.media-amazon.com/images/I/71Pg2euDiUL._AC_UL320_.jpg\n",
      "https://m.media-amazon.com/images/I/814TLtVNDKL._AC_UL320_.jpg\n",
      "https://m.media-amazon.com/images/I/51acwiK0IzL._AC_UL320_.jpg\n",
      "https://m.media-amazon.com/images/I/712zxs-ZWkL._AC_UL320_.jpg\n",
      "https://m.media-amazon.com/images/I/81l0YK5EbdL._AC_UL320_.jpg\n",
      "https://m.media-amazon.com/images/I/81bIQgolPkL._AC_UL320_.jpg\n",
      "https://m.media-amazon.com/images/I/61sZWuDOiWL._AC_UL320_.jpg\n",
      "https://m.media-amazon.com/images/I/81xIAEpRZDL._AC_UL320_.jpg\n",
      "https://m.media-amazon.com/images/I/81ZeNTiAoqL._AC_UL320_.jpg\n",
      "https://m.media-amazon.com/images/I/71K2xhConcL._AC_UL320_.jpg\n",
      "https://m.media-amazon.com/images/I/A1RutrV3ivL._AC_UL320_.jpg\n",
      "https://m.media-amazon.com/images/I/51H7eBOeFrL._AC_UL320_.jpg\n",
      "https://m.media-amazon.com/images/I/810qlClVauL._AC_UL320_.jpg\n",
      "https://m.media-amazon.com/images/I/71C10-TQ9aL._AC_UL320_.jpg\n",
      "https://m.media-amazon.com/images/I/71ooEqQarPL._AC_UL320_.jpg\n",
      "https://m.media-amazon.com/images/I/81qkima76-L._AC_UL320_.jpg\n",
      "https://m.media-amazon.com/images/I/61ftCaBnviL._AC_UL320_.jpg\n",
      "https://m.media-amazon.com/images/I/61Gen1ZJhtL._AC_UL320_.jpg\n",
      "https://m.media-amazon.com/images/I/61B2bm0qx9L._AC_UL320_.jpg\n",
      "https://m.media-amazon.com/images/I/81n2lHI7spL._AC_UL320_.jpg\n",
      "https://m.media-amazon.com/images/I/81YpzBodxBL._AC_UL320_.jpg\n",
      "https://m.media-amazon.com/images/I/71wwfRkK15L._AC_UL320_.jpg\n",
      "https://m.media-amazon.com/images/I/51WccfVHWeL._AC_UL320_.jpg\n",
      "https://m.media-amazon.com/images/I/81ABqiAJm1L._AC_UL320_.jpg\n",
      "https://m.media-amazon.com/images/I/71QiGaKxaAL._AC_UL320_.jpg\n",
      "https://m.media-amazon.com/images/I/81x42oT7WnL._AC_UL320_.jpg\n",
      "https://m.media-amazon.com/images/I/612rGfO0VbL._AC_UL320_.jpg\n",
      "https://m.media-amazon.com/images/I/81D-N89HOkL._AC_UL320_.jpg\n",
      "https://m.media-amazon.com/images/I/51qNH3cq04L._AC_UL320_.jpg\n",
      "https://m.media-amazon.com/images/I/71wfoPAA1RL._AC_UL320_.jpg\n",
      "https://m.media-amazon.com/images/I/61+FX-SESTL._AC_UL320_.jpg\n",
      "https://m.media-amazon.com/images/I/71+QqgkiTYL._AC_UL320_.jpg\n",
      "https://m.media-amazon.com/images/I/A1tNj0nvluL._AC_UL320_.jpg\n",
      "https://m.media-amazon.com/images/I/71sgPEtiF2L._AC_UL320_.jpg\n",
      "https://m.media-amazon.com/images/I/71MRAkjn0KL._AC_UL320_.jpg\n",
      "https://m.media-amazon.com/images/I/91Vxr8tWAYL._AC_UL320_.jpg\n",
      "https://m.media-amazon.com/images/I/81UrQzOyhXL._AC_UL320_.jpg\n",
      "https://m.media-amazon.com/images/I/61i20YmrldL._AC_UL320_.jpg\n",
      "https://m.media-amazon.com/images/I/61cMk1aSduL._AC_UL320_.jpg\n",
      "https://m.media-amazon.com/images/I/71m8S892ABL._AC_UL320_.jpg\n",
      "https://m.media-amazon.com/images/I/61Mol05zhuL._AC_UL320_.jpg\n",
      "https://m.media-amazon.com/images/I/61sbqNFEfqL._AC_UL320_.jpg\n",
      "https://m.media-amazon.com/images/I/61a6peGLvWL._AC_UL320_.jpg\n",
      "https://m.media-amazon.com/images/I/71NnffYocnL._AC_UL320_.jpg\n",
      "https://m.media-amazon.com/images/I/712-taFpSpL._AC_UL320_.jpg\n",
      "https://m.media-amazon.com/images/I/810bBm6koOL._AC_UL320_.jpg\n",
      "https://m.media-amazon.com/images/I/71Ja6dMUM4L._AC_UL320_.jpg\n"
     ]
    }
   ],
   "source": [
    "urls=[]\n",
    "for image in images:\n",
    "    source= image.get_attribute('src')\n",
    "    urls.append(source)\n",
    "    print(source)"
   ]
  },
  {
   "cell_type": "code",
   "execution_count": 33,
   "metadata": {},
   "outputs": [
    {
     "name": "stdout",
     "output_type": "stream",
     "text": [
      "dowmloading 1 of 60 image from page 7\n",
      "dowmloading 2 of 60 image from page 7\n",
      "dowmloading 3 of 60 image from page 7\n",
      "dowmloading 4 of 60 image from page 7\n",
      "dowmloading 5 of 60 image from page 7\n",
      "dowmloading 6 of 60 image from page 7\n",
      "dowmloading 7 of 60 image from page 7\n",
      "dowmloading 8 of 60 image from page 7\n",
      "dowmloading 9 of 60 image from page 7\n",
      "dowmloading 10 of 60 image from page 7\n",
      "dowmloading 11 of 60 image from page 7\n",
      "dowmloading 12 of 60 image from page 7\n",
      "dowmloading 13 of 60 image from page 7\n",
      "dowmloading 14 of 60 image from page 7\n",
      "dowmloading 15 of 60 image from page 7\n",
      "dowmloading 16 of 60 image from page 7\n",
      "dowmloading 17 of 60 image from page 7\n",
      "dowmloading 18 of 60 image from page 7\n",
      "dowmloading 19 of 60 image from page 7\n",
      "dowmloading 20 of 60 image from page 7\n",
      "dowmloading 21 of 60 image from page 7\n",
      "dowmloading 22 of 60 image from page 7\n",
      "dowmloading 23 of 60 image from page 7\n",
      "dowmloading 24 of 60 image from page 7\n",
      "dowmloading 25 of 60 image from page 7\n",
      "dowmloading 26 of 60 image from page 7\n",
      "dowmloading 27 of 60 image from page 7\n",
      "dowmloading 28 of 60 image from page 7\n",
      "dowmloading 29 of 60 image from page 7\n",
      "dowmloading 30 of 60 image from page 7\n",
      "dowmloading 31 of 60 image from page 7\n",
      "dowmloading 32 of 60 image from page 7\n",
      "dowmloading 33 of 60 image from page 7\n",
      "dowmloading 34 of 60 image from page 7\n",
      "dowmloading 35 of 60 image from page 7\n",
      "dowmloading 36 of 60 image from page 7\n",
      "dowmloading 37 of 60 image from page 7\n",
      "dowmloading 38 of 60 image from page 7\n",
      "dowmloading 39 of 60 image from page 7\n",
      "dowmloading 40 of 60 image from page 7\n",
      "dowmloading 41 of 60 image from page 7\n",
      "dowmloading 42 of 60 image from page 7\n",
      "dowmloading 43 of 60 image from page 7\n",
      "dowmloading 44 of 60 image from page 7\n",
      "dowmloading 45 of 60 image from page 7\n",
      "dowmloading 46 of 60 image from page 7\n",
      "dowmloading 47 of 60 image from page 7\n",
      "dowmloading 48 of 60 image from page 7\n",
      "dowmloading 49 of 60 image from page 7\n",
      "dowmloading 50 of 60 image from page 7\n",
      "dowmloading 51 of 60 image from page 7\n",
      "dowmloading 52 of 60 image from page 7\n",
      "dowmloading 53 of 60 image from page 7\n",
      "dowmloading 54 of 60 image from page 7\n",
      "dowmloading 55 of 60 image from page 7\n",
      "dowmloading 56 of 60 image from page 7\n",
      "dowmloading 57 of 60 image from page 7\n",
      "dowmloading 58 of 60 image from page 7\n",
      "dowmloading 59 of 60 image from page 7\n",
      "dowmloading 60 of 60 image from page 7\n"
     ]
    }
   ],
   "source": [
    "page= 7\n",
    "for index, link in enumerate(urls):\n",
    "    print(\"dowmloading {0} of {1} image from page 7\".format(index+1, len(urls)))\n",
    "    response= requests.get(link)\n",
    "    with open('trouser/img_{0}{1}.jpeg'.format(index, page), \"wb\") as file:\n",
    "        file.write(response.content)"
   ]
  },
  {
   "cell_type": "markdown",
   "metadata": {},
   "source": [
    "## Next page > 8"
   ]
  },
  {
   "cell_type": "code",
   "execution_count": 34,
   "metadata": {},
   "outputs": [],
   "source": [
    "np8=driver.find_element_by_xpath(\"//li[@class= 'a-last']//a\").click()"
   ]
  },
  {
   "cell_type": "code",
   "execution_count": 35,
   "metadata": {},
   "outputs": [
    {
     "name": "stdout",
     "output_type": "stream",
     "text": [
      "60\n"
     ]
    }
   ],
   "source": [
    "images= driver.find_elements_by_xpath(\"//img[@class= 's-image']\")\n",
    "print(len(images))"
   ]
  },
  {
   "cell_type": "code",
   "execution_count": 36,
   "metadata": {},
   "outputs": [
    {
     "name": "stdout",
     "output_type": "stream",
     "text": [
      "https://m.media-amazon.com/images/I/519M5xrO35L._AC_UL320_.jpg\n",
      "https://m.media-amazon.com/images/I/51vj45dvZNL._AC_UL320_.jpg\n",
      "https://m.media-amazon.com/images/I/71eklDBFB5L._AC_UL320_.jpg\n",
      "https://m.media-amazon.com/images/I/71f81hamthL._AC_UL320_.jpg\n",
      "https://m.media-amazon.com/images/I/512E3Xq3ctL._AC_UL320_.jpg\n",
      "https://m.media-amazon.com/images/I/61Mol05zhuL._AC_UL320_.jpg\n",
      "https://m.media-amazon.com/images/I/61sbqNFEfqL._AC_UL320_.jpg\n",
      "https://m.media-amazon.com/images/I/61a6peGLvWL._AC_UL320_.jpg\n",
      "https://m.media-amazon.com/images/I/81O9HG8ydFL._AC_UL320_.jpg\n",
      "https://m.media-amazon.com/images/I/71WV4F7z7CL._AC_UL320_.jpg\n",
      "https://m.media-amazon.com/images/I/71S9S9+P31L._AC_UL320_.jpg\n",
      "https://m.media-amazon.com/images/I/71mFOqmco9L._AC_UL320_.jpg\n",
      "https://m.media-amazon.com/images/I/71yeFFxppyL._AC_UL320_.jpg\n",
      "https://m.media-amazon.com/images/I/617G5vMNjOL._AC_UL320_.jpg\n",
      "https://m.media-amazon.com/images/I/81hgxRoDpNL._AC_UL320_.jpg\n",
      "https://m.media-amazon.com/images/I/81b5CXMiT6L._AC_UL320_.jpg\n",
      "https://m.media-amazon.com/images/I/71vgji7enWL._AC_UL320_.jpg\n",
      "https://m.media-amazon.com/images/I/81o3VYPYDAL._AC_UL320_.jpg\n",
      "https://m.media-amazon.com/images/I/61wSPEGdJBL._AC_UL320_.jpg\n",
      "https://m.media-amazon.com/images/I/714IUitPg8L._AC_UL320_.jpg\n",
      "https://m.media-amazon.com/images/I/81KN1x5C1SL._AC_UL320_.jpg\n",
      "https://m.media-amazon.com/images/I/81dX0ZR3-EL._AC_UL320_.jpg\n",
      "https://m.media-amazon.com/images/I/71yXR+PJ3cL._AC_UL320_.jpg\n",
      "https://m.media-amazon.com/images/I/A18ufGV8vDL._AC_UL320_.jpg\n",
      "https://m.media-amazon.com/images/I/61Fjk-lpmRL._AC_UL320_.jpg\n",
      "https://m.media-amazon.com/images/I/81XYDUIrQZL._AC_UL320_.jpg\n",
      "https://m.media-amazon.com/images/I/81i8MO-aBNL._AC_UL320_.jpg\n",
      "https://m.media-amazon.com/images/I/81FI6dMhbKL._AC_UL320_.jpg\n",
      "https://m.media-amazon.com/images/I/61Gen1ZJhtL._AC_UL320_.jpg\n",
      "https://m.media-amazon.com/images/I/61ftCaBnviL._AC_UL320_.jpg\n",
      "https://m.media-amazon.com/images/I/51k8d8V0WnL._AC_UL320_.jpg\n",
      "https://m.media-amazon.com/images/I/61a2ds0WygL._AC_UL320_.jpg\n",
      "https://m.media-amazon.com/images/I/71X3GFfYnsL._AC_UL320_.jpg\n",
      "https://m.media-amazon.com/images/I/81-GATp6J-L._AC_UL320_.jpg\n",
      "https://m.media-amazon.com/images/I/41L3oJX4BFL._AC_UL320_.jpg\n",
      "https://m.media-amazon.com/images/I/71dXcQzM1WL._AC_UL320_.jpg\n",
      "https://m.media-amazon.com/images/I/6119EaHLHjL._AC_UL320_.jpg\n",
      "https://m.media-amazon.com/images/I/71ANOt-eopL._AC_UL320_.jpg\n",
      "https://m.media-amazon.com/images/I/51qu1igD6HL._AC_UL320_.jpg\n",
      "https://m.media-amazon.com/images/I/81QmabSSyML._AC_UL320_.jpg\n",
      "https://m.media-amazon.com/images/I/91LYgU4c4SL._AC_UL320_.jpg\n",
      "https://m.media-amazon.com/images/I/71f0xlIFcaL._AC_UL320_.jpg\n",
      "https://m.media-amazon.com/images/I/71qzQWoqDvL._AC_UL320_.jpg\n",
      "https://m.media-amazon.com/images/I/61O7qJbI+KL._AC_UL320_.jpg\n",
      "https://m.media-amazon.com/images/I/31CoBzBu3lL._AC_UL320_.jpg\n",
      "https://m.media-amazon.com/images/I/51j+7DGQDyL._AC_UL320_.jpg\n",
      "https://m.media-amazon.com/images/I/71BYtUVaRnL._AC_UL320_.jpg\n",
      "https://m.media-amazon.com/images/I/71zuLEoP7VL._AC_UL320_.jpg\n",
      "https://m.media-amazon.com/images/I/81NcxeTJdzL._AC_UL320_.jpg\n",
      "https://m.media-amazon.com/images/I/91mrF2fLMvL._AC_UL320_.jpg\n",
      "https://m.media-amazon.com/images/I/71LeHwd0LvL._AC_UL320_.jpg\n",
      "https://m.media-amazon.com/images/I/81slXLt0-qL._AC_UL320_.jpg\n",
      "https://m.media-amazon.com/images/I/71Jb8zWwe8L._AC_UL320_.jpg\n",
      "https://m.media-amazon.com/images/I/81ETwtu+HrL._AC_UL320_.jpg\n",
      "https://m.media-amazon.com/images/I/61fBfdpjr4L._AC_UL320_.jpg\n",
      "https://m.media-amazon.com/images/I/91wIeMLVDpL._AC_UL320_.jpg\n",
      "https://m.media-amazon.com/images/I/51ZtD6jKtLL._AC_UL320_.jpg\n",
      "https://m.media-amazon.com/images/I/51vv88J+LAL._AC_UL320_.jpg\n",
      "https://m.media-amazon.com/images/I/71A+3Vg4OWL._AC_UL320_.jpg\n",
      "https://m.media-amazon.com/images/I/61LJRVIS94L._AC_UL320_.jpg\n"
     ]
    }
   ],
   "source": [
    "urls=[]\n",
    "for image in images:\n",
    "    source= image.get_attribute('src')\n",
    "    urls.append(source)\n",
    "    print(source)"
   ]
  },
  {
   "cell_type": "code",
   "execution_count": 37,
   "metadata": {},
   "outputs": [
    {
     "name": "stdout",
     "output_type": "stream",
     "text": [
      "dowmloading 1 of 60 image from page 8\n",
      "dowmloading 2 of 60 image from page 8\n",
      "dowmloading 3 of 60 image from page 8\n",
      "dowmloading 4 of 60 image from page 8\n",
      "dowmloading 5 of 60 image from page 8\n",
      "dowmloading 6 of 60 image from page 8\n",
      "dowmloading 7 of 60 image from page 8\n",
      "dowmloading 8 of 60 image from page 8\n",
      "dowmloading 9 of 60 image from page 8\n",
      "dowmloading 10 of 60 image from page 8\n",
      "dowmloading 11 of 60 image from page 8\n",
      "dowmloading 12 of 60 image from page 8\n",
      "dowmloading 13 of 60 image from page 8\n",
      "dowmloading 14 of 60 image from page 8\n",
      "dowmloading 15 of 60 image from page 8\n",
      "dowmloading 16 of 60 image from page 8\n",
      "dowmloading 17 of 60 image from page 8\n",
      "dowmloading 18 of 60 image from page 8\n",
      "dowmloading 19 of 60 image from page 8\n",
      "dowmloading 20 of 60 image from page 8\n",
      "dowmloading 21 of 60 image from page 8\n",
      "dowmloading 22 of 60 image from page 8\n",
      "dowmloading 23 of 60 image from page 8\n",
      "dowmloading 24 of 60 image from page 8\n",
      "dowmloading 25 of 60 image from page 8\n",
      "dowmloading 26 of 60 image from page 8\n",
      "dowmloading 27 of 60 image from page 8\n",
      "dowmloading 28 of 60 image from page 8\n",
      "dowmloading 29 of 60 image from page 8\n",
      "dowmloading 30 of 60 image from page 8\n",
      "dowmloading 31 of 60 image from page 8\n",
      "dowmloading 32 of 60 image from page 8\n",
      "dowmloading 33 of 60 image from page 8\n",
      "dowmloading 34 of 60 image from page 8\n",
      "dowmloading 35 of 60 image from page 8\n",
      "dowmloading 36 of 60 image from page 8\n",
      "dowmloading 37 of 60 image from page 8\n",
      "dowmloading 38 of 60 image from page 8\n",
      "dowmloading 39 of 60 image from page 8\n",
      "dowmloading 40 of 60 image from page 8\n",
      "dowmloading 41 of 60 image from page 8\n",
      "dowmloading 42 of 60 image from page 8\n",
      "dowmloading 43 of 60 image from page 8\n",
      "dowmloading 44 of 60 image from page 8\n",
      "dowmloading 45 of 60 image from page 8\n",
      "dowmloading 46 of 60 image from page 8\n",
      "dowmloading 47 of 60 image from page 8\n",
      "dowmloading 48 of 60 image from page 8\n",
      "dowmloading 49 of 60 image from page 8\n",
      "dowmloading 50 of 60 image from page 8\n",
      "dowmloading 51 of 60 image from page 8\n",
      "dowmloading 52 of 60 image from page 8\n",
      "dowmloading 53 of 60 image from page 8\n",
      "dowmloading 54 of 60 image from page 8\n",
      "dowmloading 55 of 60 image from page 8\n",
      "dowmloading 56 of 60 image from page 8\n",
      "dowmloading 57 of 60 image from page 8\n",
      "dowmloading 58 of 60 image from page 8\n",
      "dowmloading 59 of 60 image from page 8\n",
      "dowmloading 60 of 60 image from page 8\n"
     ]
    }
   ],
   "source": [
    "page= 8\n",
    "for index, link in enumerate(urls):\n",
    "    print(\"dowmloading {0} of {1} image from page 8\".format(index+1, len(urls)))\n",
    "    response= requests.get(link)\n",
    "    with open('trouser/img_{0}{1}.jpeg'.format(index, page), \"wb\") as file:\n",
    "        file.write(response.content)"
   ]
  },
  {
   "cell_type": "code",
   "execution_count": null,
   "metadata": {},
   "outputs": [],
   "source": []
  }
 ],
 "metadata": {
  "kernelspec": {
   "display_name": "Python 3",
   "language": "python",
   "name": "python3"
  },
  "language_info": {
   "codemirror_mode": {
    "name": "ipython",
    "version": 3
   },
   "file_extension": ".py",
   "mimetype": "text/x-python",
   "name": "python",
   "nbconvert_exporter": "python",
   "pygments_lexer": "ipython3",
   "version": "3.8.5"
  }
 },
 "nbformat": 4,
 "nbformat_minor": 4
}
