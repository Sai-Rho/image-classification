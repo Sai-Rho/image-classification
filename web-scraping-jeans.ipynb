{
 "cells": [
  {
   "cell_type": "markdown",
   "metadata": {},
   "source": [
    "# Web Scraping jeans"
   ]
  },
  {
   "cell_type": "markdown",
   "metadata": {},
   "source": [
    "Installing selenium\n"
   ]
  },
  {
   "cell_type": "code",
   "execution_count": 1,
   "metadata": {},
   "outputs": [
    {
     "name": "stdout",
     "output_type": "stream",
     "text": [
      "Requirement already satisfied: selenium in c:\\users\\sai\\anaconda3\\lib\\site-packages (3.141.0)\n",
      "Requirement already satisfied: urllib3 in c:\\users\\sai\\anaconda3\\lib\\site-packages (from selenium) (1.25.11)\n"
     ]
    }
   ],
   "source": [
    "!pip install selenium"
   ]
  },
  {
   "cell_type": "markdown",
   "metadata": {},
   "source": [
    "Importing required library"
   ]
  },
  {
   "cell_type": "code",
   "execution_count": 2,
   "metadata": {},
   "outputs": [],
   "source": [
    "from selenium import webdriver\n",
    "from selenium.webdriver.common.keys import Keys\n",
    "import pandas as pd\n",
    "import os\n",
    "import time\n",
    "import shutil\n",
    "import requests"
   ]
  },
  {
   "cell_type": "markdown",
   "metadata": {},
   "source": [
    "Configuring webdriver to use the chrome browser"
   ]
  },
  {
   "cell_type": "code",
   "execution_count": 3,
   "metadata": {},
   "outputs": [],
   "source": [
    "driver = webdriver.Chrome('C:/Users/sai/chromedriver.exe')"
   ]
  },
  {
   "cell_type": "code",
   "execution_count": 4,
   "metadata": {},
   "outputs": [],
   "source": [
    "# Getting the url to scrape\n",
    "\n",
    "my_page = driver.get(\"https://www.amazon.in/s?rh=n%3A1968076031&fs=true&ref=lp_1968076031_sar\")\n"
   ]
  },
  {
   "cell_type": "markdown",
   "metadata": {},
   "source": [
    "# Directory to store images"
   ]
  },
  {
   "cell_type": "code",
   "execution_count": 5,
   "metadata": {},
   "outputs": [],
   "source": [
    "def make_directory(dirname):\n",
    "    current_path=os.getcwd()\n",
    "    path=os.path.join(current_path, dirname)\n",
    "    if not os.path.exists(path):\n",
    "        os.makedirs(path)"
   ]
  },
  {
   "cell_type": "code",
   "execution_count": 6,
   "metadata": {},
   "outputs": [],
   "source": [
    "make_directory(\"jeans\")"
   ]
  },
  {
   "cell_type": "markdown",
   "metadata": {},
   "source": [
    "# Scraping images"
   ]
  },
  {
   "cell_type": "code",
   "execution_count": 7,
   "metadata": {},
   "outputs": [
    {
     "name": "stdout",
     "output_type": "stream",
     "text": [
      "60\n"
     ]
    }
   ],
   "source": [
    "images= driver.find_elements_by_xpath(\"//img[@class= 's-image']\")\n",
    "print(len(images))"
   ]
  },
  {
   "cell_type": "code",
   "execution_count": 8,
   "metadata": {},
   "outputs": [
    {
     "name": "stdout",
     "output_type": "stream",
     "text": [
      "https://m.media-amazon.com/images/I/613BYR2cUML._AC_UL320_.jpg\n",
      "https://m.media-amazon.com/images/I/91pAZjPkepL._AC_UL320_.jpg\n",
      "https://m.media-amazon.com/images/I/81qnBPWr9dL._AC_UL320_.jpg\n",
      "https://m.media-amazon.com/images/I/81QOFG46pKL._AC_UL320_.jpg\n",
      "https://m.media-amazon.com/images/I/616xchp1ECL._AC_UL320_.jpg\n",
      "https://m.media-amazon.com/images/I/61Don-d8JfL._AC_UL320_.jpg\n",
      "https://m.media-amazon.com/images/I/51UlwkHPtmL._AC_UL320_.jpg\n",
      "https://m.media-amazon.com/images/I/51PAjY776nL._AC_UL320_.jpg\n",
      "https://m.media-amazon.com/images/I/618r4PBS73L._AC_UL320_.jpg\n",
      "https://m.media-amazon.com/images/I/613aUOVUTyL._AC_UL320_.jpg\n",
      "https://m.media-amazon.com/images/I/61UZtv8GRtL._AC_UL320_.jpg\n",
      "https://m.media-amazon.com/images/I/611hFiiUv4L._AC_UL320_.jpg\n",
      "https://m.media-amazon.com/images/I/61TwfPRLhrL._AC_UL320_.jpg\n",
      "https://m.media-amazon.com/images/I/61bgI-mrUUL._AC_UL320_.jpg\n",
      "https://m.media-amazon.com/images/I/81m75ojT-1L._AC_UL320_.jpg\n",
      "https://m.media-amazon.com/images/I/81yts63FtIL._AC_UL320_.jpg\n",
      "https://m.media-amazon.com/images/I/611zCuf1yfL._AC_UL320_.jpg\n",
      "https://m.media-amazon.com/images/I/818v2hyeiFL._AC_UL320_.jpg\n",
      "https://m.media-amazon.com/images/I/61rYsv0jpPL._AC_UL320_.jpg\n",
      "https://m.media-amazon.com/images/I/81ZVm7gJ8PL._AC_UL320_.jpg\n",
      "https://m.media-amazon.com/images/I/81TYscw9JOL._AC_UL320_.jpg\n",
      "https://m.media-amazon.com/images/I/81+wlwY-1zL._AC_UL320_.jpg\n",
      "https://m.media-amazon.com/images/I/81D+KVOvp2L._AC_UL320_.jpg\n",
      "https://m.media-amazon.com/images/I/81wAqvZ4HWL._AC_UL320_.jpg\n",
      "https://m.media-amazon.com/images/I/81rcMJm4kFL._AC_UL320_.jpg\n",
      "https://m.media-amazon.com/images/I/61z9M+39pxL._AC_UL320_.jpg\n",
      "https://m.media-amazon.com/images/I/51NTO1DvzcL._AC_UL320_.jpg\n",
      "https://m.media-amazon.com/images/I/71NRVDhXnoL._AC_UL320_.jpg\n",
      "https://m.media-amazon.com/images/I/718Oin9aTOL._AC_UL320_.jpg\n",
      "https://m.media-amazon.com/images/I/41jpwJuEjKL._AC_UL320_.jpg\n",
      "https://m.media-amazon.com/images/I/81XrwcKrN1L._AC_UL320_.jpg\n",
      "https://m.media-amazon.com/images/I/81GTNDzRtvL._AC_UL320_.jpg\n",
      "https://m.media-amazon.com/images/I/61ZGXTSfA3L._AC_UL320_.jpg\n",
      "https://m.media-amazon.com/images/I/81au4FfzaFL._AC_UL320_.jpg\n",
      "https://m.media-amazon.com/images/I/81v5d2OO-EL._AC_UL320_.jpg\n",
      "https://m.media-amazon.com/images/I/71PlzRWMYpL._AC_UL320_.jpg\n",
      "https://m.media-amazon.com/images/I/71yrEovAM0L._AC_UL320_.jpg\n",
      "https://m.media-amazon.com/images/I/61+e1RZI11L._AC_UL320_.jpg\n",
      "https://m.media-amazon.com/images/I/61ZGXTSfA3L._AC_UL320_.jpg\n",
      "https://m.media-amazon.com/images/I/7147RgEPC6L._AC_UL320_.jpg\n",
      "https://m.media-amazon.com/images/I/71XhoCAoznL._AC_UL320_.jpg\n",
      "https://m.media-amazon.com/images/I/61-D7SA4PRL._AC_UL320_.jpg\n",
      "https://m.media-amazon.com/images/I/71vN1l2shkL._AC_UL320_.jpg\n",
      "https://m.media-amazon.com/images/I/41s4My+nEDL._AC_UL320_.jpg\n",
      "https://m.media-amazon.com/images/I/61PJp-UGw8L._AC_UL320_.jpg\n",
      "https://m.media-amazon.com/images/I/81ikkmd119L._AC_UL320_.jpg\n",
      "https://m.media-amazon.com/images/I/81PPmFokY7L._AC_UL320_.jpg\n",
      "https://m.media-amazon.com/images/I/61SCAuhMhPL._AC_UL320_.jpg\n",
      "https://m.media-amazon.com/images/I/71w4e08h2sL._AC_UL320_.jpg\n",
      "https://m.media-amazon.com/images/I/81wRWp0WyVL._AC_UL320_.jpg\n",
      "https://m.media-amazon.com/images/I/61S5a0LL0sL._AC_UL320_.jpg\n",
      "https://m.media-amazon.com/images/I/61xg9CpjNjL._AC_UL320_.jpg\n",
      "https://m.media-amazon.com/images/I/714EXTMcpuL._AC_UL320_.jpg\n",
      "https://m.media-amazon.com/images/I/81ggLuJFQNL._AC_UL320_.jpg\n",
      "https://m.media-amazon.com/images/I/71duOyZOOWL._AC_UL320_.jpg\n",
      "https://m.media-amazon.com/images/I/713Hsryga4L._AC_UL320_.jpg\n",
      "https://m.media-amazon.com/images/I/81aR3q6vLaL._AC_UL320_.jpg\n",
      "https://m.media-amazon.com/images/I/81wEyJFH1TL._AC_UL320_.jpg\n",
      "https://m.media-amazon.com/images/I/71YASqqpEEL._AC_UL320_.jpg\n",
      "https://m.media-amazon.com/images/I/71w4e08h2sL._AC_UL320_.jpg\n"
     ]
    }
   ],
   "source": [
    "urls=[]\n",
    "for image in images:\n",
    "    source= image.get_attribute('src')\n",
    "    urls.append(source)\n",
    "    print(source)"
   ]
  },
  {
   "cell_type": "markdown",
   "metadata": {},
   "source": [
    "# Downloading Images\n"
   ]
  },
  {
   "cell_type": "code",
   "execution_count": 9,
   "metadata": {},
   "outputs": [
    {
     "name": "stdout",
     "output_type": "stream",
     "text": [
      "dowmloading 1 of 60 image from page 1\n",
      "dowmloading 2 of 60 image from page 1\n",
      "dowmloading 3 of 60 image from page 1\n",
      "dowmloading 4 of 60 image from page 1\n",
      "dowmloading 5 of 60 image from page 1\n",
      "dowmloading 6 of 60 image from page 1\n",
      "dowmloading 7 of 60 image from page 1\n",
      "dowmloading 8 of 60 image from page 1\n",
      "dowmloading 9 of 60 image from page 1\n",
      "dowmloading 10 of 60 image from page 1\n",
      "dowmloading 11 of 60 image from page 1\n",
      "dowmloading 12 of 60 image from page 1\n",
      "dowmloading 13 of 60 image from page 1\n",
      "dowmloading 14 of 60 image from page 1\n",
      "dowmloading 15 of 60 image from page 1\n",
      "dowmloading 16 of 60 image from page 1\n",
      "dowmloading 17 of 60 image from page 1\n",
      "dowmloading 18 of 60 image from page 1\n",
      "dowmloading 19 of 60 image from page 1\n",
      "dowmloading 20 of 60 image from page 1\n",
      "dowmloading 21 of 60 image from page 1\n",
      "dowmloading 22 of 60 image from page 1\n",
      "dowmloading 23 of 60 image from page 1\n",
      "dowmloading 24 of 60 image from page 1\n",
      "dowmloading 25 of 60 image from page 1\n",
      "dowmloading 26 of 60 image from page 1\n",
      "dowmloading 27 of 60 image from page 1\n",
      "dowmloading 28 of 60 image from page 1\n",
      "dowmloading 29 of 60 image from page 1\n",
      "dowmloading 30 of 60 image from page 1\n",
      "dowmloading 31 of 60 image from page 1\n",
      "dowmloading 32 of 60 image from page 1\n",
      "dowmloading 33 of 60 image from page 1\n",
      "dowmloading 34 of 60 image from page 1\n",
      "dowmloading 35 of 60 image from page 1\n",
      "dowmloading 36 of 60 image from page 1\n",
      "dowmloading 37 of 60 image from page 1\n",
      "dowmloading 38 of 60 image from page 1\n",
      "dowmloading 39 of 60 image from page 1\n",
      "dowmloading 40 of 60 image from page 1\n",
      "dowmloading 41 of 60 image from page 1\n",
      "dowmloading 42 of 60 image from page 1\n",
      "dowmloading 43 of 60 image from page 1\n",
      "dowmloading 44 of 60 image from page 1\n",
      "dowmloading 45 of 60 image from page 1\n",
      "dowmloading 46 of 60 image from page 1\n",
      "dowmloading 47 of 60 image from page 1\n",
      "dowmloading 48 of 60 image from page 1\n",
      "dowmloading 49 of 60 image from page 1\n",
      "dowmloading 50 of 60 image from page 1\n",
      "dowmloading 51 of 60 image from page 1\n",
      "dowmloading 52 of 60 image from page 1\n",
      "dowmloading 53 of 60 image from page 1\n",
      "dowmloading 54 of 60 image from page 1\n",
      "dowmloading 55 of 60 image from page 1\n",
      "dowmloading 56 of 60 image from page 1\n",
      "dowmloading 57 of 60 image from page 1\n",
      "dowmloading 58 of 60 image from page 1\n",
      "dowmloading 59 of 60 image from page 1\n",
      "dowmloading 60 of 60 image from page 1\n"
     ]
    }
   ],
   "source": [
    "page= 1\n",
    "for index, link in enumerate(urls):\n",
    "    print(\"dowmloading {0} of {1} image from page 1\".format(index+1, len(urls)))\n",
    "    response= requests.get(link)\n",
    "    with open('jeans/img_{0}{1}.jpeg'.format(index, page), \"wb\") as file:\n",
    "        file.write(response.content)"
   ]
  },
  {
   "cell_type": "markdown",
   "metadata": {},
   "source": [
    "# Moving to the rest of the pages\n"
   ]
  },
  {
   "cell_type": "markdown",
   "metadata": {},
   "source": [
    "Finding next button and it's x_path"
   ]
  },
  {
   "cell_type": "code",
   "execution_count": 10,
   "metadata": {},
   "outputs": [],
   "source": [
    "np2=driver.find_element_by_xpath(\"//li[@class= 'a-last']//a\").click()"
   ]
  },
  {
   "cell_type": "code",
   "execution_count": 11,
   "metadata": {},
   "outputs": [
    {
     "name": "stdout",
     "output_type": "stream",
     "text": [
      "60\n"
     ]
    }
   ],
   "source": [
    "images= driver.find_elements_by_xpath(\"//img[@class= 's-image']\")   \n",
    "print(len(images))"
   ]
  },
  {
   "cell_type": "code",
   "execution_count": 12,
   "metadata": {},
   "outputs": [
    {
     "name": "stdout",
     "output_type": "stream",
     "text": [
      "https://m.media-amazon.com/images/I/613BYR2cUML._AC_UL320_.jpg\n",
      "https://m.media-amazon.com/images/I/91pAZjPkepL._AC_UL320_.jpg\n",
      "https://m.media-amazon.com/images/I/81qnBPWr9dL._AC_UL320_.jpg\n",
      "https://m.media-amazon.com/images/I/81QOFG46pKL._AC_UL320_.jpg\n",
      "https://m.media-amazon.com/images/I/81eI5vaKfhL._AC_UL320_.jpg\n",
      "https://m.media-amazon.com/images/I/71ft0likY8L._AC_UL320_.jpg\n",
      "https://m.media-amazon.com/images/I/817+lobyUxL._AC_UL320_.jpg\n",
      "https://m.media-amazon.com/images/I/813FdolTLFL._AC_UL320_.jpg\n",
      "https://m.media-amazon.com/images/I/613BWwlqTkL._AC_UL320_.jpg\n",
      "https://m.media-amazon.com/images/I/61ctY7YIUhL._AC_UL320_.jpg\n",
      "https://m.media-amazon.com/images/I/61nJ6tJX0VL._AC_UL320_.jpg\n",
      "https://m.media-amazon.com/images/I/41ipyFTyb-L._AC_UL320_.jpg\n",
      "https://m.media-amazon.com/images/I/41s4My+nEDL._AC_UL320_.jpg\n",
      "https://m.media-amazon.com/images/I/81ZfDha1c5L._AC_UL320_.jpg\n",
      "https://m.media-amazon.com/images/I/61mvbOIlvQL._AC_UL320_.jpg\n",
      "https://m.media-amazon.com/images/I/61Gvg7wkexL._AC_UL320_.jpg\n",
      "https://m.media-amazon.com/images/I/81wq4UHtW7L._AC_UL320_.jpg\n",
      "https://m.media-amazon.com/images/I/611Uj4IofCL._AC_UL320_.jpg\n",
      "https://m.media-amazon.com/images/I/71O9et28uaL._AC_UL320_.jpg\n",
      "https://m.media-amazon.com/images/I/617SAeg8hPL._AC_UL320_.jpg\n",
      "https://m.media-amazon.com/images/I/61YB0H8a3gL._AC_UL320_.jpg\n",
      "https://m.media-amazon.com/images/I/81XrwcKrN1L._AC_UL320_.jpg\n",
      "https://m.media-amazon.com/images/I/81Op5HUd+1L._AC_UL320_.jpg\n",
      "https://m.media-amazon.com/images/I/91mXH+SEo7L._AC_UL320_.jpg\n",
      "https://m.media-amazon.com/images/I/71KlSNIwVvL._AC_UL320_.jpg\n",
      "https://m.media-amazon.com/images/I/912o9vQKe6L._AC_UL320_.jpg\n",
      "https://m.media-amazon.com/images/I/617SAeg8hPL._AC_UL320_.jpg\n",
      "https://m.media-amazon.com/images/I/813jrqgXQeL._AC_UL320_.jpg\n",
      "https://m.media-amazon.com/images/I/41jpwJuEjKL._AC_UL320_.jpg\n",
      "https://m.media-amazon.com/images/I/718Oin9aTOL._AC_UL320_.jpg\n",
      "https://m.media-amazon.com/images/I/71w4e08h2sL._AC_UL320_.jpg\n",
      "https://m.media-amazon.com/images/I/810pHiR-JUL._AC_UL320_.jpg\n",
      "https://m.media-amazon.com/images/I/817qmgbVlvL._AC_UL320_.jpg\n",
      "https://m.media-amazon.com/images/I/51UXco4336L._AC_UL320_.jpg\n",
      "https://m.media-amazon.com/images/I/61DzS5aOy4L._AC_UL320_.jpg\n",
      "https://m.media-amazon.com/images/I/71pHBgvYSPL._AC_UL320_.jpg\n",
      "https://m.media-amazon.com/images/I/61yK+TRN6qL._AC_UL320_.jpg\n",
      "https://m.media-amazon.com/images/I/61+ymeZjHJL._AC_UL320_.jpg\n",
      "https://m.media-amazon.com/images/I/81LLqdfObkL._AC_UL320_.jpg\n",
      "https://m.media-amazon.com/images/I/81V9Pk4rGOL._AC_UL320_.jpg\n",
      "https://m.media-amazon.com/images/I/81TylGARCsL._AC_UL320_.jpg\n",
      "https://m.media-amazon.com/images/I/81GktRDyaAL._AC_UL320_.jpg\n",
      "https://m.media-amazon.com/images/I/81KVewxjrNL._AC_UL320_.jpg\n",
      "https://m.media-amazon.com/images/I/61YB0H8a3gL._AC_UL320_.jpg\n",
      "https://m.media-amazon.com/images/I/71YV0wBJ-TL._AC_UL320_.jpg\n",
      "https://m.media-amazon.com/images/I/81QOFG46pKL._AC_UL320_.jpg\n",
      "https://m.media-amazon.com/images/I/71X9lAzymgL._AC_UL320_.jpg\n",
      "https://m.media-amazon.com/images/I/81AyNDPh7uL._AC_UL320_.jpg\n",
      "https://m.media-amazon.com/images/I/71wdCI5n4VL._AC_UL320_.jpg\n",
      "https://m.media-amazon.com/images/I/71j2MP7jlWL._AC_UL320_.jpg\n",
      "https://m.media-amazon.com/images/I/91e10WouDlL._AC_UL320_.jpg\n",
      "https://m.media-amazon.com/images/I/71WlJIkc4yL._AC_UL320_.jpg\n",
      "https://m.media-amazon.com/images/I/81U2YOxCtLL._AC_UL320_.jpg\n",
      "https://m.media-amazon.com/images/I/61BZzaK5abL._AC_UL320_.jpg\n",
      "https://m.media-amazon.com/images/I/81EGkLRifbL._AC_UL320_.jpg\n",
      "https://m.media-amazon.com/images/I/81HXc8DEFNL._AC_UL320_.jpg\n",
      "https://m.media-amazon.com/images/I/71eRdJYRagL._AC_UL320_.jpg\n",
      "https://m.media-amazon.com/images/I/51b-VRz5d-L._AC_UL320_.jpg\n",
      "https://m.media-amazon.com/images/I/81XrwcKrN1L._AC_UL320_.jpg\n",
      "https://m.media-amazon.com/images/I/81GTNDzRtvL._AC_UL320_.jpg\n"
     ]
    }
   ],
   "source": [
    "urls=[]\n",
    "for image in images:\n",
    "    source= image.get_attribute('src')\n",
    "    urls.append(source)\n",
    "    print(source)"
   ]
  },
  {
   "cell_type": "code",
   "execution_count": 13,
   "metadata": {},
   "outputs": [
    {
     "name": "stdout",
     "output_type": "stream",
     "text": [
      "dowmloading 1 of 60 image from page 2\n",
      "dowmloading 2 of 60 image from page 2\n",
      "dowmloading 3 of 60 image from page 2\n",
      "dowmloading 4 of 60 image from page 2\n",
      "dowmloading 5 of 60 image from page 2\n",
      "dowmloading 6 of 60 image from page 2\n",
      "dowmloading 7 of 60 image from page 2\n",
      "dowmloading 8 of 60 image from page 2\n",
      "dowmloading 9 of 60 image from page 2\n",
      "dowmloading 10 of 60 image from page 2\n",
      "dowmloading 11 of 60 image from page 2\n",
      "dowmloading 12 of 60 image from page 2\n",
      "dowmloading 13 of 60 image from page 2\n",
      "dowmloading 14 of 60 image from page 2\n",
      "dowmloading 15 of 60 image from page 2\n",
      "dowmloading 16 of 60 image from page 2\n",
      "dowmloading 17 of 60 image from page 2\n",
      "dowmloading 18 of 60 image from page 2\n",
      "dowmloading 19 of 60 image from page 2\n",
      "dowmloading 20 of 60 image from page 2\n",
      "dowmloading 21 of 60 image from page 2\n",
      "dowmloading 22 of 60 image from page 2\n",
      "dowmloading 23 of 60 image from page 2\n",
      "dowmloading 24 of 60 image from page 2\n",
      "dowmloading 25 of 60 image from page 2\n",
      "dowmloading 26 of 60 image from page 2\n",
      "dowmloading 27 of 60 image from page 2\n",
      "dowmloading 28 of 60 image from page 2\n",
      "dowmloading 29 of 60 image from page 2\n",
      "dowmloading 30 of 60 image from page 2\n",
      "dowmloading 31 of 60 image from page 2\n",
      "dowmloading 32 of 60 image from page 2\n",
      "dowmloading 33 of 60 image from page 2\n",
      "dowmloading 34 of 60 image from page 2\n",
      "dowmloading 35 of 60 image from page 2\n",
      "dowmloading 36 of 60 image from page 2\n",
      "dowmloading 37 of 60 image from page 2\n",
      "dowmloading 38 of 60 image from page 2\n",
      "dowmloading 39 of 60 image from page 2\n",
      "dowmloading 40 of 60 image from page 2\n",
      "dowmloading 41 of 60 image from page 2\n",
      "dowmloading 42 of 60 image from page 2\n",
      "dowmloading 43 of 60 image from page 2\n",
      "dowmloading 44 of 60 image from page 2\n",
      "dowmloading 45 of 60 image from page 2\n",
      "dowmloading 46 of 60 image from page 2\n",
      "dowmloading 47 of 60 image from page 2\n",
      "dowmloading 48 of 60 image from page 2\n",
      "dowmloading 49 of 60 image from page 2\n",
      "dowmloading 50 of 60 image from page 2\n",
      "dowmloading 51 of 60 image from page 2\n",
      "dowmloading 52 of 60 image from page 2\n",
      "dowmloading 53 of 60 image from page 2\n",
      "dowmloading 54 of 60 image from page 2\n",
      "dowmloading 55 of 60 image from page 2\n",
      "dowmloading 56 of 60 image from page 2\n",
      "dowmloading 57 of 60 image from page 2\n",
      "dowmloading 58 of 60 image from page 2\n",
      "dowmloading 59 of 60 image from page 2\n",
      "dowmloading 60 of 60 image from page 2\n"
     ]
    }
   ],
   "source": [
    "page= 2\n",
    "for index, link in enumerate(urls):\n",
    "    print(\"dowmloading {0} of {1} image from page 2\".format(index+1, len(urls)))\n",
    "    response= requests.get(link)\n",
    "    with open('jeans/img_{0}{1}.jpeg'.format(index, page), \"wb\") as file:\n",
    "        file.write(response.content)"
   ]
  },
  {
   "cell_type": "markdown",
   "metadata": {},
   "source": [
    "## Next page 3"
   ]
  },
  {
   "cell_type": "code",
   "execution_count": 14,
   "metadata": {},
   "outputs": [],
   "source": [
    "np3=driver.find_element_by_xpath(\"//li[@class= 'a-last']//a\").click()"
   ]
  },
  {
   "cell_type": "code",
   "execution_count": 15,
   "metadata": {},
   "outputs": [
    {
     "name": "stdout",
     "output_type": "stream",
     "text": [
      "60\n"
     ]
    }
   ],
   "source": [
    "images= driver.find_elements_by_xpath(\"//img[@class= 's-image']\")  \n",
    "print(len(images))"
   ]
  },
  {
   "cell_type": "code",
   "execution_count": 16,
   "metadata": {},
   "outputs": [
    {
     "name": "stdout",
     "output_type": "stream",
     "text": [
      "https://m.media-amazon.com/images/I/613BYR2cUML._AC_UL320_.jpg\n",
      "https://m.media-amazon.com/images/I/91pAZjPkepL._AC_UL320_.jpg\n",
      "https://m.media-amazon.com/images/I/81qnBPWr9dL._AC_UL320_.jpg\n",
      "https://m.media-amazon.com/images/I/81QOFG46pKL._AC_UL320_.jpg\n",
      "https://m.media-amazon.com/images/I/81qgaCS1MKL._AC_UL320_.jpg\n",
      "https://m.media-amazon.com/images/I/61Ogr-nK2mL._AC_UL320_.jpg\n",
      "https://m.media-amazon.com/images/I/81WSgglrLBL._AC_UL320_.jpg\n",
      "https://m.media-amazon.com/images/I/81Vt5SNn96L._AC_UL320_.jpg\n",
      "https://m.media-amazon.com/images/I/61Udsu9LfVL._AC_UL320_.jpg\n",
      "https://m.media-amazon.com/images/I/71m0W58-zQL._AC_UL320_.jpg\n",
      "https://m.media-amazon.com/images/I/71I+AL2sPQL._AC_UL320_.jpg\n",
      "https://m.media-amazon.com/images/I/71rXi12cbmL._AC_UL320_.jpg\n",
      "https://m.media-amazon.com/images/I/91xtom0Za8L._AC_UL320_.jpg\n",
      "https://m.media-amazon.com/images/I/61aGmtzhdhL._AC_UL320_.jpg\n",
      "https://m.media-amazon.com/images/I/71wdCI5n4VL._AC_UL320_.jpg\n",
      "https://m.media-amazon.com/images/I/71HEmGIsJkL._AC_UL320_.jpg\n",
      "https://m.media-amazon.com/images/I/81tFXevKUxL._AC_UL320_.jpg\n",
      "https://m.media-amazon.com/images/I/81bpqSFc5uL._AC_UL320_.jpg\n",
      "https://m.media-amazon.com/images/I/81G4si+3gaL._AC_UL320_.jpg\n",
      "https://m.media-amazon.com/images/I/81dJiUoXzUL._AC_UL320_.jpg\n",
      "https://m.media-amazon.com/images/I/51HWoYV73tL._AC_UL320_.jpg\n",
      "https://m.media-amazon.com/images/I/71YASqqpEEL._AC_UL320_.jpg\n",
      "https://m.media-amazon.com/images/I/71mpmKHUf6L._AC_UL320_.jpg\n",
      "https://m.media-amazon.com/images/I/31kkHjDp4QL._AC_UL320_.jpg\n",
      "https://m.media-amazon.com/images/I/61HvYtNzzSL._AC_UL320_.jpg\n",
      "https://m.media-amazon.com/images/I/81mfiQL+hvL._AC_UL320_.jpg\n",
      "https://m.media-amazon.com/images/I/81uPceyXCOL._AC_UL320_.jpg\n",
      "https://m.media-amazon.com/images/I/81dtaLqz4rL._AC_UL320_.jpg\n",
      "https://m.media-amazon.com/images/I/41jpwJuEjKL._AC_UL320_.jpg\n",
      "https://m.media-amazon.com/images/I/718Oin9aTOL._AC_UL320_.jpg\n",
      "https://m.media-amazon.com/images/I/71w4e08h2sL._AC_UL320_.jpg\n",
      "https://m.media-amazon.com/images/I/810pHiR-JUL._AC_UL320_.jpg\n",
      "https://m.media-amazon.com/images/I/81Z9fx6M3cL._AC_UL320_.jpg\n",
      "https://m.media-amazon.com/images/I/81jdRmk4pgL._AC_UL320_.jpg\n",
      "https://m.media-amazon.com/images/I/51Gvco2ivdL._AC_UL320_.jpg\n",
      "https://m.media-amazon.com/images/I/712DTxe3-0L._AC_UL320_.jpg\n",
      "https://m.media-amazon.com/images/I/81eacOuwECL._AC_UL320_.jpg\n",
      "https://m.media-amazon.com/images/I/71lqCIXYFNL._AC_UL320_.jpg\n",
      "https://m.media-amazon.com/images/I/81mMIkG8sFL._AC_UL320_.jpg\n",
      "https://m.media-amazon.com/images/I/818ZwzKVZcL._AC_UL320_.jpg\n",
      "https://m.media-amazon.com/images/I/712pHoSq6WL._AC_UL320_.jpg\n",
      "https://m.media-amazon.com/images/I/81XzSqUwyyL._AC_UL320_.jpg\n",
      "https://m.media-amazon.com/images/I/51HWoYV73tL._AC_UL320_.jpg\n",
      "https://m.media-amazon.com/images/I/81w3RVdPFjL._AC_UL320_.jpg\n",
      "https://m.media-amazon.com/images/I/31fU1aZ44BL._AC_UL320_.jpg\n",
      "https://m.media-amazon.com/images/I/51jjaDgyn4L._AC_UL320_.jpg\n",
      "https://m.media-amazon.com/images/I/31p4fGaaEaL._AC_UL320_.jpg\n",
      "https://m.media-amazon.com/images/I/81YKMCyiLzL._AC_UL320_.jpg\n",
      "https://m.media-amazon.com/images/I/81GFry-xxBL._AC_UL320_.jpg\n",
      "https://m.media-amazon.com/images/I/917qCzSu7TL._AC_UL320_.jpg\n",
      "https://m.media-amazon.com/images/I/619XHJloNYL._AC_UL320_.jpg\n",
      "https://m.media-amazon.com/images/I/81PGSl3bTBL._AC_UL320_.jpg\n",
      "https://m.media-amazon.com/images/I/81nuOCZkXjL._AC_UL320_.jpg\n",
      "https://m.media-amazon.com/images/I/A1q57Zmq0sL._AC_UL320_.jpg\n",
      "https://m.media-amazon.com/images/I/81K7gmUKQlL._AC_UL320_.jpg\n",
      "https://m.media-amazon.com/images/I/81nL4B-K0WL._AC_UL320_.jpg\n",
      "https://m.media-amazon.com/images/I/71eRdJYRagL._AC_UL320_.jpg\n",
      "https://m.media-amazon.com/images/I/81KDixA4OPL._AC_UL320_.jpg\n",
      "https://m.media-amazon.com/images/I/51b-VRz5d-L._AC_UL320_.jpg\n",
      "https://m.media-amazon.com/images/I/81XrwcKrN1L._AC_UL320_.jpg\n"
     ]
    }
   ],
   "source": [
    "urls=[]\n",
    "for image in images:\n",
    "    source= image.get_attribute('src')\n",
    "    urls.append(source)\n",
    "    print(source)"
   ]
  },
  {
   "cell_type": "code",
   "execution_count": 17,
   "metadata": {},
   "outputs": [
    {
     "name": "stdout",
     "output_type": "stream",
     "text": [
      "dowmloading 1 of 60 image from page 3\n",
      "dowmloading 2 of 60 image from page 3\n",
      "dowmloading 3 of 60 image from page 3\n",
      "dowmloading 4 of 60 image from page 3\n",
      "dowmloading 5 of 60 image from page 3\n",
      "dowmloading 6 of 60 image from page 3\n",
      "dowmloading 7 of 60 image from page 3\n",
      "dowmloading 8 of 60 image from page 3\n",
      "dowmloading 9 of 60 image from page 3\n",
      "dowmloading 10 of 60 image from page 3\n",
      "dowmloading 11 of 60 image from page 3\n",
      "dowmloading 12 of 60 image from page 3\n",
      "dowmloading 13 of 60 image from page 3\n",
      "dowmloading 14 of 60 image from page 3\n",
      "dowmloading 15 of 60 image from page 3\n",
      "dowmloading 16 of 60 image from page 3\n",
      "dowmloading 17 of 60 image from page 3\n",
      "dowmloading 18 of 60 image from page 3\n",
      "dowmloading 19 of 60 image from page 3\n",
      "dowmloading 20 of 60 image from page 3\n",
      "dowmloading 21 of 60 image from page 3\n",
      "dowmloading 22 of 60 image from page 3\n",
      "dowmloading 23 of 60 image from page 3\n",
      "dowmloading 24 of 60 image from page 3\n",
      "dowmloading 25 of 60 image from page 3\n",
      "dowmloading 26 of 60 image from page 3\n",
      "dowmloading 27 of 60 image from page 3\n",
      "dowmloading 28 of 60 image from page 3\n",
      "dowmloading 29 of 60 image from page 3\n",
      "dowmloading 30 of 60 image from page 3\n",
      "dowmloading 31 of 60 image from page 3\n",
      "dowmloading 32 of 60 image from page 3\n",
      "dowmloading 33 of 60 image from page 3\n",
      "dowmloading 34 of 60 image from page 3\n",
      "dowmloading 35 of 60 image from page 3\n",
      "dowmloading 36 of 60 image from page 3\n",
      "dowmloading 37 of 60 image from page 3\n",
      "dowmloading 38 of 60 image from page 3\n",
      "dowmloading 39 of 60 image from page 3\n",
      "dowmloading 40 of 60 image from page 3\n",
      "dowmloading 41 of 60 image from page 3\n",
      "dowmloading 42 of 60 image from page 3\n",
      "dowmloading 43 of 60 image from page 3\n",
      "dowmloading 44 of 60 image from page 3\n",
      "dowmloading 45 of 60 image from page 3\n",
      "dowmloading 46 of 60 image from page 3\n",
      "dowmloading 47 of 60 image from page 3\n",
      "dowmloading 48 of 60 image from page 3\n",
      "dowmloading 49 of 60 image from page 3\n",
      "dowmloading 50 of 60 image from page 3\n",
      "dowmloading 51 of 60 image from page 3\n",
      "dowmloading 52 of 60 image from page 3\n",
      "dowmloading 53 of 60 image from page 3\n",
      "dowmloading 54 of 60 image from page 3\n",
      "dowmloading 55 of 60 image from page 3\n",
      "dowmloading 56 of 60 image from page 3\n",
      "dowmloading 57 of 60 image from page 3\n",
      "dowmloading 58 of 60 image from page 3\n",
      "dowmloading 59 of 60 image from page 3\n",
      "dowmloading 60 of 60 image from page 3\n"
     ]
    }
   ],
   "source": [
    "page= 3\n",
    "for index, link in enumerate(urls):\n",
    "    print(\"dowmloading {0} of {1} image from page 3\".format(index+1, len(urls)))\n",
    "    response= requests.get(link)\n",
    "    with open('jeans/img_{0}{1}.jpeg'.format(index, page), \"wb\") as file:\n",
    "        file.write(response.content)"
   ]
  },
  {
   "cell_type": "markdown",
   "metadata": {},
   "source": [
    "## Next page 4"
   ]
  },
  {
   "cell_type": "code",
   "execution_count": 18,
   "metadata": {},
   "outputs": [],
   "source": [
    "np4=driver.find_element_by_xpath(\"//li[@class= 'a-last']//a\").click()"
   ]
  },
  {
   "cell_type": "code",
   "execution_count": 19,
   "metadata": {},
   "outputs": [
    {
     "name": "stdout",
     "output_type": "stream",
     "text": [
      "60\n"
     ]
    }
   ],
   "source": [
    "images= driver.find_elements_by_xpath(\"//img[@class= 's-image']\")\n",
    "print(len(images))"
   ]
  },
  {
   "cell_type": "code",
   "execution_count": 20,
   "metadata": {},
   "outputs": [
    {
     "name": "stdout",
     "output_type": "stream",
     "text": [
      "https://m.media-amazon.com/images/I/613BYR2cUML._AC_UL320_.jpg\n",
      "https://m.media-amazon.com/images/I/91pAZjPkepL._AC_UL320_.jpg\n",
      "https://m.media-amazon.com/images/I/81qnBPWr9dL._AC_UL320_.jpg\n",
      "https://m.media-amazon.com/images/I/81QOFG46pKL._AC_UL320_.jpg\n",
      "https://m.media-amazon.com/images/I/81q9rnhglmL._AC_UL320_.jpg\n",
      "https://m.media-amazon.com/images/I/81GkqFNEKhL._AC_UL320_.jpg\n",
      "https://m.media-amazon.com/images/I/81YMK25L5CL._AC_UL320_.jpg\n",
      "https://m.media-amazon.com/images/I/81UvgqU5DsL._AC_UL320_.jpg\n",
      "https://m.media-amazon.com/images/I/81Q7jW-OhDL._AC_UL320_.jpg\n",
      "https://m.media-amazon.com/images/I/61N1hOGfVLL._AC_UL320_.jpg\n",
      "https://m.media-amazon.com/images/I/61dL-tqEQaL._AC_UL320_.jpg\n",
      "https://m.media-amazon.com/images/I/61uFPT+R38L._AC_UL320_.jpg\n",
      "https://m.media-amazon.com/images/I/61-AkY+dx1L._AC_UL320_.jpg\n",
      "https://m.media-amazon.com/images/I/91rFfkC-JcL._AC_UL320_.jpg\n",
      "https://m.media-amazon.com/images/I/812gmugrx8L._AC_UL320_.jpg\n",
      "https://m.media-amazon.com/images/I/81iWc9um37L._AC_UL320_.jpg\n",
      "https://m.media-amazon.com/images/I/81FDxTHlAUL._AC_UL320_.jpg\n",
      "https://m.media-amazon.com/images/I/71mWUoQdFqL._AC_UL320_.jpg\n",
      "https://m.media-amazon.com/images/I/81FNBLoSgjL._AC_UL320_.jpg\n",
      "https://m.media-amazon.com/images/I/81AKZIzAZpL._AC_UL320_.jpg\n",
      "https://m.media-amazon.com/images/I/91lFbU4aw6L._AC_UL320_.jpg\n",
      "https://m.media-amazon.com/images/I/81mtmJNSqKL._AC_UL320_.jpg\n",
      "https://m.media-amazon.com/images/I/81kqKjutQwL._AC_UL320_.jpg\n",
      "https://m.media-amazon.com/images/I/81ALI2ioFYL._AC_UL320_.jpg\n",
      "https://m.media-amazon.com/images/I/31QLPKK6OcL._AC_UL320_.jpg\n",
      "https://m.media-amazon.com/images/I/61HBtXKvYOL._AC_UL320_.jpg\n",
      "https://m.media-amazon.com/images/I/61vbvuAOGXL._AC_UL320_.jpg\n",
      "https://m.media-amazon.com/images/I/81TaN40eMzL._AC_UL320_.jpg\n",
      "https://m.media-amazon.com/images/I/41jpwJuEjKL._AC_UL320_.jpg\n",
      "https://m.media-amazon.com/images/I/718Oin9aTOL._AC_UL320_.jpg\n",
      "https://m.media-amazon.com/images/I/71w4e08h2sL._AC_UL320_.jpg\n",
      "https://m.media-amazon.com/images/I/810pHiR-JUL._AC_UL320_.jpg\n",
      "https://m.media-amazon.com/images/I/81wikvFAEXL._AC_UL320_.jpg\n",
      "https://m.media-amazon.com/images/I/71d-DQnE5+L._AC_UL320_.jpg\n",
      "https://m.media-amazon.com/images/I/71F9gI5l2yL._AC_UL320_.jpg\n",
      "https://m.media-amazon.com/images/I/81LoJ3Q29tL._AC_UL320_.jpg\n",
      "https://m.media-amazon.com/images/I/81B5GSOGEUL._AC_UL320_.jpg\n",
      "https://m.media-amazon.com/images/I/81-f9havuOL._AC_UL320_.jpg\n",
      "https://m.media-amazon.com/images/I/81jtZoQJ75L._AC_UL320_.jpg\n",
      "https://m.media-amazon.com/images/I/61HXNacxP-L._AC_UL320_.jpg\n",
      "https://m.media-amazon.com/images/I/81keMre05BL._AC_UL320_.jpg\n",
      "https://m.media-amazon.com/images/I/81mG2mJmRvL._AC_UL320_.jpg\n",
      "https://m.media-amazon.com/images/I/61ZMrMANV2L._AC_UL320_.jpg\n",
      "https://m.media-amazon.com/images/I/91EiNrRKQyL._AC_UL320_.jpg\n",
      "https://m.media-amazon.com/images/I/51KjZtBXg+L._AC_UL320_.jpg\n",
      "https://m.media-amazon.com/images/I/61WFyxEVKKL._AC_UL320_.jpg\n",
      "https://m.media-amazon.com/images/I/61rcTRuNxHL._AC_UL320_.jpg\n",
      "https://m.media-amazon.com/images/I/81Z3KPLAiPL._AC_UL320_.jpg\n",
      "https://m.media-amazon.com/images/I/81I-er3sJuL._AC_UL320_.jpg\n",
      "https://m.media-amazon.com/images/I/81Nypn1qenL._AC_UL320_.jpg\n",
      "https://m.media-amazon.com/images/I/81IwD017ORL._AC_UL320_.jpg\n",
      "https://m.media-amazon.com/images/I/61ySYdPgH2L._AC_UL320_.jpg\n",
      "https://m.media-amazon.com/images/I/71pgiVthnrL._AC_UL320_.jpg\n",
      "https://m.media-amazon.com/images/I/71kVNXR5YvL._AC_UL320_.jpg\n",
      "https://m.media-amazon.com/images/I/91+tVyTjomL._AC_UL320_.jpg\n",
      "https://m.media-amazon.com/images/I/81jesRDkOSL._AC_UL320_.jpg\n",
      "https://m.media-amazon.com/images/I/71eRdJYRagL._AC_UL320_.jpg\n",
      "https://m.media-amazon.com/images/I/81KDixA4OPL._AC_UL320_.jpg\n",
      "https://m.media-amazon.com/images/I/51b-VRz5d-L._AC_UL320_.jpg\n",
      "https://m.media-amazon.com/images/I/81XrwcKrN1L._AC_UL320_.jpg\n"
     ]
    }
   ],
   "source": [
    "urls=[]\n",
    "for image in images:\n",
    "    source= image.get_attribute('src')\n",
    "    urls.append(source)\n",
    "    print(source)"
   ]
  },
  {
   "cell_type": "code",
   "execution_count": 21,
   "metadata": {},
   "outputs": [
    {
     "name": "stdout",
     "output_type": "stream",
     "text": [
      "dowmloading 1 of 60 image from page 4\n",
      "dowmloading 2 of 60 image from page 4\n",
      "dowmloading 3 of 60 image from page 4\n",
      "dowmloading 4 of 60 image from page 4\n",
      "dowmloading 5 of 60 image from page 4\n",
      "dowmloading 6 of 60 image from page 4\n",
      "dowmloading 7 of 60 image from page 4\n",
      "dowmloading 8 of 60 image from page 4\n",
      "dowmloading 9 of 60 image from page 4\n",
      "dowmloading 10 of 60 image from page 4\n",
      "dowmloading 11 of 60 image from page 4\n",
      "dowmloading 12 of 60 image from page 4\n",
      "dowmloading 13 of 60 image from page 4\n",
      "dowmloading 14 of 60 image from page 4\n",
      "dowmloading 15 of 60 image from page 4\n",
      "dowmloading 16 of 60 image from page 4\n",
      "dowmloading 17 of 60 image from page 4\n",
      "dowmloading 18 of 60 image from page 4\n",
      "dowmloading 19 of 60 image from page 4\n",
      "dowmloading 20 of 60 image from page 4\n",
      "dowmloading 21 of 60 image from page 4\n",
      "dowmloading 22 of 60 image from page 4\n",
      "dowmloading 23 of 60 image from page 4\n",
      "dowmloading 24 of 60 image from page 4\n",
      "dowmloading 25 of 60 image from page 4\n",
      "dowmloading 26 of 60 image from page 4\n",
      "dowmloading 27 of 60 image from page 4\n",
      "dowmloading 28 of 60 image from page 4\n",
      "dowmloading 29 of 60 image from page 4\n",
      "dowmloading 30 of 60 image from page 4\n",
      "dowmloading 31 of 60 image from page 4\n",
      "dowmloading 32 of 60 image from page 4\n",
      "dowmloading 33 of 60 image from page 4\n",
      "dowmloading 34 of 60 image from page 4\n",
      "dowmloading 35 of 60 image from page 4\n",
      "dowmloading 36 of 60 image from page 4\n",
      "dowmloading 37 of 60 image from page 4\n",
      "dowmloading 38 of 60 image from page 4\n",
      "dowmloading 39 of 60 image from page 4\n",
      "dowmloading 40 of 60 image from page 4\n",
      "dowmloading 41 of 60 image from page 4\n",
      "dowmloading 42 of 60 image from page 4\n",
      "dowmloading 43 of 60 image from page 4\n",
      "dowmloading 44 of 60 image from page 4\n",
      "dowmloading 45 of 60 image from page 4\n",
      "dowmloading 46 of 60 image from page 4\n",
      "dowmloading 47 of 60 image from page 4\n",
      "dowmloading 48 of 60 image from page 4\n",
      "dowmloading 49 of 60 image from page 4\n",
      "dowmloading 50 of 60 image from page 4\n",
      "dowmloading 51 of 60 image from page 4\n",
      "dowmloading 52 of 60 image from page 4\n",
      "dowmloading 53 of 60 image from page 4\n",
      "dowmloading 54 of 60 image from page 4\n",
      "dowmloading 55 of 60 image from page 4\n",
      "dowmloading 56 of 60 image from page 4\n",
      "dowmloading 57 of 60 image from page 4\n",
      "dowmloading 58 of 60 image from page 4\n",
      "dowmloading 59 of 60 image from page 4\n",
      "dowmloading 60 of 60 image from page 4\n"
     ]
    }
   ],
   "source": [
    "page= 4\n",
    "for index, link in enumerate(urls):\n",
    "    print(\"dowmloading {0} of {1} image from page 4\".format(index+1, len(urls)))\n",
    "    response= requests.get(link)\n",
    "    with open('jeans/img_{0}{1}.jpeg'.format(index, page), \"wb\") as file:\n",
    "        file.write(response.content)"
   ]
  },
  {
   "cell_type": "markdown",
   "metadata": {},
   "source": [
    "## Next page 5"
   ]
  },
  {
   "cell_type": "code",
   "execution_count": 22,
   "metadata": {},
   "outputs": [],
   "source": [
    "np5=driver.find_element_by_xpath(\"//li[@class= 'a-last']//a\").click()"
   ]
  },
  {
   "cell_type": "code",
   "execution_count": 23,
   "metadata": {},
   "outputs": [
    {
     "name": "stdout",
     "output_type": "stream",
     "text": [
      "60\n"
     ]
    }
   ],
   "source": [
    "images= driver.find_elements_by_xpath(\"//img[@class= 's-image']\")\n",
    "print(len(images))"
   ]
  },
  {
   "cell_type": "code",
   "execution_count": 24,
   "metadata": {},
   "outputs": [
    {
     "name": "stdout",
     "output_type": "stream",
     "text": [
      "https://m.media-amazon.com/images/I/613BYR2cUML._AC_UL320_.jpg\n",
      "https://m.media-amazon.com/images/I/91pAZjPkepL._AC_UL320_.jpg\n",
      "https://m.media-amazon.com/images/I/81qnBPWr9dL._AC_UL320_.jpg\n",
      "https://m.media-amazon.com/images/I/81QOFG46pKL._AC_UL320_.jpg\n",
      "https://m.media-amazon.com/images/I/71O3ytRI9+L._AC_UL320_.jpg\n",
      "https://m.media-amazon.com/images/I/61EF5PNv-IL._AC_UL320_.jpg\n",
      "https://m.media-amazon.com/images/I/81qdWo4lbTL._AC_UL320_.jpg\n",
      "https://m.media-amazon.com/images/I/81p5QrWWHbL._AC_UL320_.jpg\n",
      "https://m.media-amazon.com/images/I/819rgakCvfL._AC_UL320_.jpg\n",
      "https://m.media-amazon.com/images/I/81tt9jv993L._AC_UL320_.jpg\n",
      "https://m.media-amazon.com/images/I/81kHA50Z48L._AC_UL320_.jpg\n",
      "https://m.media-amazon.com/images/I/81OLp3fdlyL._AC_UL320_.jpg\n",
      "https://m.media-amazon.com/images/I/61u7ZNKqnVL._AC_UL320_.jpg\n",
      "https://m.media-amazon.com/images/I/81dZ97Jc2GL._AC_UL320_.jpg\n",
      "https://m.media-amazon.com/images/I/81eacOuwECL._AC_UL320_.jpg\n",
      "https://m.media-amazon.com/images/I/81epZLtdk7L._AC_UL320_.jpg\n",
      "https://m.media-amazon.com/images/I/51Qv47yq2LL._AC_UL320_.jpg\n",
      "https://m.media-amazon.com/images/I/7122YGtofXL._AC_UL320_.jpg\n",
      "https://m.media-amazon.com/images/I/51JjYBDfqJL._AC_UL320_.jpg\n",
      "https://m.media-amazon.com/images/I/81tK9MJ07rL._AC_UL320_.jpg\n",
      "https://m.media-amazon.com/images/I/71Z4dZo+n9L._AC_UL320_.jpg\n",
      "https://m.media-amazon.com/images/I/81jQb7KuMkL._AC_UL320_.jpg\n",
      "https://m.media-amazon.com/images/I/61yrSFlZkdL._AC_UL320_.jpg\n",
      "https://m.media-amazon.com/images/I/81w+ZFmCETL._AC_UL320_.jpg\n",
      "https://m.media-amazon.com/images/I/81OY-B7D8NL._AC_UL320_.jpg\n",
      "https://m.media-amazon.com/images/I/81fuogmixWL._AC_UL320_.jpg\n",
      "https://m.media-amazon.com/images/I/81tqR3NF4zL._AC_UL320_.jpg\n",
      "https://m.media-amazon.com/images/I/81fwKepgI6L._AC_UL320_.jpg\n",
      "https://m.media-amazon.com/images/I/41jpwJuEjKL._AC_UL320_.jpg\n",
      "https://m.media-amazon.com/images/I/718Oin9aTOL._AC_UL320_.jpg\n",
      "https://m.media-amazon.com/images/I/71w4e08h2sL._AC_UL320_.jpg\n",
      "https://m.media-amazon.com/images/I/810pHiR-JUL._AC_UL320_.jpg\n",
      "https://m.media-amazon.com/images/I/81w2CwmKR7L._AC_UL320_.jpg\n",
      "https://m.media-amazon.com/images/I/41s4My+nEDL._AC_UL320_.jpg\n",
      "https://m.media-amazon.com/images/I/71O4z2IKsLL._AC_UL320_.jpg\n",
      "https://m.media-amazon.com/images/I/61J5P6nIG9L._AC_UL320_.jpg\n",
      "https://m.media-amazon.com/images/I/81rcwd8YYNL._AC_UL320_.jpg\n",
      "https://m.media-amazon.com/images/I/81aAZ+ofFLL._AC_UL320_.jpg\n",
      "https://m.media-amazon.com/images/I/81eX01v34CL._AC_UL320_.jpg\n",
      "https://m.media-amazon.com/images/I/71lDZDds+VL._AC_UL320_.jpg\n",
      "https://m.media-amazon.com/images/I/81kkMsei2kL._AC_UL320_.jpg\n",
      "https://m.media-amazon.com/images/I/81rZsGT5ZJL._AC_UL320_.jpg\n",
      "https://m.media-amazon.com/images/I/71tu-A0rWDL._AC_UL320_.jpg\n",
      "https://m.media-amazon.com/images/I/81WI1iN8zJL._AC_UL320_.jpg\n",
      "https://m.media-amazon.com/images/I/815v22oryCL._AC_UL320_.jpg\n",
      "https://m.media-amazon.com/images/I/712AfV1AxBL._AC_UL320_.jpg\n",
      "https://m.media-amazon.com/images/I/81V60iOz-jL._AC_UL320_.jpg\n",
      "https://m.media-amazon.com/images/I/71wdCI5n4VL._AC_UL320_.jpg\n",
      "https://m.media-amazon.com/images/I/71IkPnwuqfL._AC_UL320_.jpg\n",
      "https://m.media-amazon.com/images/I/81iWc9um37L._AC_UL320_.jpg\n",
      "https://m.media-amazon.com/images/I/81Z3KPLAiPL._AC_UL320_.jpg\n",
      "https://m.media-amazon.com/images/I/61Ooon-PvbL._AC_UL320_.jpg\n",
      "https://m.media-amazon.com/images/I/71EgKKnOAkL._AC_UL320_.jpg\n",
      "https://m.media-amazon.com/images/I/61g2esW2fsL._AC_UL320_.jpg\n",
      "https://m.media-amazon.com/images/I/81TbAahpITL._AC_UL320_.jpg\n",
      "https://m.media-amazon.com/images/I/81eLAfC3NFL._AC_UL320_.jpg\n",
      "https://m.media-amazon.com/images/I/71eRdJYRagL._AC_UL320_.jpg\n",
      "https://m.media-amazon.com/images/I/81KDixA4OPL._AC_UL320_.jpg\n",
      "https://m.media-amazon.com/images/I/51b-VRz5d-L._AC_UL320_.jpg\n",
      "https://m.media-amazon.com/images/I/81XrwcKrN1L._AC_UL320_.jpg\n"
     ]
    }
   ],
   "source": [
    "urls=[]\n",
    "for image in images:\n",
    "    source= image.get_attribute('src')\n",
    "    urls.append(source)\n",
    "    print(source)"
   ]
  },
  {
   "cell_type": "code",
   "execution_count": 25,
   "metadata": {},
   "outputs": [
    {
     "name": "stdout",
     "output_type": "stream",
     "text": [
      "dowmloading 1 of 60 image from page 5\n",
      "dowmloading 2 of 60 image from page 5\n",
      "dowmloading 3 of 60 image from page 5\n",
      "dowmloading 4 of 60 image from page 5\n",
      "dowmloading 5 of 60 image from page 5\n",
      "dowmloading 6 of 60 image from page 5\n",
      "dowmloading 7 of 60 image from page 5\n",
      "dowmloading 8 of 60 image from page 5\n",
      "dowmloading 9 of 60 image from page 5\n",
      "dowmloading 10 of 60 image from page 5\n",
      "dowmloading 11 of 60 image from page 5\n",
      "dowmloading 12 of 60 image from page 5\n",
      "dowmloading 13 of 60 image from page 5\n",
      "dowmloading 14 of 60 image from page 5\n",
      "dowmloading 15 of 60 image from page 5\n",
      "dowmloading 16 of 60 image from page 5\n",
      "dowmloading 17 of 60 image from page 5\n",
      "dowmloading 18 of 60 image from page 5\n",
      "dowmloading 19 of 60 image from page 5\n",
      "dowmloading 20 of 60 image from page 5\n",
      "dowmloading 21 of 60 image from page 5\n",
      "dowmloading 22 of 60 image from page 5\n",
      "dowmloading 23 of 60 image from page 5\n",
      "dowmloading 24 of 60 image from page 5\n",
      "dowmloading 25 of 60 image from page 5\n",
      "dowmloading 26 of 60 image from page 5\n",
      "dowmloading 27 of 60 image from page 5\n",
      "dowmloading 28 of 60 image from page 5\n",
      "dowmloading 29 of 60 image from page 5\n",
      "dowmloading 30 of 60 image from page 5\n",
      "dowmloading 31 of 60 image from page 5\n",
      "dowmloading 32 of 60 image from page 5\n",
      "dowmloading 33 of 60 image from page 5\n",
      "dowmloading 34 of 60 image from page 5\n",
      "dowmloading 35 of 60 image from page 5\n",
      "dowmloading 36 of 60 image from page 5\n",
      "dowmloading 37 of 60 image from page 5\n",
      "dowmloading 38 of 60 image from page 5\n",
      "dowmloading 39 of 60 image from page 5\n",
      "dowmloading 40 of 60 image from page 5\n",
      "dowmloading 41 of 60 image from page 5\n",
      "dowmloading 42 of 60 image from page 5\n",
      "dowmloading 43 of 60 image from page 5\n",
      "dowmloading 44 of 60 image from page 5\n",
      "dowmloading 45 of 60 image from page 5\n",
      "dowmloading 46 of 60 image from page 5\n",
      "dowmloading 47 of 60 image from page 5\n",
      "dowmloading 48 of 60 image from page 5\n",
      "dowmloading 49 of 60 image from page 5\n",
      "dowmloading 50 of 60 image from page 5\n",
      "dowmloading 51 of 60 image from page 5\n",
      "dowmloading 52 of 60 image from page 5\n",
      "dowmloading 53 of 60 image from page 5\n",
      "dowmloading 54 of 60 image from page 5\n",
      "dowmloading 55 of 60 image from page 5\n",
      "dowmloading 56 of 60 image from page 5\n",
      "dowmloading 57 of 60 image from page 5\n",
      "dowmloading 58 of 60 image from page 5\n",
      "dowmloading 59 of 60 image from page 5\n",
      "dowmloading 60 of 60 image from page 5\n"
     ]
    }
   ],
   "source": [
    "page= 5\n",
    "for index, link in enumerate(urls):\n",
    "    print(\"dowmloading {0} of {1} image from page 5\".format(index+1, len(urls)))\n",
    "    response= requests.get(link)\n",
    "    with open('jeans/img_{0}{1}.jpeg'.format(index, page), \"wb\") as file:\n",
    "        file.write(response.content)"
   ]
  },
  {
   "cell_type": "markdown",
   "metadata": {},
   "source": [
    "## Next page 6"
   ]
  },
  {
   "cell_type": "code",
   "execution_count": 26,
   "metadata": {},
   "outputs": [],
   "source": [
    "np6=driver.find_element_by_xpath(\"//li[@class= 'a-last']//a\").click()"
   ]
  },
  {
   "cell_type": "code",
   "execution_count": 27,
   "metadata": {},
   "outputs": [
    {
     "name": "stdout",
     "output_type": "stream",
     "text": [
      "60\n"
     ]
    }
   ],
   "source": [
    "images= driver.find_elements_by_xpath(\"//img[@class= 's-image']\")\n",
    "print(len(images))"
   ]
  },
  {
   "cell_type": "code",
   "execution_count": 28,
   "metadata": {},
   "outputs": [
    {
     "name": "stdout",
     "output_type": "stream",
     "text": [
      "https://m.media-amazon.com/images/I/613BYR2cUML._AC_UL320_.jpg\n",
      "https://m.media-amazon.com/images/I/91pAZjPkepL._AC_UL320_.jpg\n",
      "https://m.media-amazon.com/images/I/81qnBPWr9dL._AC_UL320_.jpg\n",
      "https://m.media-amazon.com/images/I/81QOFG46pKL._AC_UL320_.jpg\n",
      "https://m.media-amazon.com/images/I/91pAZjPkepL._AC_UL320_.jpg\n",
      "https://m.media-amazon.com/images/I/61YB0H8a3gL._AC_UL320_.jpg\n",
      "https://m.media-amazon.com/images/I/7120rE4Lq+L._AC_UL320_.jpg\n",
      "https://m.media-amazon.com/images/I/91l0zH9T76L._AC_UL320_.jpg\n",
      "https://m.media-amazon.com/images/I/81+n51S68aL._AC_UL320_.jpg\n",
      "https://m.media-amazon.com/images/I/81uL2sZD4kL._AC_UL320_.jpg\n",
      "https://m.media-amazon.com/images/I/61ua93Ww15L._AC_UL320_.jpg\n",
      "https://m.media-amazon.com/images/I/71WlJIkc4yL._AC_UL320_.jpg\n",
      "https://m.media-amazon.com/images/I/617L399rTqL._AC_UL320_.jpg\n",
      "https://m.media-amazon.com/images/I/71KCpmOQisL._AC_UL320_.jpg\n",
      "https://m.media-amazon.com/images/I/61vlbbev3dL._AC_UL320_.jpg\n",
      "https://m.media-amazon.com/images/I/71yDZXFTUrL._AC_UL320_.jpg\n",
      "https://m.media-amazon.com/images/I/71oJRhIjOAL._AC_UL320_.jpg\n",
      "https://m.media-amazon.com/images/I/61S3ucRKtqL._AC_UL320_.jpg\n",
      "https://m.media-amazon.com/images/I/81-JPbHsyML._AC_UL320_.jpg\n",
      "https://m.media-amazon.com/images/I/81FLgEVPrwL._AC_UL320_.jpg\n",
      "https://m.media-amazon.com/images/I/71uzIrue97L._AC_UL320_.jpg\n",
      "https://m.media-amazon.com/images/I/71YXhQ9ZxeL._AC_UL320_.jpg\n",
      "https://m.media-amazon.com/images/I/71bK10f-PYL._AC_UL320_.jpg\n",
      "https://m.media-amazon.com/images/I/91BO5MvIxoL._AC_UL320_.jpg\n",
      "https://m.media-amazon.com/images/I/81qAYkrDAfL._AC_UL320_.jpg\n",
      "https://m.media-amazon.com/images/I/81wjrN0+kGL._AC_UL320_.jpg\n",
      "https://m.media-amazon.com/images/I/71m8OTdQlIL._AC_UL320_.jpg\n",
      "https://m.media-amazon.com/images/I/91Oec9KCTUL._AC_UL320_.jpg\n",
      "https://m.media-amazon.com/images/I/41jpwJuEjKL._AC_UL320_.jpg\n",
      "https://m.media-amazon.com/images/I/718Oin9aTOL._AC_UL320_.jpg\n",
      "https://m.media-amazon.com/images/I/71w4e08h2sL._AC_UL320_.jpg\n",
      "https://m.media-amazon.com/images/I/810pHiR-JUL._AC_UL320_.jpg\n",
      "https://m.media-amazon.com/images/I/81vNzjNkIfL._AC_UL320_.jpg\n",
      "https://m.media-amazon.com/images/I/81oluLHvILL._AC_UL320_.jpg\n",
      "https://m.media-amazon.com/images/I/61w+s3gux1L._AC_UL320_.jpg\n",
      "https://m.media-amazon.com/images/I/81TrdeCa-2L._AC_UL320_.jpg\n",
      "https://m.media-amazon.com/images/I/61I9bhKOM-L._AC_UL320_.jpg\n",
      "https://m.media-amazon.com/images/I/71zve7Po7-L._AC_UL320_.jpg\n",
      "https://m.media-amazon.com/images/I/71Hc6flOyyL._AC_UL320_.jpg\n",
      "https://m.media-amazon.com/images/I/81CKkUmEfxL._AC_UL320_.jpg\n",
      "https://m.media-amazon.com/images/I/710m9+aSDUL._AC_UL320_.jpg\n",
      "https://m.media-amazon.com/images/I/81dwleW363L._AC_UL320_.jpg\n",
      "https://m.media-amazon.com/images/I/81k-v19kKFL._AC_UL320_.jpg\n",
      "https://m.media-amazon.com/images/I/71Fk03EzZPL._AC_UL320_.jpg\n",
      "https://m.media-amazon.com/images/I/611Uj4IofCL._AC_UL320_.jpg\n",
      "https://m.media-amazon.com/images/I/81Wt4tAiCoL._AC_UL320_.jpg\n",
      "https://m.media-amazon.com/images/I/71dtlkmqLDL._AC_UL320_.jpg\n",
      "https://m.media-amazon.com/images/I/51ZZt1XT43L._AC_UL320_.jpg\n",
      "https://m.media-amazon.com/images/I/81eMmicR1mL._AC_UL320_.jpg\n",
      "https://m.media-amazon.com/images/I/71FHTwvvvSL._AC_UL320_.jpg\n",
      "https://m.media-amazon.com/images/I/81BW1qnDZGL._AC_UL320_.jpg\n",
      "https://m.media-amazon.com/images/I/81VCyGN4aaL._AC_UL320_.jpg\n",
      "https://m.media-amazon.com/images/I/81q2BHDG7BL._AC_UL320_.jpg\n",
      "https://m.media-amazon.com/images/I/81onxg5U8vL._AC_UL320_.jpg\n",
      "https://m.media-amazon.com/images/I/81eX01v34CL._AC_UL320_.jpg\n",
      "https://m.media-amazon.com/images/I/71LwmdK7wOL._AC_UL320_.jpg\n",
      "https://m.media-amazon.com/images/I/71eRdJYRagL._AC_UL320_.jpg\n",
      "https://m.media-amazon.com/images/I/81KDixA4OPL._AC_UL320_.jpg\n",
      "https://m.media-amazon.com/images/I/51b-VRz5d-L._AC_UL320_.jpg\n",
      "https://m.media-amazon.com/images/I/81XrwcKrN1L._AC_UL320_.jpg\n"
     ]
    }
   ],
   "source": [
    "urls=[]\n",
    "for image in images:\n",
    "    source= image.get_attribute('src')\n",
    "    urls.append(source)\n",
    "    print(source)"
   ]
  },
  {
   "cell_type": "code",
   "execution_count": 29,
   "metadata": {},
   "outputs": [
    {
     "name": "stdout",
     "output_type": "stream",
     "text": [
      "dowmloading 1 of 60 image from page 6\n",
      "dowmloading 2 of 60 image from page 6\n",
      "dowmloading 3 of 60 image from page 6\n",
      "dowmloading 4 of 60 image from page 6\n",
      "dowmloading 5 of 60 image from page 6\n",
      "dowmloading 6 of 60 image from page 6\n",
      "dowmloading 7 of 60 image from page 6\n",
      "dowmloading 8 of 60 image from page 6\n",
      "dowmloading 9 of 60 image from page 6\n",
      "dowmloading 10 of 60 image from page 6\n",
      "dowmloading 11 of 60 image from page 6\n",
      "dowmloading 12 of 60 image from page 6\n",
      "dowmloading 13 of 60 image from page 6\n",
      "dowmloading 14 of 60 image from page 6\n",
      "dowmloading 15 of 60 image from page 6\n",
      "dowmloading 16 of 60 image from page 6\n",
      "dowmloading 17 of 60 image from page 6\n",
      "dowmloading 18 of 60 image from page 6\n",
      "dowmloading 19 of 60 image from page 6\n",
      "dowmloading 20 of 60 image from page 6\n",
      "dowmloading 21 of 60 image from page 6\n",
      "dowmloading 22 of 60 image from page 6\n",
      "dowmloading 23 of 60 image from page 6\n",
      "dowmloading 24 of 60 image from page 6\n",
      "dowmloading 25 of 60 image from page 6\n",
      "dowmloading 26 of 60 image from page 6\n",
      "dowmloading 27 of 60 image from page 6\n",
      "dowmloading 28 of 60 image from page 6\n",
      "dowmloading 29 of 60 image from page 6\n",
      "dowmloading 30 of 60 image from page 6\n",
      "dowmloading 31 of 60 image from page 6\n",
      "dowmloading 32 of 60 image from page 6\n",
      "dowmloading 33 of 60 image from page 6\n",
      "dowmloading 34 of 60 image from page 6\n",
      "dowmloading 35 of 60 image from page 6\n",
      "dowmloading 36 of 60 image from page 6\n",
      "dowmloading 37 of 60 image from page 6\n",
      "dowmloading 38 of 60 image from page 6\n",
      "dowmloading 39 of 60 image from page 6\n",
      "dowmloading 40 of 60 image from page 6\n",
      "dowmloading 41 of 60 image from page 6\n",
      "dowmloading 42 of 60 image from page 6\n",
      "dowmloading 43 of 60 image from page 6\n",
      "dowmloading 44 of 60 image from page 6\n",
      "dowmloading 45 of 60 image from page 6\n",
      "dowmloading 46 of 60 image from page 6\n",
      "dowmloading 47 of 60 image from page 6\n",
      "dowmloading 48 of 60 image from page 6\n",
      "dowmloading 49 of 60 image from page 6\n",
      "dowmloading 50 of 60 image from page 6\n",
      "dowmloading 51 of 60 image from page 6\n",
      "dowmloading 52 of 60 image from page 6\n",
      "dowmloading 53 of 60 image from page 6\n",
      "dowmloading 54 of 60 image from page 6\n",
      "dowmloading 55 of 60 image from page 6\n",
      "dowmloading 56 of 60 image from page 6\n",
      "dowmloading 57 of 60 image from page 6\n",
      "dowmloading 58 of 60 image from page 6\n",
      "dowmloading 59 of 60 image from page 6\n",
      "dowmloading 60 of 60 image from page 6\n"
     ]
    }
   ],
   "source": [
    "page= 6\n",
    "for index, link in enumerate(urls):\n",
    "    print(\"dowmloading {0} of {1} image from page 6\".format(index+1, len(urls)))\n",
    "    response= requests.get(link)\n",
    "    with open('jeans/img_{0}{1}.jpeg'.format(index, page), \"wb\") as file:\n",
    "        file.write(response.content)"
   ]
  },
  {
   "cell_type": "markdown",
   "metadata": {},
   "source": [
    "## Next page 7"
   ]
  },
  {
   "cell_type": "code",
   "execution_count": 30,
   "metadata": {},
   "outputs": [],
   "source": [
    "np7=driver.find_element_by_xpath(\"//li[@class= 'a-last']//a\").click()"
   ]
  },
  {
   "cell_type": "code",
   "execution_count": 31,
   "metadata": {},
   "outputs": [
    {
     "name": "stdout",
     "output_type": "stream",
     "text": [
      "60\n"
     ]
    }
   ],
   "source": [
    "images= driver.find_elements_by_xpath(\"//img[@class= 's-image']\")\n",
    "print(len(images))"
   ]
  },
  {
   "cell_type": "code",
   "execution_count": 32,
   "metadata": {},
   "outputs": [
    {
     "name": "stdout",
     "output_type": "stream",
     "text": [
      "https://m.media-amazon.com/images/I/613BYR2cUML._AC_UL320_.jpg\n",
      "https://m.media-amazon.com/images/I/91pAZjPkepL._AC_UL320_.jpg\n",
      "https://m.media-amazon.com/images/I/81qnBPWr9dL._AC_UL320_.jpg\n",
      "https://m.media-amazon.com/images/I/81QOFG46pKL._AC_UL320_.jpg\n",
      "https://m.media-amazon.com/images/I/91NTCj6nVDL._AC_UL320_.jpg\n",
      "https://m.media-amazon.com/images/I/817PrvTT7uL._AC_UL320_.jpg\n",
      "https://m.media-amazon.com/images/I/614DDzC4GaL._AC_UL320_.jpg\n",
      "https://m.media-amazon.com/images/I/61cNjjtuFML._AC_UL320_.jpg\n",
      "https://m.media-amazon.com/images/I/81QcbuXUuXL._AC_UL320_.jpg\n",
      "https://m.media-amazon.com/images/I/51ArJkrtqtL._AC_UL320_.jpg\n",
      "https://m.media-amazon.com/images/I/81IhsdG56BL._AC_UL320_.jpg\n",
      "https://m.media-amazon.com/images/I/815mFdgfrVL._AC_UL320_.jpg\n",
      "https://m.media-amazon.com/images/I/61z3xuMbNxL._AC_UL320_.jpg\n",
      "https://m.media-amazon.com/images/I/81EianGL5NL._AC_UL320_.jpg\n",
      "https://m.media-amazon.com/images/I/91-iXD7H0jL._AC_UL320_.jpg\n",
      "https://m.media-amazon.com/images/I/81za3CaaRiL._AC_UL320_.jpg\n",
      "https://m.media-amazon.com/images/I/81rD0Tg5c3L._AC_UL320_.jpg\n",
      "https://m.media-amazon.com/images/I/81Zc2zx5DpL._AC_UL320_.jpg\n",
      "https://m.media-amazon.com/images/I/81MLDfd2gRL._AC_UL320_.jpg\n",
      "https://m.media-amazon.com/images/I/81HzmXLPa6L._AC_UL320_.jpg\n",
      "https://m.media-amazon.com/images/I/81MK6QnHJWL._AC_UL320_.jpg\n",
      "https://m.media-amazon.com/images/I/81lKqK6DpuL._AC_UL320_.jpg\n",
      "https://m.media-amazon.com/images/I/81Z2BLAL5EL._AC_UL320_.jpg\n",
      "https://m.media-amazon.com/images/I/41YnyPAEV7L._AC_UL320_.jpg\n",
      "https://m.media-amazon.com/images/I/61-gTFELl5L._AC_UL320_.jpg\n",
      "https://m.media-amazon.com/images/I/710joaLPLBL._AC_UL320_.jpg\n",
      "https://m.media-amazon.com/images/I/51hBPwqXJ-L._AC_UL320_.jpg\n",
      "https://m.media-amazon.com/images/I/81QScJQXDbL._AC_UL320_.jpg\n",
      "https://m.media-amazon.com/images/I/41jpwJuEjKL._AC_UL320_.jpg\n",
      "https://m.media-amazon.com/images/I/718Oin9aTOL._AC_UL320_.jpg\n",
      "https://m.media-amazon.com/images/I/71w4e08h2sL._AC_UL320_.jpg\n",
      "https://m.media-amazon.com/images/I/810pHiR-JUL._AC_UL320_.jpg\n",
      "https://m.media-amazon.com/images/I/81D2WA+FOzL._AC_UL320_.jpg\n",
      "https://m.media-amazon.com/images/I/71wdCI5n4VL._AC_UL320_.jpg\n",
      "https://m.media-amazon.com/images/I/71LXibrwpEL._AC_UL320_.jpg\n",
      "https://m.media-amazon.com/images/I/81cKD8g2y2L._AC_UL320_.jpg\n",
      "https://m.media-amazon.com/images/I/81IxhGYjdGL._AC_UL320_.jpg\n",
      "https://m.media-amazon.com/images/I/81IsmaHD8XL._AC_UL320_.jpg\n",
      "https://m.media-amazon.com/images/I/81RGyzNpbDL._AC_UL320_.jpg\n",
      "https://m.media-amazon.com/images/I/51iupoiuVgL._AC_UL320_.jpg\n",
      "https://m.media-amazon.com/images/I/81wFZhW9nyL._AC_UL320_.jpg\n",
      "https://m.media-amazon.com/images/I/71obwsKoU-L._AC_UL320_.jpg\n",
      "https://m.media-amazon.com/images/I/61PVjUkg4zL._AC_UL320_.jpg\n",
      "https://m.media-amazon.com/images/I/81wxTsoIi5L._AC_UL320_.jpg\n",
      "https://m.media-amazon.com/images/I/81Mn7pji9kL._AC_UL320_.jpg\n",
      "https://m.media-amazon.com/images/I/71DoPvAGdjL._AC_UL320_.jpg\n",
      "https://m.media-amazon.com/images/I/71LU7gW+LpL._AC_UL320_.jpg\n",
      "https://m.media-amazon.com/images/I/81y6j5xp5ML._AC_UL320_.jpg\n",
      "https://m.media-amazon.com/images/I/718KQUJ-SSL._AC_UL320_.jpg\n",
      "https://m.media-amazon.com/images/I/71rXi12cbmL._AC_UL320_.jpg\n",
      "https://m.media-amazon.com/images/I/61+RconMOhL._AC_UL320_.jpg\n",
      "https://m.media-amazon.com/images/I/81z-Gsi1bOL._AC_UL320_.jpg\n",
      "https://m.media-amazon.com/images/I/71zv-SFBRwL._AC_UL320_.jpg\n",
      "https://m.media-amazon.com/images/I/71DVPRO38JL._AC_UL320_.jpg\n",
      "https://m.media-amazon.com/images/I/911h1Si2ywL._AC_UL320_.jpg\n",
      "https://m.media-amazon.com/images/I/81JDkTqphKL._AC_UL320_.jpg\n",
      "https://m.media-amazon.com/images/I/71eRdJYRagL._AC_UL320_.jpg\n",
      "https://m.media-amazon.com/images/I/81KDixA4OPL._AC_UL320_.jpg\n",
      "https://m.media-amazon.com/images/I/51b-VRz5d-L._AC_UL320_.jpg\n",
      "https://m.media-amazon.com/images/I/81XrwcKrN1L._AC_UL320_.jpg\n"
     ]
    }
   ],
   "source": [
    "urls=[]\n",
    "for image in images:\n",
    "    source= image.get_attribute('src')\n",
    "    urls.append(source)\n",
    "    print(source)"
   ]
  },
  {
   "cell_type": "code",
   "execution_count": 33,
   "metadata": {},
   "outputs": [
    {
     "name": "stdout",
     "output_type": "stream",
     "text": [
      "dowmloading 1 of 60 image from page 7\n",
      "dowmloading 2 of 60 image from page 7\n",
      "dowmloading 3 of 60 image from page 7\n",
      "dowmloading 4 of 60 image from page 7\n",
      "dowmloading 5 of 60 image from page 7\n",
      "dowmloading 6 of 60 image from page 7\n",
      "dowmloading 7 of 60 image from page 7\n",
      "dowmloading 8 of 60 image from page 7\n",
      "dowmloading 9 of 60 image from page 7\n",
      "dowmloading 10 of 60 image from page 7\n",
      "dowmloading 11 of 60 image from page 7\n",
      "dowmloading 12 of 60 image from page 7\n",
      "dowmloading 13 of 60 image from page 7\n",
      "dowmloading 14 of 60 image from page 7\n",
      "dowmloading 15 of 60 image from page 7\n",
      "dowmloading 16 of 60 image from page 7\n",
      "dowmloading 17 of 60 image from page 7\n",
      "dowmloading 18 of 60 image from page 7\n",
      "dowmloading 19 of 60 image from page 7\n",
      "dowmloading 20 of 60 image from page 7\n",
      "dowmloading 21 of 60 image from page 7\n",
      "dowmloading 22 of 60 image from page 7\n",
      "dowmloading 23 of 60 image from page 7\n",
      "dowmloading 24 of 60 image from page 7\n",
      "dowmloading 25 of 60 image from page 7\n",
      "dowmloading 26 of 60 image from page 7\n",
      "dowmloading 27 of 60 image from page 7\n",
      "dowmloading 28 of 60 image from page 7\n",
      "dowmloading 29 of 60 image from page 7\n",
      "dowmloading 30 of 60 image from page 7\n",
      "dowmloading 31 of 60 image from page 7\n",
      "dowmloading 32 of 60 image from page 7\n",
      "dowmloading 33 of 60 image from page 7\n",
      "dowmloading 34 of 60 image from page 7\n",
      "dowmloading 35 of 60 image from page 7\n",
      "dowmloading 36 of 60 image from page 7\n",
      "dowmloading 37 of 60 image from page 7\n",
      "dowmloading 38 of 60 image from page 7\n",
      "dowmloading 39 of 60 image from page 7\n",
      "dowmloading 40 of 60 image from page 7\n",
      "dowmloading 41 of 60 image from page 7\n",
      "dowmloading 42 of 60 image from page 7\n",
      "dowmloading 43 of 60 image from page 7\n",
      "dowmloading 44 of 60 image from page 7\n",
      "dowmloading 45 of 60 image from page 7\n",
      "dowmloading 46 of 60 image from page 7\n",
      "dowmloading 47 of 60 image from page 7\n",
      "dowmloading 48 of 60 image from page 7\n",
      "dowmloading 49 of 60 image from page 7\n",
      "dowmloading 50 of 60 image from page 7\n",
      "dowmloading 51 of 60 image from page 7\n",
      "dowmloading 52 of 60 image from page 7\n",
      "dowmloading 53 of 60 image from page 7\n",
      "dowmloading 54 of 60 image from page 7\n",
      "dowmloading 55 of 60 image from page 7\n",
      "dowmloading 56 of 60 image from page 7\n",
      "dowmloading 57 of 60 image from page 7\n",
      "dowmloading 58 of 60 image from page 7\n",
      "dowmloading 59 of 60 image from page 7\n",
      "dowmloading 60 of 60 image from page 7\n"
     ]
    }
   ],
   "source": [
    "page= 7\n",
    "for index, link in enumerate(urls):\n",
    "    print(\"dowmloading {0} of {1} image from page 7\".format(index+1, len(urls)))\n",
    "    response= requests.get(link)\n",
    "    with open('jeans/img_{0}{1}.jpeg'.format(index, page), \"wb\") as file:\n",
    "        file.write(response.content)"
   ]
  },
  {
   "cell_type": "markdown",
   "metadata": {},
   "source": [
    "## Next page 8"
   ]
  },
  {
   "cell_type": "code",
   "execution_count": 34,
   "metadata": {},
   "outputs": [],
   "source": [
    "np8=driver.find_element_by_xpath(\"//li[@class= 'a-last']//a\").click()"
   ]
  },
  {
   "cell_type": "code",
   "execution_count": 35,
   "metadata": {},
   "outputs": [
    {
     "name": "stdout",
     "output_type": "stream",
     "text": [
      "60\n"
     ]
    }
   ],
   "source": [
    "images= driver.find_elements_by_xpath(\"//img[@class= 's-image']\")\n",
    "print(len(images))"
   ]
  },
  {
   "cell_type": "code",
   "execution_count": 36,
   "metadata": {},
   "outputs": [
    {
     "name": "stdout",
     "output_type": "stream",
     "text": [
      "https://m.media-amazon.com/images/I/613BYR2cUML._AC_UL320_.jpg\n",
      "https://m.media-amazon.com/images/I/91pAZjPkepL._AC_UL320_.jpg\n",
      "https://m.media-amazon.com/images/I/81qnBPWr9dL._AC_UL320_.jpg\n",
      "https://m.media-amazon.com/images/I/81QOFG46pKL._AC_UL320_.jpg\n",
      "https://m.media-amazon.com/images/I/51hsffEnAAL._AC_UL320_.jpg\n",
      "https://m.media-amazon.com/images/I/81Y-d-P+nSL._AC_UL320_.jpg\n",
      "https://m.media-amazon.com/images/I/8131SGKKwAL._AC_UL320_.jpg\n",
      "https://m.media-amazon.com/images/I/61DPshLseLL._AC_UL320_.jpg\n",
      "https://m.media-amazon.com/images/I/81R1sbiIMDL._AC_UL320_.jpg\n",
      "https://m.media-amazon.com/images/I/81xNJ+TVXFL._AC_UL320_.jpg\n",
      "https://m.media-amazon.com/images/I/61lEfWmJ-nL._AC_UL320_.jpg\n",
      "https://m.media-amazon.com/images/I/41T4kJk9McL._AC_UL320_.jpg\n",
      "https://m.media-amazon.com/images/I/51Wb-I98ogL._AC_UL320_.jpg\n",
      "https://m.media-amazon.com/images/I/41lacwsOLAL._AC_UL320_.jpg\n",
      "https://m.media-amazon.com/images/I/81y+01WxbTL._AC_UL320_.jpg\n",
      "https://m.media-amazon.com/images/I/81fAJEbD9QL._AC_UL320_.jpg\n",
      "https://m.media-amazon.com/images/I/81J5lbQQ4fL._AC_UL320_.jpg\n",
      "https://m.media-amazon.com/images/I/71nCryfx-sL._AC_UL320_.jpg\n",
      "https://m.media-amazon.com/images/I/812KTl4iZhL._AC_UL320_.jpg\n",
      "https://m.media-amazon.com/images/I/81gnJ1kUbFL._AC_UL320_.jpg\n",
      "https://m.media-amazon.com/images/I/91MLqoH+OFL._AC_UL320_.jpg\n",
      "https://m.media-amazon.com/images/I/81lKqK6DpuL._AC_UL320_.jpg\n",
      "https://m.media-amazon.com/images/I/91xq+CQzawL._AC_UL320_.jpg\n",
      "https://m.media-amazon.com/images/I/71ff171MHlL._AC_UL320_.jpg\n",
      "https://m.media-amazon.com/images/I/71EeXy4NpJL._AC_UL320_.jpg\n",
      "https://m.media-amazon.com/images/I/71TPfz4adjL._AC_UL320_.jpg\n",
      "https://m.media-amazon.com/images/I/81w45dK9DfL._AC_UL320_.jpg\n",
      "https://m.media-amazon.com/images/I/813l5knz9yL._AC_UL320_.jpg\n",
      "https://m.media-amazon.com/images/I/41jpwJuEjKL._AC_UL320_.jpg\n",
      "https://m.media-amazon.com/images/I/718Oin9aTOL._AC_UL320_.jpg\n",
      "https://m.media-amazon.com/images/I/71w4e08h2sL._AC_UL320_.jpg\n",
      "https://m.media-amazon.com/images/I/810pHiR-JUL._AC_UL320_.jpg\n",
      "https://m.media-amazon.com/images/I/717ngCAmMSL._AC_UL320_.jpg\n",
      "https://m.media-amazon.com/images/I/71GeRS1RjKL._AC_UL320_.jpg\n",
      "https://m.media-amazon.com/images/I/81r32ngQ5jL._AC_UL320_.jpg\n",
      "https://m.media-amazon.com/images/I/81v49uE6JWL._AC_UL320_.jpg\n",
      "https://m.media-amazon.com/images/I/71QgQ+N63ZL._AC_UL320_.jpg\n",
      "https://m.media-amazon.com/images/I/91rJoNQn9RL._AC_UL320_.jpg\n",
      "https://m.media-amazon.com/images/I/61xg9CpjNjL._AC_UL320_.jpg\n",
      "https://m.media-amazon.com/images/I/71hmGf6WBiL._AC_UL320_.jpg\n",
      "https://m.media-amazon.com/images/I/51WvG7jSlrL._AC_UL320_.jpg\n",
      "https://m.media-amazon.com/images/I/81nHPqq30HL._AC_UL320_.jpg\n",
      "https://m.media-amazon.com/images/I/71lC1lVLA2L._AC_UL320_.jpg\n",
      "https://m.media-amazon.com/images/I/81Kaow41f-L._AC_UL320_.jpg\n",
      "https://m.media-amazon.com/images/I/81JNqy6nEQL._AC_UL320_.jpg\n",
      "https://m.media-amazon.com/images/I/81E+nUJ8VZL._AC_UL320_.jpg\n",
      "https://m.media-amazon.com/images/I/8145sGvCf0L._AC_UL320_.jpg\n",
      "https://m.media-amazon.com/images/I/81xy501HtDL._AC_UL320_.jpg\n",
      "https://m.media-amazon.com/images/I/71jEY0C-rXL._AC_UL320_.jpg\n",
      "https://m.media-amazon.com/images/I/817ew2dAg6L._AC_UL320_.jpg\n",
      "https://m.media-amazon.com/images/I/81VUT-rq8ZL._AC_UL320_.jpg\n",
      "https://m.media-amazon.com/images/I/71eRdJYRagL._AC_UL320_.jpg\n",
      "https://m.media-amazon.com/images/I/81XrwcKrN1L._AC_UL320_.jpg\n",
      "https://m.media-amazon.com/images/I/81ikkmd119L._AC_UL320_.jpg\n",
      "https://m.media-amazon.com/images/I/81ikkmd119L._AC_UL320_.jpg\n",
      "https://m.media-amazon.com/images/I/81iNC4c6U+L._AC_UL320_.jpg\n",
      "https://m.media-amazon.com/images/I/71eRdJYRagL._AC_UL320_.jpg\n",
      "https://m.media-amazon.com/images/I/81KDixA4OPL._AC_UL320_.jpg\n",
      "https://m.media-amazon.com/images/I/51b-VRz5d-L._AC_UL320_.jpg\n",
      "https://m.media-amazon.com/images/I/81XrwcKrN1L._AC_UL320_.jpg\n"
     ]
    }
   ],
   "source": [
    "urls=[]\n",
    "for image in images:\n",
    "    source= image.get_attribute('src')\n",
    "    urls.append(source)\n",
    "    print(source)"
   ]
  },
  {
   "cell_type": "code",
   "execution_count": 37,
   "metadata": {},
   "outputs": [
    {
     "name": "stdout",
     "output_type": "stream",
     "text": [
      "dowmloading 1 of 60 image from page 8\n",
      "dowmloading 2 of 60 image from page 8\n",
      "dowmloading 3 of 60 image from page 8\n",
      "dowmloading 4 of 60 image from page 8\n",
      "dowmloading 5 of 60 image from page 8\n",
      "dowmloading 6 of 60 image from page 8\n",
      "dowmloading 7 of 60 image from page 8\n",
      "dowmloading 8 of 60 image from page 8\n",
      "dowmloading 9 of 60 image from page 8\n",
      "dowmloading 10 of 60 image from page 8\n",
      "dowmloading 11 of 60 image from page 8\n",
      "dowmloading 12 of 60 image from page 8\n",
      "dowmloading 13 of 60 image from page 8\n",
      "dowmloading 14 of 60 image from page 8\n",
      "dowmloading 15 of 60 image from page 8\n",
      "dowmloading 16 of 60 image from page 8\n",
      "dowmloading 17 of 60 image from page 8\n",
      "dowmloading 18 of 60 image from page 8\n",
      "dowmloading 19 of 60 image from page 8\n",
      "dowmloading 20 of 60 image from page 8\n",
      "dowmloading 21 of 60 image from page 8\n",
      "dowmloading 22 of 60 image from page 8\n",
      "dowmloading 23 of 60 image from page 8\n",
      "dowmloading 24 of 60 image from page 8\n",
      "dowmloading 25 of 60 image from page 8\n",
      "dowmloading 26 of 60 image from page 8\n",
      "dowmloading 27 of 60 image from page 8\n",
      "dowmloading 28 of 60 image from page 8\n",
      "dowmloading 29 of 60 image from page 8\n",
      "dowmloading 30 of 60 image from page 8\n",
      "dowmloading 31 of 60 image from page 8\n",
      "dowmloading 32 of 60 image from page 8\n",
      "dowmloading 33 of 60 image from page 8\n",
      "dowmloading 34 of 60 image from page 8\n",
      "dowmloading 35 of 60 image from page 8\n",
      "dowmloading 36 of 60 image from page 8\n",
      "dowmloading 37 of 60 image from page 8\n",
      "dowmloading 38 of 60 image from page 8\n",
      "dowmloading 39 of 60 image from page 8\n",
      "dowmloading 40 of 60 image from page 8\n",
      "dowmloading 41 of 60 image from page 8\n",
      "dowmloading 42 of 60 image from page 8\n",
      "dowmloading 43 of 60 image from page 8\n",
      "dowmloading 44 of 60 image from page 8\n",
      "dowmloading 45 of 60 image from page 8\n",
      "dowmloading 46 of 60 image from page 8\n",
      "dowmloading 47 of 60 image from page 8\n",
      "dowmloading 48 of 60 image from page 8\n",
      "dowmloading 49 of 60 image from page 8\n",
      "dowmloading 50 of 60 image from page 8\n",
      "dowmloading 51 of 60 image from page 8\n",
      "dowmloading 52 of 60 image from page 8\n",
      "dowmloading 53 of 60 image from page 8\n",
      "dowmloading 54 of 60 image from page 8\n",
      "dowmloading 55 of 60 image from page 8\n",
      "dowmloading 56 of 60 image from page 8\n",
      "dowmloading 57 of 60 image from page 8\n",
      "dowmloading 58 of 60 image from page 8\n",
      "dowmloading 59 of 60 image from page 8\n",
      "dowmloading 60 of 60 image from page 8\n"
     ]
    }
   ],
   "source": [
    "page= 8\n",
    "for index, link in enumerate(urls):\n",
    "    print(\"dowmloading {0} of {1} image from page 8\".format(index+1, len(urls)))\n",
    "    response= requests.get(link)\n",
    "    with open('jeans/img_{0}{1}.jpeg'.format(index, page), \"wb\") as file:\n",
    "        file.write(response.content)"
   ]
  },
  {
   "cell_type": "code",
   "execution_count": null,
   "metadata": {},
   "outputs": [],
   "source": []
  }
 ],
 "metadata": {
  "kernelspec": {
   "display_name": "Python 3",
   "language": "python",
   "name": "python3"
  },
  "language_info": {
   "codemirror_mode": {
    "name": "ipython",
    "version": 3
   },
   "file_extension": ".py",
   "mimetype": "text/x-python",
   "name": "python",
   "nbconvert_exporter": "python",
   "pygments_lexer": "ipython3",
   "version": "3.8.5"
  }
 },
 "nbformat": 4,
 "nbformat_minor": 4
}
